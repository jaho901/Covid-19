{
 "cells": [
  {
   "cell_type": "markdown",
   "id": "needed-xerox",
   "metadata": {},
   "source": [
    "<br>\n",
    "\n",
    "# 1. 데이터 탐색\n",
    "\n",
    "**데이터 셋 조회 및 내용 탐색**"
   ]
  },
  {
   "cell_type": "code",
   "execution_count": 1,
   "id": "bulgarian-canyon",
   "metadata": {},
   "outputs": [],
   "source": [
    "import numpy as np\n",
    "import pandas as pd"
   ]
  },
  {
   "cell_type": "code",
   "execution_count": 2,
   "id": "judicial-aspect",
   "metadata": {},
   "outputs": [],
   "source": [
    "import warnings\n",
    "\n",
    "warnings.filterwarnings(action='ignore')\n",
    "#  warnings.filterwarnings(action='default')"
   ]
  },
  {
   "cell_type": "code",
   "execution_count": 3,
   "id": "therapeutic-accounting",
   "metadata": {},
   "outputs": [],
   "source": [
    "data = pd.read_csv(\"Busan_Covid-19.csv\")"
   ]
  },
  {
   "cell_type": "code",
   "execution_count": 4,
   "id": "vanilla-philadelphia",
   "metadata": {},
   "outputs": [
    {
     "data": {
      "text/html": [
       "<div>\n",
       "<style scoped>\n",
       "    .dataframe tbody tr th:only-of-type {\n",
       "        vertical-align: middle;\n",
       "    }\n",
       "\n",
       "    .dataframe tbody tr th {\n",
       "        vertical-align: top;\n",
       "    }\n",
       "\n",
       "    .dataframe thead th {\n",
       "        text-align: right;\n",
       "    }\n",
       "</style>\n",
       "<table border=\"1\" class=\"dataframe\">\n",
       "  <thead>\n",
       "    <tr style=\"text-align: right;\">\n",
       "      <th></th>\n",
       "      <th>date</th>\n",
       "      <th>day</th>\n",
       "      <th>total_coronic</th>\n",
       "      <th>new_coronic</th>\n",
       "      <th>total_be_cured</th>\n",
       "      <th>deceased</th>\n",
       "      <th>total_negative</th>\n",
       "      <th>isolated</th>\n",
       "      <th>total_released</th>\n",
       "    </tr>\n",
       "  </thead>\n",
       "  <tbody>\n",
       "    <tr>\n",
       "      <th>0</th>\n",
       "      <td>2021-02-06</td>\n",
       "      <td>토</td>\n",
       "      <td>2,879</td>\n",
       "      <td>11</td>\n",
       "      <td>2,445</td>\n",
       "      <td>96</td>\n",
       "      <td>313,750</td>\n",
       "      <td>5,281</td>\n",
       "      <td>96,416</td>\n",
       "    </tr>\n",
       "    <tr>\n",
       "      <th>1</th>\n",
       "      <td>2021-02-05</td>\n",
       "      <td>금</td>\n",
       "      <td>2,868</td>\n",
       "      <td>15</td>\n",
       "      <td>2,409</td>\n",
       "      <td>96</td>\n",
       "      <td>310,850</td>\n",
       "      <td>5,275</td>\n",
       "      <td>95,983</td>\n",
       "    </tr>\n",
       "    <tr>\n",
       "      <th>2</th>\n",
       "      <td>2021-02-04</td>\n",
       "      <td>목</td>\n",
       "      <td>2,853</td>\n",
       "      <td>34</td>\n",
       "      <td>2,386</td>\n",
       "      <td>96</td>\n",
       "      <td>308,964</td>\n",
       "      <td>5,289</td>\n",
       "      <td>95,570</td>\n",
       "    </tr>\n",
       "    <tr>\n",
       "      <th>3</th>\n",
       "      <td>2021-02-03</td>\n",
       "      <td>수</td>\n",
       "      <td>2,819</td>\n",
       "      <td>24</td>\n",
       "      <td>2,366</td>\n",
       "      <td>95</td>\n",
       "      <td>306,300</td>\n",
       "      <td>5,273</td>\n",
       "      <td>95,246</td>\n",
       "    </tr>\n",
       "    <tr>\n",
       "      <th>4</th>\n",
       "      <td>2021-02-02</td>\n",
       "      <td>화</td>\n",
       "      <td>2,795</td>\n",
       "      <td>21</td>\n",
       "      <td>2,339</td>\n",
       "      <td>94</td>\n",
       "      <td>304,772</td>\n",
       "      <td>5,269</td>\n",
       "      <td>94,753</td>\n",
       "    </tr>\n",
       "    <tr>\n",
       "      <th>...</th>\n",
       "      <td>...</td>\n",
       "      <td>...</td>\n",
       "      <td>...</td>\n",
       "      <td>...</td>\n",
       "      <td>...</td>\n",
       "      <td>...</td>\n",
       "      <td>...</td>\n",
       "      <td>...</td>\n",
       "      <td>...</td>\n",
       "    </tr>\n",
       "    <tr>\n",
       "      <th>347</th>\n",
       "      <td>2020-02-25</td>\n",
       "      <td>화</td>\n",
       "      <td>51</td>\n",
       "      <td>13</td>\n",
       "      <td>0</td>\n",
       "      <td>0</td>\n",
       "      <td>1,823</td>\n",
       "      <td>618</td>\n",
       "      <td>21</td>\n",
       "    </tr>\n",
       "    <tr>\n",
       "      <th>348</th>\n",
       "      <td>2020-02-24</td>\n",
       "      <td>월</td>\n",
       "      <td>38</td>\n",
       "      <td>22</td>\n",
       "      <td>0</td>\n",
       "      <td>0</td>\n",
       "      <td>1,499</td>\n",
       "      <td>263</td>\n",
       "      <td>22</td>\n",
       "    </tr>\n",
       "    <tr>\n",
       "      <th>349</th>\n",
       "      <td>2020-02-23</td>\n",
       "      <td>일</td>\n",
       "      <td>16</td>\n",
       "      <td>11</td>\n",
       "      <td>0</td>\n",
       "      <td>0</td>\n",
       "      <td>1,076</td>\n",
       "      <td>145</td>\n",
       "      <td>15</td>\n",
       "    </tr>\n",
       "    <tr>\n",
       "      <th>350</th>\n",
       "      <td>2020-02-22</td>\n",
       "      <td>토</td>\n",
       "      <td>5</td>\n",
       "      <td>3</td>\n",
       "      <td>0</td>\n",
       "      <td>0</td>\n",
       "      <td>1,092</td>\n",
       "      <td>115</td>\n",
       "      <td>15</td>\n",
       "    </tr>\n",
       "    <tr>\n",
       "      <th>351</th>\n",
       "      <td>2020-02-21</td>\n",
       "      <td>금</td>\n",
       "      <td>2</td>\n",
       "      <td>2</td>\n",
       "      <td>0</td>\n",
       "      <td>0</td>\n",
       "      <td>613</td>\n",
       "      <td>15</td>\n",
       "      <td>15</td>\n",
       "    </tr>\n",
       "  </tbody>\n",
       "</table>\n",
       "<p>352 rows × 9 columns</p>\n",
       "</div>"
      ],
      "text/plain": [
       "           date day total_coronic  new_coronic total_be_cured  deceased  \\\n",
       "0    2021-02-06   토         2,879           11          2,445        96   \n",
       "1    2021-02-05   금         2,868           15          2,409        96   \n",
       "2    2021-02-04   목         2,853           34          2,386        96   \n",
       "3    2021-02-03   수         2,819           24          2,366        95   \n",
       "4    2021-02-02   화         2,795           21          2,339        94   \n",
       "..          ...  ..           ...          ...            ...       ...   \n",
       "347  2020-02-25   화            51           13              0         0   \n",
       "348  2020-02-24   월            38           22              0         0   \n",
       "349  2020-02-23   일            16           11              0         0   \n",
       "350  2020-02-22   토             5            3              0         0   \n",
       "351  2020-02-21   금             2            2              0         0   \n",
       "\n",
       "    total_negative isolated total_released  \n",
       "0          313,750    5,281         96,416  \n",
       "1          310,850    5,275         95,983  \n",
       "2          308,964    5,289         95,570  \n",
       "3          306,300    5,273         95,246  \n",
       "4          304,772    5,269         94,753  \n",
       "..             ...      ...            ...  \n",
       "347          1,823      618             21  \n",
       "348          1,499      263             22  \n",
       "349          1,076      145             15  \n",
       "350          1,092      115             15  \n",
       "351            613       15             15  \n",
       "\n",
       "[352 rows x 9 columns]"
      ]
     },
     "execution_count": 4,
     "metadata": {},
     "output_type": "execute_result"
    }
   ],
   "source": [
    "data"
   ]
  },
  {
   "cell_type": "code",
   "execution_count": 5,
   "id": "lasting-synthesis",
   "metadata": {},
   "outputs": [
    {
     "name": "stdout",
     "output_type": "stream",
     "text": [
      "(352, 9)\n",
      "<class 'pandas.core.frame.DataFrame'>\n",
      "RangeIndex: 352 entries, 0 to 351\n",
      "Data columns (total 9 columns):\n",
      " #   Column          Non-Null Count  Dtype \n",
      "---  ------          --------------  ----- \n",
      " 0   date            352 non-null    object\n",
      " 1   day             352 non-null    object\n",
      " 2   total_coronic   352 non-null    object\n",
      " 3   new_coronic     352 non-null    int64 \n",
      " 4   total_be_cured  352 non-null    object\n",
      " 5   deceased        352 non-null    int64 \n",
      " 6   total_negative  352 non-null    object\n",
      " 7   isolated        352 non-null    object\n",
      " 8   total_released  352 non-null    object\n",
      "dtypes: int64(2), object(7)\n",
      "memory usage: 24.9+ KB\n"
     ]
    }
   ],
   "source": [
    "print(data.shape)\n",
    "data.info()"
   ]
  },
  {
   "cell_type": "code",
   "execution_count": 6,
   "id": "damaged-regression",
   "metadata": {
    "scrolled": false
   },
   "outputs": [
    {
     "data": {
      "text/plain": [
       "date              object\n",
       "day               object\n",
       "total_coronic     object\n",
       "new_coronic        int64\n",
       "total_be_cured    object\n",
       "deceased           int64\n",
       "total_negative    object\n",
       "isolated          object\n",
       "total_released    object\n",
       "dtype: object"
      ]
     },
     "execution_count": 6,
     "metadata": {},
     "output_type": "execute_result"
    }
   ],
   "source": [
    "data.dtypes"
   ]
  },
  {
   "cell_type": "markdown",
   "id": "painted-montgomery",
   "metadata": {},
   "source": [
    "<br>\n",
    "\n",
    "# 2. Missing Value & NA\n",
    "\n",
    "**각각의 변수 중에 결측치가 존재할 시 처리 및 제거**"
   ]
  },
  {
   "cell_type": "code",
   "execution_count": 7,
   "id": "continent-assumption",
   "metadata": {},
   "outputs": [
    {
     "data": {
      "text/plain": [
       "date              0\n",
       "day               0\n",
       "total_coronic     0\n",
       "new_coronic       0\n",
       "total_be_cured    0\n",
       "deceased          0\n",
       "total_negative    0\n",
       "isolated          0\n",
       "total_released    0\n",
       "dtype: int64"
      ]
     },
     "execution_count": 7,
     "metadata": {},
     "output_type": "execute_result"
    }
   ],
   "source": [
    "data.isnull().sum()"
   ]
  },
  {
   "cell_type": "code",
   "execution_count": 8,
   "id": "indirect-boring",
   "metadata": {},
   "outputs": [
    {
     "data": {
      "text/plain": [
       "date              0\n",
       "day               0\n",
       "total_coronic     0\n",
       "new_coronic       0\n",
       "total_be_cured    0\n",
       "deceased          0\n",
       "total_negative    0\n",
       "isolated          0\n",
       "total_released    0\n",
       "dtype: int64"
      ]
     },
     "execution_count": 8,
     "metadata": {},
     "output_type": "execute_result"
    }
   ],
   "source": [
    "data.isna().sum()"
   ]
  },
  {
   "cell_type": "markdown",
   "id": "geographic-bargain",
   "metadata": {},
   "source": [
    "데이터 셋에 결측치 및 NA값 모두 존재하지 않음을 알 수 있다."
   ]
  },
  {
   "cell_type": "markdown",
   "id": "handy-comparison",
   "metadata": {},
   "source": [
    " "
   ]
  },
  {
   "cell_type": "markdown",
   "id": "weird-announcement",
   "metadata": {},
   "source": [
    "<br>\n",
    "\n",
    "# 3. Type Conversion\n",
    "\n",
    "**각각의 변수 타입에 맞게 모두 변환**"
   ]
  },
  {
   "cell_type": "code",
   "execution_count": 9,
   "id": "built-angle",
   "metadata": {},
   "outputs": [
    {
     "data": {
      "text/plain": [
       "day\n",
       "금    51\n",
       "목    50\n",
       "수    50\n",
       "월    50\n",
       "일    50\n",
       "토    51\n",
       "화    50\n",
       "dtype: int64"
      ]
     },
     "execution_count": 9,
     "metadata": {},
     "output_type": "execute_result"
    }
   ],
   "source": [
    "data.groupby('day').size()"
   ]
  },
  {
   "cell_type": "code",
   "execution_count": 10,
   "id": "associate-leader",
   "metadata": {},
   "outputs": [
    {
     "data": {
      "text/html": [
       "<div>\n",
       "<style scoped>\n",
       "    .dataframe tbody tr th:only-of-type {\n",
       "        vertical-align: middle;\n",
       "    }\n",
       "\n",
       "    .dataframe tbody tr th {\n",
       "        vertical-align: top;\n",
       "    }\n",
       "\n",
       "    .dataframe thead th {\n",
       "        text-align: right;\n",
       "    }\n",
       "</style>\n",
       "<table border=\"1\" class=\"dataframe\">\n",
       "  <thead>\n",
       "    <tr style=\"text-align: right;\">\n",
       "      <th></th>\n",
       "      <th>date</th>\n",
       "      <th>day</th>\n",
       "    </tr>\n",
       "  </thead>\n",
       "  <tbody>\n",
       "    <tr>\n",
       "      <th>0</th>\n",
       "      <td>2021-02-06</td>\n",
       "      <td>토</td>\n",
       "    </tr>\n",
       "    <tr>\n",
       "      <th>1</th>\n",
       "      <td>2021-02-05</td>\n",
       "      <td>금</td>\n",
       "    </tr>\n",
       "    <tr>\n",
       "      <th>2</th>\n",
       "      <td>2021-02-04</td>\n",
       "      <td>목</td>\n",
       "    </tr>\n",
       "    <tr>\n",
       "      <th>3</th>\n",
       "      <td>2021-02-03</td>\n",
       "      <td>수</td>\n",
       "    </tr>\n",
       "    <tr>\n",
       "      <th>4</th>\n",
       "      <td>2021-02-02</td>\n",
       "      <td>화</td>\n",
       "    </tr>\n",
       "    <tr>\n",
       "      <th>...</th>\n",
       "      <td>...</td>\n",
       "      <td>...</td>\n",
       "    </tr>\n",
       "    <tr>\n",
       "      <th>347</th>\n",
       "      <td>2020-02-25</td>\n",
       "      <td>화</td>\n",
       "    </tr>\n",
       "    <tr>\n",
       "      <th>348</th>\n",
       "      <td>2020-02-24</td>\n",
       "      <td>월</td>\n",
       "    </tr>\n",
       "    <tr>\n",
       "      <th>349</th>\n",
       "      <td>2020-02-23</td>\n",
       "      <td>일</td>\n",
       "    </tr>\n",
       "    <tr>\n",
       "      <th>350</th>\n",
       "      <td>2020-02-22</td>\n",
       "      <td>토</td>\n",
       "    </tr>\n",
       "    <tr>\n",
       "      <th>351</th>\n",
       "      <td>2020-02-21</td>\n",
       "      <td>금</td>\n",
       "    </tr>\n",
       "  </tbody>\n",
       "</table>\n",
       "<p>352 rows × 2 columns</p>\n",
       "</div>"
      ],
      "text/plain": [
       "           date day\n",
       "0    2021-02-06   토\n",
       "1    2021-02-05   금\n",
       "2    2021-02-04   목\n",
       "3    2021-02-03   수\n",
       "4    2021-02-02   화\n",
       "..          ...  ..\n",
       "347  2020-02-25   화\n",
       "348  2020-02-24   월\n",
       "349  2020-02-23   일\n",
       "350  2020-02-22   토\n",
       "351  2020-02-21   금\n",
       "\n",
       "[352 rows x 2 columns]"
      ]
     },
     "execution_count": 10,
     "metadata": {},
     "output_type": "execute_result"
    }
   ],
   "source": [
    "data1 = data[['date', 'day']]\n",
    "data1"
   ]
  },
  {
   "cell_type": "code",
   "execution_count": 11,
   "id": "seven-jewel",
   "metadata": {},
   "outputs": [],
   "source": [
    "data1 = data1.astype(str)"
   ]
  },
  {
   "cell_type": "code",
   "execution_count": 12,
   "id": "different-wrapping",
   "metadata": {
    "scrolled": false
   },
   "outputs": [
    {
     "data": {
      "text/plain": [
       "date    object\n",
       "day     object\n",
       "dtype: object"
      ]
     },
     "execution_count": 12,
     "metadata": {},
     "output_type": "execute_result"
    }
   ],
   "source": [
    "data1.dtypes"
   ]
  },
  {
   "cell_type": "code",
   "execution_count": 13,
   "id": "compatible-occasions",
   "metadata": {
    "scrolled": false
   },
   "outputs": [
    {
     "data": {
      "text/plain": [
       "0      2,879\n",
       "1      2,868\n",
       "2      2,853\n",
       "3      2,819\n",
       "4      2,795\n",
       "       ...  \n",
       "347       51\n",
       "348       38\n",
       "349       16\n",
       "350        5\n",
       "351        2\n",
       "Name: total_coronic, Length: 352, dtype: object"
      ]
     },
     "execution_count": 13,
     "metadata": {},
     "output_type": "execute_result"
    }
   ],
   "source": [
    "data2 = data.iloc[:, 2]\n",
    "data2"
   ]
  },
  {
   "cell_type": "code",
   "execution_count": 14,
   "id": "derived-conspiracy",
   "metadata": {},
   "outputs": [
    {
     "data": {
      "text/plain": [
       "0      2879\n",
       "1      2868\n",
       "2      2853\n",
       "3      2819\n",
       "4      2795\n",
       "       ... \n",
       "347      51\n",
       "348      38\n",
       "349      16\n",
       "350       5\n",
       "351       2\n",
       "Name: total_coronic, Length: 352, dtype: int64"
      ]
     },
     "execution_count": 14,
     "metadata": {},
     "output_type": "execute_result"
    }
   ],
   "source": [
    "data2 = data2.str.replace(',','').astype('int64')\n",
    "data2 = data2.apply(pd.to_numeric)\n",
    "data2"
   ]
  },
  {
   "cell_type": "code",
   "execution_count": 15,
   "id": "robust-chain",
   "metadata": {},
   "outputs": [
    {
     "data": {
      "text/plain": [
       "0      11\n",
       "1      15\n",
       "2      34\n",
       "3      24\n",
       "4      21\n",
       "       ..\n",
       "347    13\n",
       "348    22\n",
       "349    11\n",
       "350     3\n",
       "351     2\n",
       "Name: new_coronic, Length: 352, dtype: int64"
      ]
     },
     "execution_count": 15,
     "metadata": {},
     "output_type": "execute_result"
    }
   ],
   "source": [
    "data3 = data.iloc[:, 3]\n",
    "data3"
   ]
  },
  {
   "cell_type": "code",
   "execution_count": 16,
   "id": "genuine-grammar",
   "metadata": {},
   "outputs": [
    {
     "data": {
      "text/plain": [
       "0      2,445\n",
       "1      2,409\n",
       "2      2,386\n",
       "3      2,366\n",
       "4      2,339\n",
       "       ...  \n",
       "347        0\n",
       "348        0\n",
       "349        0\n",
       "350        0\n",
       "351        0\n",
       "Name: total_be_cured, Length: 352, dtype: object"
      ]
     },
     "execution_count": 16,
     "metadata": {},
     "output_type": "execute_result"
    }
   ],
   "source": [
    "data4 = data.iloc[:, 4]\n",
    "data4"
   ]
  },
  {
   "cell_type": "code",
   "execution_count": 17,
   "id": "bearing-deployment",
   "metadata": {},
   "outputs": [
    {
     "data": {
      "text/plain": [
       "0      2445\n",
       "1      2409\n",
       "2      2386\n",
       "3      2366\n",
       "4      2339\n",
       "       ... \n",
       "347       0\n",
       "348       0\n",
       "349       0\n",
       "350       0\n",
       "351       0\n",
       "Name: total_be_cured, Length: 352, dtype: int64"
      ]
     },
     "execution_count": 17,
     "metadata": {},
     "output_type": "execute_result"
    }
   ],
   "source": [
    "data4 = data4.str.replace(',','').astype('int64')\n",
    "data4 = data4.apply(pd.to_numeric)\n",
    "data4"
   ]
  },
  {
   "cell_type": "code",
   "execution_count": 18,
   "id": "hidden-contamination",
   "metadata": {},
   "outputs": [
    {
     "data": {
      "text/plain": [
       "0      96\n",
       "1      96\n",
       "2      96\n",
       "3      95\n",
       "4      94\n",
       "       ..\n",
       "347     0\n",
       "348     0\n",
       "349     0\n",
       "350     0\n",
       "351     0\n",
       "Name: deceased, Length: 352, dtype: int64"
      ]
     },
     "execution_count": 18,
     "metadata": {},
     "output_type": "execute_result"
    }
   ],
   "source": [
    "data5 = data.iloc[:, 5]\n",
    "data5"
   ]
  },
  {
   "cell_type": "code",
   "execution_count": 19,
   "id": "global-segment",
   "metadata": {},
   "outputs": [
    {
     "data": {
      "text/plain": [
       "total_negative    object\n",
       "isolated          object\n",
       "total_released    object\n",
       "dtype: object"
      ]
     },
     "execution_count": 19,
     "metadata": {},
     "output_type": "execute_result"
    }
   ],
   "source": [
    "data6 = data.iloc[:,6:9]\n",
    "data6.dtypes"
   ]
  },
  {
   "cell_type": "code",
   "execution_count": 20,
   "id": "original-security",
   "metadata": {},
   "outputs": [],
   "source": [
    "for i in range(0,3):\n",
    "    data6.iloc[:,i] = data6.iloc[:,i].str.replace(',','').astype('int64')"
   ]
  },
  {
   "cell_type": "code",
   "execution_count": 21,
   "id": "reported-analysis",
   "metadata": {},
   "outputs": [
    {
     "data": {
      "text/html": [
       "<div>\n",
       "<style scoped>\n",
       "    .dataframe tbody tr th:only-of-type {\n",
       "        vertical-align: middle;\n",
       "    }\n",
       "\n",
       "    .dataframe tbody tr th {\n",
       "        vertical-align: top;\n",
       "    }\n",
       "\n",
       "    .dataframe thead th {\n",
       "        text-align: right;\n",
       "    }\n",
       "</style>\n",
       "<table border=\"1\" class=\"dataframe\">\n",
       "  <thead>\n",
       "    <tr style=\"text-align: right;\">\n",
       "      <th></th>\n",
       "      <th>total_negative</th>\n",
       "      <th>isolated</th>\n",
       "      <th>total_released</th>\n",
       "    </tr>\n",
       "  </thead>\n",
       "  <tbody>\n",
       "    <tr>\n",
       "      <th>0</th>\n",
       "      <td>313750</td>\n",
       "      <td>5281</td>\n",
       "      <td>96416</td>\n",
       "    </tr>\n",
       "    <tr>\n",
       "      <th>1</th>\n",
       "      <td>310850</td>\n",
       "      <td>5275</td>\n",
       "      <td>95983</td>\n",
       "    </tr>\n",
       "    <tr>\n",
       "      <th>2</th>\n",
       "      <td>308964</td>\n",
       "      <td>5289</td>\n",
       "      <td>95570</td>\n",
       "    </tr>\n",
       "    <tr>\n",
       "      <th>3</th>\n",
       "      <td>306300</td>\n",
       "      <td>5273</td>\n",
       "      <td>95246</td>\n",
       "    </tr>\n",
       "    <tr>\n",
       "      <th>4</th>\n",
       "      <td>304772</td>\n",
       "      <td>5269</td>\n",
       "      <td>94753</td>\n",
       "    </tr>\n",
       "    <tr>\n",
       "      <th>...</th>\n",
       "      <td>...</td>\n",
       "      <td>...</td>\n",
       "      <td>...</td>\n",
       "    </tr>\n",
       "    <tr>\n",
       "      <th>347</th>\n",
       "      <td>1823</td>\n",
       "      <td>618</td>\n",
       "      <td>21</td>\n",
       "    </tr>\n",
       "    <tr>\n",
       "      <th>348</th>\n",
       "      <td>1499</td>\n",
       "      <td>263</td>\n",
       "      <td>22</td>\n",
       "    </tr>\n",
       "    <tr>\n",
       "      <th>349</th>\n",
       "      <td>1076</td>\n",
       "      <td>145</td>\n",
       "      <td>15</td>\n",
       "    </tr>\n",
       "    <tr>\n",
       "      <th>350</th>\n",
       "      <td>1092</td>\n",
       "      <td>115</td>\n",
       "      <td>15</td>\n",
       "    </tr>\n",
       "    <tr>\n",
       "      <th>351</th>\n",
       "      <td>613</td>\n",
       "      <td>15</td>\n",
       "      <td>15</td>\n",
       "    </tr>\n",
       "  </tbody>\n",
       "</table>\n",
       "<p>352 rows × 3 columns</p>\n",
       "</div>"
      ],
      "text/plain": [
       "     total_negative  isolated  total_released\n",
       "0            313750      5281           96416\n",
       "1            310850      5275           95983\n",
       "2            308964      5289           95570\n",
       "3            306300      5273           95246\n",
       "4            304772      5269           94753\n",
       "..              ...       ...             ...\n",
       "347            1823       618              21\n",
       "348            1499       263              22\n",
       "349            1076       145              15\n",
       "350            1092       115              15\n",
       "351             613        15              15\n",
       "\n",
       "[352 rows x 3 columns]"
      ]
     },
     "execution_count": 21,
     "metadata": {},
     "output_type": "execute_result"
    }
   ],
   "source": [
    "data6"
   ]
  },
  {
   "cell_type": "code",
   "execution_count": 22,
   "id": "quality-shakespeare",
   "metadata": {},
   "outputs": [],
   "source": [
    "data6 = data6.apply(pd.to_numeric)"
   ]
  },
  {
   "cell_type": "code",
   "execution_count": 23,
   "id": "determined-coast",
   "metadata": {},
   "outputs": [],
   "source": [
    "data = pd.concat([data1, data2, data3, data4, data5, data6], axis=1)"
   ]
  },
  {
   "cell_type": "code",
   "execution_count": 24,
   "id": "wrapped-superior",
   "metadata": {
    "scrolled": false
   },
   "outputs": [
    {
     "data": {
      "text/html": [
       "<div>\n",
       "<style scoped>\n",
       "    .dataframe tbody tr th:only-of-type {\n",
       "        vertical-align: middle;\n",
       "    }\n",
       "\n",
       "    .dataframe tbody tr th {\n",
       "        vertical-align: top;\n",
       "    }\n",
       "\n",
       "    .dataframe thead th {\n",
       "        text-align: right;\n",
       "    }\n",
       "</style>\n",
       "<table border=\"1\" class=\"dataframe\">\n",
       "  <thead>\n",
       "    <tr style=\"text-align: right;\">\n",
       "      <th></th>\n",
       "      <th>date</th>\n",
       "      <th>day</th>\n",
       "      <th>total_coronic</th>\n",
       "      <th>new_coronic</th>\n",
       "      <th>total_be_cured</th>\n",
       "      <th>deceased</th>\n",
       "      <th>total_negative</th>\n",
       "      <th>isolated</th>\n",
       "      <th>total_released</th>\n",
       "    </tr>\n",
       "  </thead>\n",
       "  <tbody>\n",
       "    <tr>\n",
       "      <th>0</th>\n",
       "      <td>2021-02-06</td>\n",
       "      <td>토</td>\n",
       "      <td>2879</td>\n",
       "      <td>11</td>\n",
       "      <td>2445</td>\n",
       "      <td>96</td>\n",
       "      <td>313750</td>\n",
       "      <td>5281</td>\n",
       "      <td>96416</td>\n",
       "    </tr>\n",
       "    <tr>\n",
       "      <th>1</th>\n",
       "      <td>2021-02-05</td>\n",
       "      <td>금</td>\n",
       "      <td>2868</td>\n",
       "      <td>15</td>\n",
       "      <td>2409</td>\n",
       "      <td>96</td>\n",
       "      <td>310850</td>\n",
       "      <td>5275</td>\n",
       "      <td>95983</td>\n",
       "    </tr>\n",
       "    <tr>\n",
       "      <th>2</th>\n",
       "      <td>2021-02-04</td>\n",
       "      <td>목</td>\n",
       "      <td>2853</td>\n",
       "      <td>34</td>\n",
       "      <td>2386</td>\n",
       "      <td>96</td>\n",
       "      <td>308964</td>\n",
       "      <td>5289</td>\n",
       "      <td>95570</td>\n",
       "    </tr>\n",
       "    <tr>\n",
       "      <th>3</th>\n",
       "      <td>2021-02-03</td>\n",
       "      <td>수</td>\n",
       "      <td>2819</td>\n",
       "      <td>24</td>\n",
       "      <td>2366</td>\n",
       "      <td>95</td>\n",
       "      <td>306300</td>\n",
       "      <td>5273</td>\n",
       "      <td>95246</td>\n",
       "    </tr>\n",
       "    <tr>\n",
       "      <th>4</th>\n",
       "      <td>2021-02-02</td>\n",
       "      <td>화</td>\n",
       "      <td>2795</td>\n",
       "      <td>21</td>\n",
       "      <td>2339</td>\n",
       "      <td>94</td>\n",
       "      <td>304772</td>\n",
       "      <td>5269</td>\n",
       "      <td>94753</td>\n",
       "    </tr>\n",
       "    <tr>\n",
       "      <th>...</th>\n",
       "      <td>...</td>\n",
       "      <td>...</td>\n",
       "      <td>...</td>\n",
       "      <td>...</td>\n",
       "      <td>...</td>\n",
       "      <td>...</td>\n",
       "      <td>...</td>\n",
       "      <td>...</td>\n",
       "      <td>...</td>\n",
       "    </tr>\n",
       "    <tr>\n",
       "      <th>347</th>\n",
       "      <td>2020-02-25</td>\n",
       "      <td>화</td>\n",
       "      <td>51</td>\n",
       "      <td>13</td>\n",
       "      <td>0</td>\n",
       "      <td>0</td>\n",
       "      <td>1823</td>\n",
       "      <td>618</td>\n",
       "      <td>21</td>\n",
       "    </tr>\n",
       "    <tr>\n",
       "      <th>348</th>\n",
       "      <td>2020-02-24</td>\n",
       "      <td>월</td>\n",
       "      <td>38</td>\n",
       "      <td>22</td>\n",
       "      <td>0</td>\n",
       "      <td>0</td>\n",
       "      <td>1499</td>\n",
       "      <td>263</td>\n",
       "      <td>22</td>\n",
       "    </tr>\n",
       "    <tr>\n",
       "      <th>349</th>\n",
       "      <td>2020-02-23</td>\n",
       "      <td>일</td>\n",
       "      <td>16</td>\n",
       "      <td>11</td>\n",
       "      <td>0</td>\n",
       "      <td>0</td>\n",
       "      <td>1076</td>\n",
       "      <td>145</td>\n",
       "      <td>15</td>\n",
       "    </tr>\n",
       "    <tr>\n",
       "      <th>350</th>\n",
       "      <td>2020-02-22</td>\n",
       "      <td>토</td>\n",
       "      <td>5</td>\n",
       "      <td>3</td>\n",
       "      <td>0</td>\n",
       "      <td>0</td>\n",
       "      <td>1092</td>\n",
       "      <td>115</td>\n",
       "      <td>15</td>\n",
       "    </tr>\n",
       "    <tr>\n",
       "      <th>351</th>\n",
       "      <td>2020-02-21</td>\n",
       "      <td>금</td>\n",
       "      <td>2</td>\n",
       "      <td>2</td>\n",
       "      <td>0</td>\n",
       "      <td>0</td>\n",
       "      <td>613</td>\n",
       "      <td>15</td>\n",
       "      <td>15</td>\n",
       "    </tr>\n",
       "  </tbody>\n",
       "</table>\n",
       "<p>352 rows × 9 columns</p>\n",
       "</div>"
      ],
      "text/plain": [
       "           date day  total_coronic  new_coronic  total_be_cured  deceased  \\\n",
       "0    2021-02-06   토           2879           11            2445        96   \n",
       "1    2021-02-05   금           2868           15            2409        96   \n",
       "2    2021-02-04   목           2853           34            2386        96   \n",
       "3    2021-02-03   수           2819           24            2366        95   \n",
       "4    2021-02-02   화           2795           21            2339        94   \n",
       "..          ...  ..            ...          ...             ...       ...   \n",
       "347  2020-02-25   화             51           13               0         0   \n",
       "348  2020-02-24   월             38           22               0         0   \n",
       "349  2020-02-23   일             16           11               0         0   \n",
       "350  2020-02-22   토              5            3               0         0   \n",
       "351  2020-02-21   금              2            2               0         0   \n",
       "\n",
       "     total_negative  isolated  total_released  \n",
       "0            313750      5281           96416  \n",
       "1            310850      5275           95983  \n",
       "2            308964      5289           95570  \n",
       "3            306300      5273           95246  \n",
       "4            304772      5269           94753  \n",
       "..              ...       ...             ...  \n",
       "347            1823       618              21  \n",
       "348            1499       263              22  \n",
       "349            1076       145              15  \n",
       "350            1092       115              15  \n",
       "351             613        15              15  \n",
       "\n",
       "[352 rows x 9 columns]"
      ]
     },
     "execution_count": 24,
     "metadata": {},
     "output_type": "execute_result"
    }
   ],
   "source": [
    "data"
   ]
  },
  {
   "cell_type": "code",
   "execution_count": 25,
   "id": "senior-moral",
   "metadata": {},
   "outputs": [
    {
     "data": {
      "text/plain": [
       "date              object\n",
       "day               object\n",
       "total_coronic      int64\n",
       "new_coronic        int64\n",
       "total_be_cured     int64\n",
       "deceased           int64\n",
       "total_negative     int64\n",
       "isolated           int64\n",
       "total_released     int64\n",
       "dtype: object"
      ]
     },
     "execution_count": 25,
     "metadata": {},
     "output_type": "execute_result"
    }
   ],
   "source": [
    "data.dtypes"
   ]
  },
  {
   "cell_type": "markdown",
   "id": "earlier-crystal",
   "metadata": {},
   "source": [
    "<br>\n",
    "\n",
    "# 4. New Variable\n",
    "\n",
    "**기존 변수를 활용해 새로운 파생 변수 생성**"
   ]
  },
  {
   "cell_type": "markdown",
   "id": "vulnerable-motivation",
   "metadata": {},
   "source": [
    "##### new_be_cured\n",
    "완치자수(누계)를 활용하여 완치자수(추가) 변수를 생성"
   ]
  },
  {
   "cell_type": "code",
   "execution_count": 26,
   "id": "center-hearts",
   "metadata": {
    "scrolled": true
   },
   "outputs": [
    {
     "data": {
      "text/plain": [
       "0      2445\n",
       "1      2409\n",
       "2      2386\n",
       "3      2366\n",
       "4      2339\n",
       "       ... \n",
       "347       0\n",
       "348       0\n",
       "349       0\n",
       "350       0\n",
       "351       0\n",
       "Name: total_be_cured, Length: 352, dtype: int64"
      ]
     },
     "execution_count": 26,
     "metadata": {},
     "output_type": "execute_result"
    }
   ],
   "source": [
    "data1 = data.total_be_cured\n",
    "data1"
   ]
  },
  {
   "cell_type": "code",
   "execution_count": 27,
   "id": "sixth-lunch",
   "metadata": {},
   "outputs": [
    {
     "data": {
      "text/plain": [
       "pandas.core.series.Series"
      ]
     },
     "execution_count": 27,
     "metadata": {},
     "output_type": "execute_result"
    }
   ],
   "source": [
    "type(data1)"
   ]
  },
  {
   "cell_type": "code",
   "execution_count": 28,
   "id": "ignored-journey",
   "metadata": {},
   "outputs": [
    {
     "data": {
      "text/plain": [
       "pandas.core.series.Series"
      ]
     },
     "execution_count": 28,
     "metadata": {},
     "output_type": "execute_result"
    }
   ],
   "source": [
    "data2 = []\n",
    "data2 = pd.Series(data2)\n",
    "type(data2)"
   ]
  },
  {
   "cell_type": "code",
   "execution_count": 29,
   "id": "biblical-acceptance",
   "metadata": {
    "scrolled": true
   },
   "outputs": [
    {
     "data": {
      "text/plain": [
       "352"
      ]
     },
     "execution_count": 29,
     "metadata": {},
     "output_type": "execute_result"
    }
   ],
   "source": [
    "n = len(data1)\n",
    "n"
   ]
  },
  {
   "cell_type": "code",
   "execution_count": 30,
   "id": "frozen-kennedy",
   "metadata": {},
   "outputs": [],
   "source": [
    "for i in data1.index:\n",
    "    if i < n-1:\n",
    "        data2[i] = data1[i]-data1[i+1]\n",
    "    else :\n",
    "        data2[i] = data1[i]"
   ]
  },
  {
   "cell_type": "code",
   "execution_count": 31,
   "id": "opposed-italic",
   "metadata": {
    "scrolled": true
   },
   "outputs": [
    {
     "data": {
      "text/plain": [
       "0      36\n",
       "1      23\n",
       "2      20\n",
       "3      27\n",
       "4      38\n",
       "       ..\n",
       "347     0\n",
       "348     0\n",
       "349     0\n",
       "350     0\n",
       "351     0\n",
       "Length: 352, dtype: int64"
      ]
     },
     "execution_count": 31,
     "metadata": {},
     "output_type": "execute_result"
    }
   ],
   "source": [
    "data2"
   ]
  },
  {
   "cell_type": "code",
   "execution_count": 32,
   "id": "studied-water",
   "metadata": {
    "scrolled": true
   },
   "outputs": [
    {
     "data": {
      "text/plain": [
       "0"
      ]
     },
     "execution_count": 32,
     "metadata": {},
     "output_type": "execute_result"
    }
   ],
   "source": [
    "len(data2[data2<0])"
   ]
  },
  {
   "cell_type": "markdown",
   "id": "brave-courtesy",
   "metadata": {},
   "source": [
    " "
   ]
  },
  {
   "cell_type": "markdown",
   "id": "unique-turner",
   "metadata": {},
   "source": [
    "##### new_negative\n",
    "검사결과 음성(누계)를 활용하여 검사결과 음성(추가) 변수 생성"
   ]
  },
  {
   "cell_type": "code",
   "execution_count": 33,
   "id": "patient-senegal",
   "metadata": {
    "scrolled": false
   },
   "outputs": [
    {
     "data": {
      "text/plain": [
       "0      313750\n",
       "1      310850\n",
       "2      308964\n",
       "3      306300\n",
       "4      304772\n",
       "        ...  \n",
       "347      1823\n",
       "348      1499\n",
       "349      1076\n",
       "350      1092\n",
       "351       613\n",
       "Name: total_negative, Length: 352, dtype: int64"
      ]
     },
     "execution_count": 33,
     "metadata": {},
     "output_type": "execute_result"
    }
   ],
   "source": [
    "data1 = data.total_negative\n",
    "data1"
   ]
  },
  {
   "cell_type": "code",
   "execution_count": 34,
   "id": "important-democracy",
   "metadata": {},
   "outputs": [
    {
     "data": {
      "text/plain": [
       "pandas.core.series.Series"
      ]
     },
     "execution_count": 34,
     "metadata": {},
     "output_type": "execute_result"
    }
   ],
   "source": [
    "type(data1)"
   ]
  },
  {
   "cell_type": "code",
   "execution_count": 35,
   "id": "transparent-father",
   "metadata": {},
   "outputs": [
    {
     "data": {
      "text/plain": [
       "pandas.core.series.Series"
      ]
     },
     "execution_count": 35,
     "metadata": {},
     "output_type": "execute_result"
    }
   ],
   "source": [
    "data3 = []\n",
    "data3 = pd.Series(data3)\n",
    "type(data3)"
   ]
  },
  {
   "cell_type": "code",
   "execution_count": 36,
   "id": "boring-range",
   "metadata": {
    "scrolled": false
   },
   "outputs": [
    {
     "data": {
      "text/plain": [
       "352"
      ]
     },
     "execution_count": 36,
     "metadata": {},
     "output_type": "execute_result"
    }
   ],
   "source": [
    "n = len(data1)\n",
    "n"
   ]
  },
  {
   "cell_type": "code",
   "execution_count": 37,
   "id": "southern-evidence",
   "metadata": {},
   "outputs": [],
   "source": [
    "for i in data1.index:\n",
    "    if i < n-1:\n",
    "        data3[i] = data1[i]-data1[i+1]\n",
    "    else :\n",
    "        data3[i] = data1[i]"
   ]
  },
  {
   "cell_type": "code",
   "execution_count": 38,
   "id": "latin-lighting",
   "metadata": {
    "scrolled": false
   },
   "outputs": [
    {
     "data": {
      "text/plain": [
       "0      2900\n",
       "1      1886\n",
       "2      2664\n",
       "3      1528\n",
       "4      1904\n",
       "       ... \n",
       "347     324\n",
       "348     423\n",
       "349     -16\n",
       "350     479\n",
       "351     613\n",
       "Length: 352, dtype: int64"
      ]
     },
     "execution_count": 38,
     "metadata": {},
     "output_type": "execute_result"
    }
   ],
   "source": [
    "data3"
   ]
  },
  {
   "cell_type": "code",
   "execution_count": 39,
   "id": "current-learning",
   "metadata": {},
   "outputs": [],
   "source": [
    "outlier = data3[data3<0]"
   ]
  },
  {
   "cell_type": "code",
   "execution_count": 40,
   "id": "invisible-vampire",
   "metadata": {},
   "outputs": [
    {
     "data": {
      "text/plain": [
       "Int64Index([32, 33, 349], dtype='int64')"
      ]
     },
     "execution_count": 40,
     "metadata": {},
     "output_type": "execute_result"
    }
   ],
   "source": [
    "outlier.index"
   ]
  },
  {
   "cell_type": "code",
   "execution_count": 41,
   "id": "earned-marker",
   "metadata": {},
   "outputs": [
    {
     "data": {
      "text/plain": [
       "0"
      ]
     },
     "execution_count": 41,
     "metadata": {},
     "output_type": "execute_result"
    }
   ],
   "source": [
    "len(data3[data3==0])"
   ]
  },
  {
   "cell_type": "markdown",
   "id": "confidential-index",
   "metadata": {},
   "source": [
    "음성판정(누계)에서 다음날로 넘어갔을 때 감소하는 날이 3일 존재한다.  \n",
    "2021-01-03 ~ 2021-01-05 & 2020-02-22 ~ 2020-02-23  \n",
    "1번인 경우 : 음성판정받은 사람 -> 갑자기 양성으로 변경  \n",
    "2번인 경우 : 오류로 그날 추가 음성판정자 수가 0인 경우 BUT, 모든 날에 걸쳐 0인 경우가 없다.  \n",
    "1번을 선택할 경우 모든 값들이 추가 확진자 수보다 크기 때문에 불가능하다.  \n",
    "즉, 0으로 구분  \n",
    "데이터 자체에서 그 전날의 값과 동일하게 변경 이후 다시 생성"
   ]
  },
  {
   "cell_type": "code",
   "execution_count": 42,
   "id": "together-physics",
   "metadata": {},
   "outputs": [],
   "source": [
    "data.total_negative[outlier.index[0]] = data.total_negative[outlier.index[1]+1]\n",
    "data.total_negative[outlier.index[1]] = data.total_negative[outlier.index[1]+1]"
   ]
  },
  {
   "cell_type": "code",
   "execution_count": 43,
   "id": "academic-monroe",
   "metadata": {},
   "outputs": [],
   "source": [
    "data.total_negative[outlier.index[2]] = data.total_negative[outlier.index[2]+1]"
   ]
  },
  {
   "cell_type": "code",
   "execution_count": 44,
   "id": "proved-retailer",
   "metadata": {},
   "outputs": [
    {
     "data": {
      "text/plain": [
       "0      313750\n",
       "1      310850\n",
       "2      308964\n",
       "3      306300\n",
       "4      304772\n",
       "        ...  \n",
       "347      1823\n",
       "348      1499\n",
       "349      1092\n",
       "350      1092\n",
       "351       613\n",
       "Name: total_negative, Length: 352, dtype: int64"
      ]
     },
     "execution_count": 44,
     "metadata": {},
     "output_type": "execute_result"
    }
   ],
   "source": [
    "data1 = data.total_negative\n",
    "data1"
   ]
  },
  {
   "cell_type": "code",
   "execution_count": 45,
   "id": "bacterial-shift",
   "metadata": {},
   "outputs": [
    {
     "data": {
      "text/plain": [
       "pandas.core.series.Series"
      ]
     },
     "execution_count": 45,
     "metadata": {},
     "output_type": "execute_result"
    }
   ],
   "source": [
    "data3 = []\n",
    "data3 = pd.Series(data3)\n",
    "type(data3)"
   ]
  },
  {
   "cell_type": "code",
   "execution_count": 46,
   "id": "bright-studio",
   "metadata": {},
   "outputs": [],
   "source": [
    "for i in data1.index:\n",
    "    if i < n-1:\n",
    "        data3[i] = data1[i]-data1[i+1]\n",
    "    else :\n",
    "        data3[i] = data1[i]"
   ]
  },
  {
   "cell_type": "code",
   "execution_count": 47,
   "id": "organic-monster",
   "metadata": {
    "scrolled": true
   },
   "outputs": [
    {
     "data": {
      "text/plain": [
       "0      2900\n",
       "1      1886\n",
       "2      2664\n",
       "3      1528\n",
       "4      1904\n",
       "       ... \n",
       "347     324\n",
       "348     407\n",
       "349       0\n",
       "350     479\n",
       "351     613\n",
       "Length: 352, dtype: int64"
      ]
     },
     "execution_count": 47,
     "metadata": {},
     "output_type": "execute_result"
    }
   ],
   "source": [
    "data3"
   ]
  },
  {
   "cell_type": "markdown",
   "id": "healthy-gospel",
   "metadata": {},
   "source": [
    "0으로 구분했지만 이상치라고 생각하며 분석!!!"
   ]
  },
  {
   "cell_type": "code",
   "execution_count": 48,
   "id": "round-outdoors",
   "metadata": {
    "scrolled": true
   },
   "outputs": [
    {
     "data": {
      "text/plain": [
       "Series([], dtype: int64)"
      ]
     },
     "execution_count": 48,
     "metadata": {},
     "output_type": "execute_result"
    }
   ],
   "source": [
    "data3[data3<0]"
   ]
  },
  {
   "cell_type": "markdown",
   "id": "chemical-supply",
   "metadata": {},
   "source": [
    " "
   ]
  },
  {
   "cell_type": "markdown",
   "id": "express-pride",
   "metadata": {},
   "source": [
    "##### diagnosed\n",
    "추가 확진자수와 검사결과 음성(추가)를 합한 인원의 수가 검사를 받은 사람의 수라고 생각   \n",
    "즉, 검사를 받은 인원수에 대한 변수 생성"
   ]
  },
  {
   "cell_type": "code",
   "execution_count": 49,
   "id": "suburban-invite",
   "metadata": {},
   "outputs": [
    {
     "data": {
      "text/plain": [
       "pandas.core.series.Series"
      ]
     },
     "execution_count": 49,
     "metadata": {},
     "output_type": "execute_result"
    }
   ],
   "source": [
    "data4 = []\n",
    "data4 = pd.Series(data4)\n",
    "type(data4)"
   ]
  },
  {
   "cell_type": "code",
   "execution_count": 50,
   "id": "treated-scoop",
   "metadata": {
    "scrolled": false
   },
   "outputs": [
    {
     "data": {
      "text/plain": [
       "352"
      ]
     },
     "execution_count": 50,
     "metadata": {},
     "output_type": "execute_result"
    }
   ],
   "source": [
    "n = len(data1)\n",
    "n"
   ]
  },
  {
   "cell_type": "code",
   "execution_count": 51,
   "id": "bizarre-monaco",
   "metadata": {},
   "outputs": [],
   "source": [
    "for i in data1.index:\n",
    "    data4[i] = data.new_coronic[i] + data3[i]"
   ]
  },
  {
   "cell_type": "code",
   "execution_count": 52,
   "id": "fiscal-worse",
   "metadata": {},
   "outputs": [
    {
     "data": {
      "text/plain": [
       "0      11\n",
       "1      15\n",
       "2      34\n",
       "3      24\n",
       "4      21\n",
       "       ..\n",
       "347    13\n",
       "348    22\n",
       "349    11\n",
       "350     3\n",
       "351     2\n",
       "Name: new_coronic, Length: 352, dtype: int64"
      ]
     },
     "execution_count": 52,
     "metadata": {},
     "output_type": "execute_result"
    }
   ],
   "source": [
    "data.new_coronic"
   ]
  },
  {
   "cell_type": "code",
   "execution_count": 53,
   "id": "remarkable-blink",
   "metadata": {},
   "outputs": [
    {
     "data": {
      "text/plain": [
       "Series([], dtype: int64)"
      ]
     },
     "execution_count": 53,
     "metadata": {},
     "output_type": "execute_result"
    }
   ],
   "source": [
    "data4[data4<0]"
   ]
  },
  {
   "cell_type": "code",
   "execution_count": 54,
   "id": "smart-belly",
   "metadata": {},
   "outputs": [
    {
     "data": {
      "text/plain": [
       "0      2911\n",
       "1      1901\n",
       "2      2698\n",
       "3      1552\n",
       "4      1925\n",
       "       ... \n",
       "347     337\n",
       "348     429\n",
       "349      11\n",
       "350     482\n",
       "351     615\n",
       "Length: 352, dtype: int64"
      ]
     },
     "execution_count": 54,
     "metadata": {},
     "output_type": "execute_result"
    }
   ],
   "source": [
    "data4"
   ]
  },
  {
   "cell_type": "markdown",
   "id": "british-language",
   "metadata": {},
   "source": [
    " "
   ]
  },
  {
   "cell_type": "markdown",
   "id": "selective-filename",
   "metadata": {},
   "source": [
    "##### new_released\n",
    "격리해제(누계)를 활용하여 격리해제(추가) 변수 생성"
   ]
  },
  {
   "cell_type": "code",
   "execution_count": 55,
   "id": "improving-passenger",
   "metadata": {},
   "outputs": [
    {
     "data": {
      "text/plain": [
       "0      96416\n",
       "1      95983\n",
       "2      95570\n",
       "3      95246\n",
       "4      94753\n",
       "       ...  \n",
       "347       21\n",
       "348       22\n",
       "349       15\n",
       "350       15\n",
       "351       15\n",
       "Name: total_released, Length: 352, dtype: int64"
      ]
     },
     "execution_count": 55,
     "metadata": {},
     "output_type": "execute_result"
    }
   ],
   "source": [
    "data1 = data.total_released\n",
    "data1"
   ]
  },
  {
   "cell_type": "code",
   "execution_count": 56,
   "id": "deadly-barbados",
   "metadata": {},
   "outputs": [
    {
     "data": {
      "text/plain": [
       "pandas.core.series.Series"
      ]
     },
     "execution_count": 56,
     "metadata": {},
     "output_type": "execute_result"
    }
   ],
   "source": [
    "type(data1)"
   ]
  },
  {
   "cell_type": "code",
   "execution_count": 57,
   "id": "guided-beach",
   "metadata": {},
   "outputs": [
    {
     "data": {
      "text/plain": [
       "pandas.core.series.Series"
      ]
     },
     "execution_count": 57,
     "metadata": {},
     "output_type": "execute_result"
    }
   ],
   "source": [
    "data5 = []\n",
    "data5 = pd.Series(data5)\n",
    "type(data5)"
   ]
  },
  {
   "cell_type": "code",
   "execution_count": 58,
   "id": "beneficial-blank",
   "metadata": {},
   "outputs": [
    {
     "data": {
      "text/plain": [
       "352"
      ]
     },
     "execution_count": 58,
     "metadata": {},
     "output_type": "execute_result"
    }
   ],
   "source": [
    "n = len(data1)\n",
    "n"
   ]
  },
  {
   "cell_type": "code",
   "execution_count": 59,
   "id": "seven-practitioner",
   "metadata": {},
   "outputs": [],
   "source": [
    "for i in data1.index:\n",
    "    if i < n-1:\n",
    "        data5[i] = data1[i]-data1[i+1]\n",
    "    else :\n",
    "        data5[i] = data1[i]"
   ]
  },
  {
   "cell_type": "code",
   "execution_count": 60,
   "id": "twenty-albany",
   "metadata": {},
   "outputs": [],
   "source": [
    "outlier2 = data5[data5<0]"
   ]
  },
  {
   "cell_type": "code",
   "execution_count": 61,
   "id": "valued-pastor",
   "metadata": {},
   "outputs": [
    {
     "data": {
      "text/plain": [
       "Int64Index([347], dtype='int64')"
      ]
     },
     "execution_count": 61,
     "metadata": {},
     "output_type": "execute_result"
    }
   ],
   "source": [
    "outlier2.index"
   ]
  },
  {
   "cell_type": "markdown",
   "id": "coordinated-allergy",
   "metadata": {},
   "source": [
    "총 352개의 값 중에 1개의 음수 값이 존재합니다.  \n",
    "누계에서 음수값이 존재함은 불가능하기 때문에 0으로 변경!!  \n",
    "또한 0으로 변경 시 그 다음날의 값 또한 영향을 받으므로 변경!!"
   ]
  },
  {
   "cell_type": "code",
   "execution_count": 62,
   "id": "canadian-newport",
   "metadata": {},
   "outputs": [],
   "source": [
    "data5[outlier2.index] = 0\n",
    "data5[outlier2.index-1] = 3"
   ]
  },
  {
   "cell_type": "code",
   "execution_count": 63,
   "id": "minor-retailer",
   "metadata": {},
   "outputs": [
    {
     "data": {
      "text/plain": [
       "342      2\n",
       "343    287\n",
       "344     97\n",
       "345     31\n",
       "346      3\n",
       "347      0\n",
       "348      7\n",
       "349      0\n",
       "350      0\n",
       "351     15\n",
       "dtype: int64"
      ]
     },
     "execution_count": 63,
     "metadata": {},
     "output_type": "execute_result"
    }
   ],
   "source": [
    "data5.tail(10)"
   ]
  },
  {
   "cell_type": "code",
   "execution_count": 64,
   "id": "strange-surveillance",
   "metadata": {},
   "outputs": [
    {
     "data": {
      "text/plain": [
       "Series([], dtype: int64)"
      ]
     },
     "execution_count": 64,
     "metadata": {},
     "output_type": "execute_result"
    }
   ],
   "source": [
    "data5[data5<0]"
   ]
  },
  {
   "cell_type": "code",
   "execution_count": 65,
   "id": "funky-thanksgiving",
   "metadata": {},
   "outputs": [],
   "source": [
    "# 원 데이터에서도 변경해주자.\n",
    "data.total_released[outlier2.index] = 22"
   ]
  },
  {
   "cell_type": "markdown",
   "id": "unavailable-nightmare",
   "metadata": {},
   "source": [
    "#### 위의 4개의 변수를 원데이터에 합쳐 새로운 데이터를 생성"
   ]
  },
  {
   "cell_type": "code",
   "execution_count": 66,
   "id": "acknowledged-forth",
   "metadata": {},
   "outputs": [],
   "source": [
    "data = pd.concat([data[['date', 'day', 'total_coronic', 'new_coronic', 'total_be_cured']],data2,\n",
    "                 data[['deceased', 'total_negative']], data3, data4,\n",
    "                 data[['isolated', 'total_released']], data5], axis=1)"
   ]
  },
  {
   "cell_type": "code",
   "execution_count": 67,
   "id": "cognitive-focus",
   "metadata": {},
   "outputs": [],
   "source": [
    "data.columns = ['date', 'day', 'total_coronic', 'new_coronic', 'total_be_cured', 'new_be_cured', 'deceased', \n",
    "                'total_negative', 'new_negative', 'diagnosed', 'isolated', 'total_released', 'new_released']"
   ]
  },
  {
   "cell_type": "code",
   "execution_count": 68,
   "id": "southern-verse",
   "metadata": {},
   "outputs": [
    {
     "data": {
      "text/plain": [
       "date              object\n",
       "day               object\n",
       "total_coronic      int64\n",
       "new_coronic        int64\n",
       "total_be_cured     int64\n",
       "new_be_cured       int64\n",
       "deceased           int64\n",
       "total_negative     int64\n",
       "new_negative       int64\n",
       "diagnosed          int64\n",
       "isolated           int64\n",
       "total_released     int64\n",
       "new_released       int64\n",
       "dtype: object"
      ]
     },
     "execution_count": 68,
     "metadata": {},
     "output_type": "execute_result"
    }
   ],
   "source": [
    "data.dtypes"
   ]
  },
  {
   "cell_type": "markdown",
   "id": "lonely-phoenix",
   "metadata": {},
   "source": [
    "# 5. Variable Description\n",
    "\n",
    "<br>"
   ]
  },
  {
   "cell_type": "code",
   "execution_count": 69,
   "id": "fleet-accident",
   "metadata": {
    "scrolled": true
   },
   "outputs": [
    {
     "data": {
      "text/html": [
       "<div>\n",
       "<style scoped>\n",
       "    .dataframe tbody tr th:only-of-type {\n",
       "        vertical-align: middle;\n",
       "    }\n",
       "\n",
       "    .dataframe tbody tr th {\n",
       "        vertical-align: top;\n",
       "    }\n",
       "\n",
       "    .dataframe thead th {\n",
       "        text-align: right;\n",
       "    }\n",
       "</style>\n",
       "<table border=\"1\" class=\"dataframe\">\n",
       "  <thead>\n",
       "    <tr style=\"text-align: right;\">\n",
       "      <th></th>\n",
       "      <th>date</th>\n",
       "      <th>day</th>\n",
       "      <th>total_coronic</th>\n",
       "      <th>new_coronic</th>\n",
       "      <th>total_be_cured</th>\n",
       "      <th>new_be_cured</th>\n",
       "      <th>deceased</th>\n",
       "      <th>total_negative</th>\n",
       "      <th>new_negative</th>\n",
       "      <th>diagnosed</th>\n",
       "      <th>isolated</th>\n",
       "      <th>total_released</th>\n",
       "      <th>new_released</th>\n",
       "    </tr>\n",
       "  </thead>\n",
       "  <tbody>\n",
       "    <tr>\n",
       "      <th>0</th>\n",
       "      <td>2021-02-06</td>\n",
       "      <td>토</td>\n",
       "      <td>2879</td>\n",
       "      <td>11</td>\n",
       "      <td>2445</td>\n",
       "      <td>36</td>\n",
       "      <td>96</td>\n",
       "      <td>313750</td>\n",
       "      <td>2900</td>\n",
       "      <td>2911</td>\n",
       "      <td>5281</td>\n",
       "      <td>96416</td>\n",
       "      <td>433</td>\n",
       "    </tr>\n",
       "    <tr>\n",
       "      <th>1</th>\n",
       "      <td>2021-02-05</td>\n",
       "      <td>금</td>\n",
       "      <td>2868</td>\n",
       "      <td>15</td>\n",
       "      <td>2409</td>\n",
       "      <td>23</td>\n",
       "      <td>96</td>\n",
       "      <td>310850</td>\n",
       "      <td>1886</td>\n",
       "      <td>1901</td>\n",
       "      <td>5275</td>\n",
       "      <td>95983</td>\n",
       "      <td>413</td>\n",
       "    </tr>\n",
       "    <tr>\n",
       "      <th>2</th>\n",
       "      <td>2021-02-04</td>\n",
       "      <td>목</td>\n",
       "      <td>2853</td>\n",
       "      <td>34</td>\n",
       "      <td>2386</td>\n",
       "      <td>20</td>\n",
       "      <td>96</td>\n",
       "      <td>308964</td>\n",
       "      <td>2664</td>\n",
       "      <td>2698</td>\n",
       "      <td>5289</td>\n",
       "      <td>95570</td>\n",
       "      <td>324</td>\n",
       "    </tr>\n",
       "    <tr>\n",
       "      <th>3</th>\n",
       "      <td>2021-02-03</td>\n",
       "      <td>수</td>\n",
       "      <td>2819</td>\n",
       "      <td>24</td>\n",
       "      <td>2366</td>\n",
       "      <td>27</td>\n",
       "      <td>95</td>\n",
       "      <td>306300</td>\n",
       "      <td>1528</td>\n",
       "      <td>1552</td>\n",
       "      <td>5273</td>\n",
       "      <td>95246</td>\n",
       "      <td>493</td>\n",
       "    </tr>\n",
       "    <tr>\n",
       "      <th>4</th>\n",
       "      <td>2021-02-02</td>\n",
       "      <td>화</td>\n",
       "      <td>2795</td>\n",
       "      <td>21</td>\n",
       "      <td>2339</td>\n",
       "      <td>38</td>\n",
       "      <td>94</td>\n",
       "      <td>304772</td>\n",
       "      <td>1904</td>\n",
       "      <td>1925</td>\n",
       "      <td>5269</td>\n",
       "      <td>94753</td>\n",
       "      <td>410</td>\n",
       "    </tr>\n",
       "    <tr>\n",
       "      <th>...</th>\n",
       "      <td>...</td>\n",
       "      <td>...</td>\n",
       "      <td>...</td>\n",
       "      <td>...</td>\n",
       "      <td>...</td>\n",
       "      <td>...</td>\n",
       "      <td>...</td>\n",
       "      <td>...</td>\n",
       "      <td>...</td>\n",
       "      <td>...</td>\n",
       "      <td>...</td>\n",
       "      <td>...</td>\n",
       "      <td>...</td>\n",
       "    </tr>\n",
       "    <tr>\n",
       "      <th>347</th>\n",
       "      <td>2020-02-25</td>\n",
       "      <td>화</td>\n",
       "      <td>51</td>\n",
       "      <td>13</td>\n",
       "      <td>0</td>\n",
       "      <td>0</td>\n",
       "      <td>0</td>\n",
       "      <td>1823</td>\n",
       "      <td>324</td>\n",
       "      <td>337</td>\n",
       "      <td>618</td>\n",
       "      <td>22</td>\n",
       "      <td>0</td>\n",
       "    </tr>\n",
       "    <tr>\n",
       "      <th>348</th>\n",
       "      <td>2020-02-24</td>\n",
       "      <td>월</td>\n",
       "      <td>38</td>\n",
       "      <td>22</td>\n",
       "      <td>0</td>\n",
       "      <td>0</td>\n",
       "      <td>0</td>\n",
       "      <td>1499</td>\n",
       "      <td>407</td>\n",
       "      <td>429</td>\n",
       "      <td>263</td>\n",
       "      <td>22</td>\n",
       "      <td>7</td>\n",
       "    </tr>\n",
       "    <tr>\n",
       "      <th>349</th>\n",
       "      <td>2020-02-23</td>\n",
       "      <td>일</td>\n",
       "      <td>16</td>\n",
       "      <td>11</td>\n",
       "      <td>0</td>\n",
       "      <td>0</td>\n",
       "      <td>0</td>\n",
       "      <td>1092</td>\n",
       "      <td>0</td>\n",
       "      <td>11</td>\n",
       "      <td>145</td>\n",
       "      <td>15</td>\n",
       "      <td>0</td>\n",
       "    </tr>\n",
       "    <tr>\n",
       "      <th>350</th>\n",
       "      <td>2020-02-22</td>\n",
       "      <td>토</td>\n",
       "      <td>5</td>\n",
       "      <td>3</td>\n",
       "      <td>0</td>\n",
       "      <td>0</td>\n",
       "      <td>0</td>\n",
       "      <td>1092</td>\n",
       "      <td>479</td>\n",
       "      <td>482</td>\n",
       "      <td>115</td>\n",
       "      <td>15</td>\n",
       "      <td>0</td>\n",
       "    </tr>\n",
       "    <tr>\n",
       "      <th>351</th>\n",
       "      <td>2020-02-21</td>\n",
       "      <td>금</td>\n",
       "      <td>2</td>\n",
       "      <td>2</td>\n",
       "      <td>0</td>\n",
       "      <td>0</td>\n",
       "      <td>0</td>\n",
       "      <td>613</td>\n",
       "      <td>613</td>\n",
       "      <td>615</td>\n",
       "      <td>15</td>\n",
       "      <td>15</td>\n",
       "      <td>15</td>\n",
       "    </tr>\n",
       "  </tbody>\n",
       "</table>\n",
       "<p>352 rows × 13 columns</p>\n",
       "</div>"
      ],
      "text/plain": [
       "           date day  total_coronic  new_coronic  total_be_cured  new_be_cured  \\\n",
       "0    2021-02-06   토           2879           11            2445            36   \n",
       "1    2021-02-05   금           2868           15            2409            23   \n",
       "2    2021-02-04   목           2853           34            2386            20   \n",
       "3    2021-02-03   수           2819           24            2366            27   \n",
       "4    2021-02-02   화           2795           21            2339            38   \n",
       "..          ...  ..            ...          ...             ...           ...   \n",
       "347  2020-02-25   화             51           13               0             0   \n",
       "348  2020-02-24   월             38           22               0             0   \n",
       "349  2020-02-23   일             16           11               0             0   \n",
       "350  2020-02-22   토              5            3               0             0   \n",
       "351  2020-02-21   금              2            2               0             0   \n",
       "\n",
       "     deceased  total_negative  new_negative  diagnosed  isolated  \\\n",
       "0          96          313750          2900       2911      5281   \n",
       "1          96          310850          1886       1901      5275   \n",
       "2          96          308964          2664       2698      5289   \n",
       "3          95          306300          1528       1552      5273   \n",
       "4          94          304772          1904       1925      5269   \n",
       "..        ...             ...           ...        ...       ...   \n",
       "347         0            1823           324        337       618   \n",
       "348         0            1499           407        429       263   \n",
       "349         0            1092             0         11       145   \n",
       "350         0            1092           479        482       115   \n",
       "351         0             613           613        615        15   \n",
       "\n",
       "     total_released  new_released  \n",
       "0             96416           433  \n",
       "1             95983           413  \n",
       "2             95570           324  \n",
       "3             95246           493  \n",
       "4             94753           410  \n",
       "..              ...           ...  \n",
       "347              22             0  \n",
       "348              22             7  \n",
       "349              15             0  \n",
       "350              15             0  \n",
       "351              15            15  \n",
       "\n",
       "[352 rows x 13 columns]"
      ]
     },
     "execution_count": 69,
     "metadata": {},
     "output_type": "execute_result"
    }
   ],
   "source": [
    "data"
   ]
  },
  {
   "cell_type": "code",
   "execution_count": 70,
   "id": "weighted-blast",
   "metadata": {
    "scrolled": true
   },
   "outputs": [
    {
     "data": {
      "text/html": [
       "<div>\n",
       "<style scoped>\n",
       "    .dataframe tbody tr th:only-of-type {\n",
       "        vertical-align: middle;\n",
       "    }\n",
       "\n",
       "    .dataframe tbody tr th {\n",
       "        vertical-align: top;\n",
       "    }\n",
       "\n",
       "    .dataframe thead th {\n",
       "        text-align: right;\n",
       "    }\n",
       "</style>\n",
       "<table border=\"1\" class=\"dataframe\">\n",
       "  <thead>\n",
       "    <tr style=\"text-align: right;\">\n",
       "      <th></th>\n",
       "      <th>total_coronic</th>\n",
       "      <th>new_coronic</th>\n",
       "      <th>total_be_cured</th>\n",
       "      <th>new_be_cured</th>\n",
       "      <th>deceased</th>\n",
       "      <th>total_negative</th>\n",
       "      <th>new_negative</th>\n",
       "      <th>diagnosed</th>\n",
       "      <th>isolated</th>\n",
       "      <th>total_released</th>\n",
       "      <th>new_released</th>\n",
       "    </tr>\n",
       "  </thead>\n",
       "  <tbody>\n",
       "    <tr>\n",
       "      <th>count</th>\n",
       "      <td>352.000000</td>\n",
       "      <td>352.000000</td>\n",
       "      <td>352.000000</td>\n",
       "      <td>352.000000</td>\n",
       "      <td>352.000000</td>\n",
       "      <td>352.000000</td>\n",
       "      <td>352.000000</td>\n",
       "      <td>352.000000</td>\n",
       "      <td>352.000000</td>\n",
       "      <td>352.000000</td>\n",
       "      <td>352.000000</td>\n",
       "    </tr>\n",
       "    <tr>\n",
       "      <th>mean</th>\n",
       "      <td>584.747159</td>\n",
       "      <td>8.178977</td>\n",
       "      <td>456.122159</td>\n",
       "      <td>6.946023</td>\n",
       "      <td>14.315341</td>\n",
       "      <td>105812.329545</td>\n",
       "      <td>891.335227</td>\n",
       "      <td>899.514205</td>\n",
       "      <td>3396.045455</td>\n",
       "      <td>35718.613636</td>\n",
       "      <td>273.909091</td>\n",
       "    </tr>\n",
       "    <tr>\n",
       "      <th>std</th>\n",
       "      <td>736.597855</td>\n",
       "      <td>13.497676</td>\n",
       "      <td>574.337651</td>\n",
       "      <td>11.536141</td>\n",
       "      <td>24.724695</td>\n",
       "      <td>80580.209634</td>\n",
       "      <td>841.072302</td>\n",
       "      <td>848.732076</td>\n",
       "      <td>1798.894511</td>\n",
       "      <td>26955.218768</td>\n",
       "      <td>204.929458</td>\n",
       "    </tr>\n",
       "    <tr>\n",
       "      <th>min</th>\n",
       "      <td>2.000000</td>\n",
       "      <td>0.000000</td>\n",
       "      <td>0.000000</td>\n",
       "      <td>0.000000</td>\n",
       "      <td>0.000000</td>\n",
       "      <td>613.000000</td>\n",
       "      <td>0.000000</td>\n",
       "      <td>11.000000</td>\n",
       "      <td>15.000000</td>\n",
       "      <td>15.000000</td>\n",
       "      <td>0.000000</td>\n",
       "    </tr>\n",
       "    <tr>\n",
       "      <th>25%</th>\n",
       "      <td>141.000000</td>\n",
       "      <td>0.000000</td>\n",
       "      <td>127.750000</td>\n",
       "      <td>0.000000</td>\n",
       "      <td>3.000000</td>\n",
       "      <td>39550.750000</td>\n",
       "      <td>408.000000</td>\n",
       "      <td>410.250000</td>\n",
       "      <td>2453.000000</td>\n",
       "      <td>12650.250000</td>\n",
       "      <td>146.750000</td>\n",
       "    </tr>\n",
       "    <tr>\n",
       "      <th>50%</th>\n",
       "      <td>201.000000</td>\n",
       "      <td>2.000000</td>\n",
       "      <td>157.000000</td>\n",
       "      <td>2.000000</td>\n",
       "      <td>3.000000</td>\n",
       "      <td>82589.000000</td>\n",
       "      <td>545.500000</td>\n",
       "      <td>546.000000</td>\n",
       "      <td>2978.000000</td>\n",
       "      <td>31157.500000</td>\n",
       "      <td>219.500000</td>\n",
       "    </tr>\n",
       "    <tr>\n",
       "      <th>75%</th>\n",
       "      <td>599.000000</td>\n",
       "      <td>8.250000</td>\n",
       "      <td>552.250000</td>\n",
       "      <td>7.000000</td>\n",
       "      <td>15.000000</td>\n",
       "      <td>160614.750000</td>\n",
       "      <td>1005.000000</td>\n",
       "      <td>1014.500000</td>\n",
       "      <td>3838.000000</td>\n",
       "      <td>54062.000000</td>\n",
       "      <td>355.250000</td>\n",
       "    </tr>\n",
       "    <tr>\n",
       "      <th>max</th>\n",
       "      <td>2879.000000</td>\n",
       "      <td>82.000000</td>\n",
       "      <td>2445.000000</td>\n",
       "      <td>67.000000</td>\n",
       "      <td>96.000000</td>\n",
       "      <td>313750.000000</td>\n",
       "      <td>4883.000000</td>\n",
       "      <td>4894.000000</td>\n",
       "      <td>8681.000000</td>\n",
       "      <td>96416.000000</td>\n",
       "      <td>1271.000000</td>\n",
       "    </tr>\n",
       "  </tbody>\n",
       "</table>\n",
       "</div>"
      ],
      "text/plain": [
       "       total_coronic  new_coronic  total_be_cured  new_be_cured    deceased  \\\n",
       "count     352.000000   352.000000      352.000000    352.000000  352.000000   \n",
       "mean      584.747159     8.178977      456.122159      6.946023   14.315341   \n",
       "std       736.597855    13.497676      574.337651     11.536141   24.724695   \n",
       "min         2.000000     0.000000        0.000000      0.000000    0.000000   \n",
       "25%       141.000000     0.000000      127.750000      0.000000    3.000000   \n",
       "50%       201.000000     2.000000      157.000000      2.000000    3.000000   \n",
       "75%       599.000000     8.250000      552.250000      7.000000   15.000000   \n",
       "max      2879.000000    82.000000     2445.000000     67.000000   96.000000   \n",
       "\n",
       "       total_negative  new_negative    diagnosed     isolated  total_released  \\\n",
       "count      352.000000    352.000000   352.000000   352.000000      352.000000   \n",
       "mean    105812.329545    891.335227   899.514205  3396.045455    35718.613636   \n",
       "std      80580.209634    841.072302   848.732076  1798.894511    26955.218768   \n",
       "min        613.000000      0.000000    11.000000    15.000000       15.000000   \n",
       "25%      39550.750000    408.000000   410.250000  2453.000000    12650.250000   \n",
       "50%      82589.000000    545.500000   546.000000  2978.000000    31157.500000   \n",
       "75%     160614.750000   1005.000000  1014.500000  3838.000000    54062.000000   \n",
       "max     313750.000000   4883.000000  4894.000000  8681.000000    96416.000000   \n",
       "\n",
       "       new_released  \n",
       "count    352.000000  \n",
       "mean     273.909091  \n",
       "std      204.929458  \n",
       "min        0.000000  \n",
       "25%      146.750000  \n",
       "50%      219.500000  \n",
       "75%      355.250000  \n",
       "max     1271.000000  "
      ]
     },
     "execution_count": 70,
     "metadata": {},
     "output_type": "execute_result"
    }
   ],
   "source": [
    "data.describe()"
   ]
  },
  {
   "cell_type": "code",
   "execution_count": 71,
   "id": "packed-uzbekistan",
   "metadata": {},
   "outputs": [
    {
     "data": {
      "text/plain": [
       "date              object\n",
       "day               object\n",
       "total_coronic      int64\n",
       "new_coronic        int64\n",
       "total_be_cured     int64\n",
       "new_be_cured       int64\n",
       "deceased           int64\n",
       "total_negative     int64\n",
       "new_negative       int64\n",
       "diagnosed          int64\n",
       "isolated           int64\n",
       "total_released     int64\n",
       "new_released       int64\n",
       "dtype: object"
      ]
     },
     "execution_count": 71,
     "metadata": {},
     "output_type": "execute_result"
    }
   ],
   "source": [
    "data.dtypes"
   ]
  },
  {
   "cell_type": "code",
   "execution_count": 72,
   "id": "transsexual-forge",
   "metadata": {},
   "outputs": [
    {
     "data": {
      "text/plain": [
       "(352, 13)"
      ]
     },
     "execution_count": 72,
     "metadata": {},
     "output_type": "execute_result"
    }
   ],
   "source": [
    "data.shape"
   ]
  },
  {
   "cell_type": "markdown",
   "id": "suspended-theater",
   "metadata": {},
   "source": [
    "### 총 9개의 Variable과 351개의 Observation으로 구성된 데이터 프레임\n",
    "\n",
    "**date : 날짜**  \n",
    "2020년 2월 21일부터 2021년 2월 6일까지 총 352일의 자료로 구성되어 있습니다.\n",
    "<br>\n",
    "\n",
    "**day : 요일**  \n",
    "총 352일간의 요일을 나타내고 있습니다.\n",
    "<br>\n",
    "\n",
    "**total_coronic : 확진자수(누계)**  \n",
    "2020년 2월 21일부터 시작해서 매일 매일 코로나 확진자 수의 총합\n",
    "<br>\n",
    "\n",
    "**new_coronic : 확진자수(신규)**  \n",
    "매일 추가로 확진 판정받은 확진자 수\n",
    "<br>\n",
    "\n",
    "**total_be_cured : 완치자수(누계)**  \n",
    "2020년 2월 21일부터 시작해서 매일 매일 코로나 완치자 수의 총합\n",
    "<br>\n",
    "\n",
    "**new_be_cured : 완치자수(추가)**  \n",
    "매일 추가로 완치 판정받은 완치자 수\n",
    "<br>\n",
    "\n",
    "**deceased : 사망자수(누계)**  \n",
    "현재까지 코로나로 인해 사망한 사람 수의 총합\n",
    "<br>\n",
    "\n",
    "**total_negative : 검사결과 음성(누계)**  \n",
    "2020년 2월 21일부터 코로나 검사결과 양성이 아닌 음성 판정을 받은 사람 수의 총합\n",
    "<br>\n",
    "\n",
    "**new_negative : 검사결과 음성(추가)**  \n",
    "매일 코로나 검사결과 음성 판정을 받은 인원 수  \n",
    "총 3개의 `Outlier`가 존재한다. 즉, 이 부분을 제대로 파악해서 분석에 활용할 것!!\n",
    "<br>\n",
    "\n",
    "**dianosed : 코로나 검사를 받은 인원수**  \n",
    "추가 확진자수와 음성판정받은 사람수의 합\n",
    "<br>\n",
    "\n",
    "**isolated : 격리중인 인원수**  \n",
    "코로나 확진자와 밀접한 접촉자로 판단되어 격리 중인 인원의 수\n",
    "<br>\n",
    "\n",
    "**total_released : 격리해제 인원수(누계)**  \n",
    "격리 기간 이후 음성 판정으로 인해 격리가 해제된 사람 수의 총합\n",
    "<br>\n",
    "\n",
    "**new_released : 격리해제 인원수(추가)**  \n",
    "격리 기간을 거쳐 격리 해제된 인원의 수\n",
    "\n",
    "<br>\n",
    "<br>"
   ]
  },
  {
   "cell_type": "code",
   "execution_count": 73,
   "id": "regional-egyptian",
   "metadata": {},
   "outputs": [],
   "source": [
    "data.to_csv(\"Busan_Covid-19.csv\", index=False)"
   ]
  }
 ],
 "metadata": {
  "kernelspec": {
   "display_name": "Python 3",
   "language": "python",
   "name": "python3"
  },
  "language_info": {
   "codemirror_mode": {
    "name": "ipython",
    "version": 3
   },
   "file_extension": ".py",
   "mimetype": "text/x-python",
   "name": "python",
   "nbconvert_exporter": "python",
   "pygments_lexer": "ipython3",
   "version": "3.8.7"
  }
 },
 "nbformat": 4,
 "nbformat_minor": 5
}
