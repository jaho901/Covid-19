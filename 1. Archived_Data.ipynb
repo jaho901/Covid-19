{
 "cells": [
  {
   "cell_type": "markdown",
   "id": "adjusted-strengthening",
   "metadata": {},
   "source": [
    "# 1. Archived Data (데이터 구축)\n",
    "\n",
    "## BeautifulSoup을 활용"
   ]
  },
  {
   "cell_type": "code",
   "execution_count": 1,
   "id": "acquired-nigeria",
   "metadata": {},
   "outputs": [],
   "source": [
    "import sys\n",
    "import os\n",
    "if not sys.modules.get('requests'):\n",
    "    os.system('pip3 install requests')\n",
    "if not sys.modules.get('BeautifulSoup'):\n",
    "    os.system('pip3 install beautifulsoup4')\n",
    "from urllib.request import urlopen\n",
    "from bs4 import BeautifulSoup\n",
    "if not sys.modules.get('html_table_parser'):\n",
    "    os.system('pip3 install html_table_parser')\n",
    "from html_table_parser import parser_functions as parser\n",
    "import numpy as np\n",
    "import pandas as pd"
   ]
  },
  {
   "cell_type": "code",
   "execution_count": 2,
   "id": "stylish-queen",
   "metadata": {},
   "outputs": [],
   "source": [
    "url = \"https://www.busan.go.kr/covid19/Status02.do\""
   ]
  },
  {
   "cell_type": "code",
   "execution_count": 3,
   "id": "close-principal",
   "metadata": {},
   "outputs": [],
   "source": [
    "result = urlopen(url)\n",
    "html = result.read()\n",
    "soup = BeautifulSoup(html, 'html.parser')"
   ]
  },
  {
   "cell_type": "code",
   "execution_count": 4,
   "id": "julian-grill",
   "metadata": {
    "scrolled": true
   },
   "outputs": [
    {
     "data": {
      "text/plain": [
       "[<meta charset=\"utf-8\">\n",
       " <meta content=\"IE=edge\" http-equiv=\"X-UA-Compatible\">\n",
       " <meta content=\"width=device-width, initial-scale=1.0, user-scalable=yes\" name=\"viewport\">\n",
       " <title>부산광역시 코로나19 (BUSAN COVID-19)</title>\n",
       " <link href=\"/covid19/favicon.ico\" rel=\"shortcut icon\" type=\"image/x-icon\"/>\n",
       " <link href=\"/covid19/resource/assets/vendor/jquery-ui/org/jquery-ui.css\" rel=\"stylesheet\"/>\n",
       " <link href=\"/covid19/resource/assets/vendor/chart/Chart.css\" rel=\"stylesheet\"/>\n",
       " <link href=\"/covid19/resource/assets/vendor/slick/slick.css\" rel=\"stylesheet\"/>\n",
       " <link href=\"/covid19/resource/assets/css/base.css?v=20210307224822\" rel=\"stylesheet\"/>\n",
       " <link href=\"/covid19/resource/assets/css/layout.css?v=20210307224822\" rel=\"stylesheet\"/>\n",
       " <link href=\"/covid19/resource/assets/css/common.css?v=20210307224822\" rel=\"stylesheet\"/>\n",
       " <link href=\"/covid19/resource/assets/css/content.css?v=20210307224822\" rel=\"stylesheet\"/>\n",
       " <script src=\"/covid19/resource/assets/js/jquery.min.js\"></script>\n",
       " <script src=\"/covid19/resource/assets/vendor/jquery-ui/org/jquery-ui.js\"></script>\n",
       " <script src=\"/covid19/resource/assets/vendor/chart/Chart.js\"></script>\n",
       " <script src=\"/covid19/resource/assets/vendor/slick/slick.js\"></script>\n",
       " <script src=\"/covid19/resource/assets/js/netfunnel.js\"></script>\n",
       " <script src=\"/covid19/resource/assets/js/busan.bbs.js\"></script>\n",
       " <script src=\"/covid19/resource/assets/js/common.js\"></script>\n",
       " <script>\n",
       "       $(function () {\n",
       "          var uri = '/Status02.do';\n",
       "          if (uri != '/Corona19.do') {\n",
       "             $(\"html\").animate({ scrollTop: $(\"#container\").offset().top + \"px\" }, 500);\n",
       "          }\n",
       "       });\n",
       "    </script>\n",
       " </meta></meta></meta>,\n",
       " <meta content=\"IE=edge\" http-equiv=\"X-UA-Compatible\">\n",
       " <meta content=\"width=device-width, initial-scale=1.0, user-scalable=yes\" name=\"viewport\">\n",
       " <title>부산광역시 코로나19 (BUSAN COVID-19)</title>\n",
       " <link href=\"/covid19/favicon.ico\" rel=\"shortcut icon\" type=\"image/x-icon\"/>\n",
       " <link href=\"/covid19/resource/assets/vendor/jquery-ui/org/jquery-ui.css\" rel=\"stylesheet\"/>\n",
       " <link href=\"/covid19/resource/assets/vendor/chart/Chart.css\" rel=\"stylesheet\"/>\n",
       " <link href=\"/covid19/resource/assets/vendor/slick/slick.css\" rel=\"stylesheet\"/>\n",
       " <link href=\"/covid19/resource/assets/css/base.css?v=20210307224822\" rel=\"stylesheet\"/>\n",
       " <link href=\"/covid19/resource/assets/css/layout.css?v=20210307224822\" rel=\"stylesheet\"/>\n",
       " <link href=\"/covid19/resource/assets/css/common.css?v=20210307224822\" rel=\"stylesheet\"/>\n",
       " <link href=\"/covid19/resource/assets/css/content.css?v=20210307224822\" rel=\"stylesheet\"/>\n",
       " <script src=\"/covid19/resource/assets/js/jquery.min.js\"></script>\n",
       " <script src=\"/covid19/resource/assets/vendor/jquery-ui/org/jquery-ui.js\"></script>\n",
       " <script src=\"/covid19/resource/assets/vendor/chart/Chart.js\"></script>\n",
       " <script src=\"/covid19/resource/assets/vendor/slick/slick.js\"></script>\n",
       " <script src=\"/covid19/resource/assets/js/netfunnel.js\"></script>\n",
       " <script src=\"/covid19/resource/assets/js/busan.bbs.js\"></script>\n",
       " <script src=\"/covid19/resource/assets/js/common.js\"></script>\n",
       " <script>\n",
       "       $(function () {\n",
       "          var uri = '/Status02.do';\n",
       "          if (uri != '/Corona19.do') {\n",
       "             $(\"html\").animate({ scrollTop: $(\"#container\").offset().top + \"px\" }, 500);\n",
       "          }\n",
       "       });\n",
       "    </script>\n",
       " </meta></meta>,\n",
       " <meta content=\"width=device-width, initial-scale=1.0, user-scalable=yes\" name=\"viewport\">\n",
       " <title>부산광역시 코로나19 (BUSAN COVID-19)</title>\n",
       " <link href=\"/covid19/favicon.ico\" rel=\"shortcut icon\" type=\"image/x-icon\"/>\n",
       " <link href=\"/covid19/resource/assets/vendor/jquery-ui/org/jquery-ui.css\" rel=\"stylesheet\"/>\n",
       " <link href=\"/covid19/resource/assets/vendor/chart/Chart.css\" rel=\"stylesheet\"/>\n",
       " <link href=\"/covid19/resource/assets/vendor/slick/slick.css\" rel=\"stylesheet\"/>\n",
       " <link href=\"/covid19/resource/assets/css/base.css?v=20210307224822\" rel=\"stylesheet\"/>\n",
       " <link href=\"/covid19/resource/assets/css/layout.css?v=20210307224822\" rel=\"stylesheet\"/>\n",
       " <link href=\"/covid19/resource/assets/css/common.css?v=20210307224822\" rel=\"stylesheet\"/>\n",
       " <link href=\"/covid19/resource/assets/css/content.css?v=20210307224822\" rel=\"stylesheet\"/>\n",
       " <script src=\"/covid19/resource/assets/js/jquery.min.js\"></script>\n",
       " <script src=\"/covid19/resource/assets/vendor/jquery-ui/org/jquery-ui.js\"></script>\n",
       " <script src=\"/covid19/resource/assets/vendor/chart/Chart.js\"></script>\n",
       " <script src=\"/covid19/resource/assets/vendor/slick/slick.js\"></script>\n",
       " <script src=\"/covid19/resource/assets/js/netfunnel.js\"></script>\n",
       " <script src=\"/covid19/resource/assets/js/busan.bbs.js\"></script>\n",
       " <script src=\"/covid19/resource/assets/js/common.js\"></script>\n",
       " <script>\n",
       "       $(function () {\n",
       "          var uri = '/Status02.do';\n",
       "          if (uri != '/Corona19.do') {\n",
       "             $(\"html\").animate({ scrollTop: $(\"#container\").offset().top + \"px\" }, 500);\n",
       "          }\n",
       "       });\n",
       "    </script>\n",
       " </meta>,\n",
       " <title>부산광역시 코로나19 (BUSAN COVID-19)</title>,\n",
       " <link href=\"/covid19/favicon.ico\" rel=\"shortcut icon\" type=\"image/x-icon\"/>,\n",
       " <link href=\"/covid19/resource/assets/vendor/jquery-ui/org/jquery-ui.css\" rel=\"stylesheet\"/>,\n",
       " <link href=\"/covid19/resource/assets/vendor/chart/Chart.css\" rel=\"stylesheet\"/>,\n",
       " <link href=\"/covid19/resource/assets/vendor/slick/slick.css\" rel=\"stylesheet\"/>,\n",
       " <link href=\"/covid19/resource/assets/css/base.css?v=20210307224822\" rel=\"stylesheet\"/>,\n",
       " <link href=\"/covid19/resource/assets/css/layout.css?v=20210307224822\" rel=\"stylesheet\"/>,\n",
       " <link href=\"/covid19/resource/assets/css/common.css?v=20210307224822\" rel=\"stylesheet\"/>,\n",
       " <link href=\"/covid19/resource/assets/css/content.css?v=20210307224822\" rel=\"stylesheet\"/>,\n",
       " <script src=\"/covid19/resource/assets/js/jquery.min.js\"></script>,\n",
       " <script src=\"/covid19/resource/assets/vendor/jquery-ui/org/jquery-ui.js\"></script>,\n",
       " <script src=\"/covid19/resource/assets/vendor/chart/Chart.js\"></script>,\n",
       " <script src=\"/covid19/resource/assets/vendor/slick/slick.js\"></script>,\n",
       " <script src=\"/covid19/resource/assets/js/netfunnel.js\"></script>,\n",
       " <script src=\"/covid19/resource/assets/js/busan.bbs.js\"></script>,\n",
       " <script src=\"/covid19/resource/assets/js/common.js\"></script>,\n",
       " <script>\n",
       "       $(function () {\n",
       "          var uri = '/Status02.do';\n",
       "          if (uri != '/Corona19.do') {\n",
       "             $(\"html\").animate({ scrollTop: $(\"#container\").offset().top + \"px\" }, 500);\n",
       "          }\n",
       "       });\n",
       "    </script>]"
      ]
     },
     "execution_count": 4,
     "metadata": {},
     "output_type": "execute_result"
    }
   ],
   "source": [
    "soup.head()"
   ]
  },
  {
   "cell_type": "code",
   "execution_count": 5,
   "id": "minus-passenger",
   "metadata": {
    "scrolled": true
   },
   "outputs": [],
   "source": [
    "temp = soup.find_all('table')\n",
    "# print(temp)"
   ]
  },
  {
   "cell_type": "code",
   "execution_count": 6,
   "id": "competent-somerset",
   "metadata": {},
   "outputs": [],
   "source": [
    "# temp[3]"
   ]
  },
  {
   "cell_type": "code",
   "execution_count": 7,
   "id": "therapeutic-rider",
   "metadata": {
    "scrolled": false
   },
   "outputs": [],
   "source": [
    "p = parser.make2d(temp[3])"
   ]
  },
  {
   "cell_type": "code",
   "execution_count": 8,
   "id": "appointed-browse",
   "metadata": {},
   "outputs": [],
   "source": [
    "data = []\n",
    "data = pd.DataFrame(p, columns=p[0])"
   ]
  },
  {
   "cell_type": "code",
   "execution_count": 9,
   "id": "instructional-chair",
   "metadata": {},
   "outputs": [
    {
     "data": {
      "text/plain": [
       "Index(['날짜', '날짜', '확진자수', '확진자수', '완치자수(누계)', '사망자수(누계)', '검사결과음성(누계)',\n",
       "       '자가격리현황', '자가격리현황'],\n",
       "      dtype='object')"
      ]
     },
     "execution_count": 9,
     "metadata": {},
     "output_type": "execute_result"
    }
   ],
   "source": [
    "data.columns"
   ]
  },
  {
   "cell_type": "code",
   "execution_count": 10,
   "id": "anticipated-environment",
   "metadata": {},
   "outputs": [],
   "source": [
    "data.columns = ['date', 'day', 'total_coronic', 'new_coronic', 'total_be_cured', 'deceased', 'total_negative',\n",
    "                        'isolated', 'total_released']"
   ]
  },
  {
   "cell_type": "code",
   "execution_count": 11,
   "id": "equivalent-restaurant",
   "metadata": {},
   "outputs": [
    {
     "data": {
      "text/plain": [
       "Index(['date', 'day', 'total_coronic', 'new_coronic', 'total_be_cured',\n",
       "       'deceased', 'total_negative', 'isolated', 'total_released'],\n",
       "      dtype='object')"
      ]
     },
     "execution_count": 11,
     "metadata": {},
     "output_type": "execute_result"
    }
   ],
   "source": [
    "data.columns"
   ]
  },
  {
   "cell_type": "code",
   "execution_count": 12,
   "id": "careful-cincinnati",
   "metadata": {
    "scrolled": true
   },
   "outputs": [
    {
     "data": {
      "text/plain": [
       "date                      날짜\n",
       "day                       날짜\n",
       "total_coronic           확진자수\n",
       "new_coronic             확진자수\n",
       "total_be_cured      완치자수(누계)\n",
       "deceased            사망자수(누계)\n",
       "total_negative    검사결과음성(누계)\n",
       "isolated              자가격리현황\n",
       "total_released        자가격리현황\n",
       "Name: 0, dtype: object"
      ]
     },
     "execution_count": 12,
     "metadata": {},
     "output_type": "execute_result"
    }
   ],
   "source": [
    "data.loc[0]"
   ]
  },
  {
   "cell_type": "code",
   "execution_count": 13,
   "id": "super-italy",
   "metadata": {},
   "outputs": [],
   "source": [
    "data = data.drop([data.index[0], data.index[1]])"
   ]
  },
  {
   "cell_type": "code",
   "execution_count": 14,
   "id": "pending-membrane",
   "metadata": {
    "scrolled": true
   },
   "outputs": [
    {
     "data": {
      "text/plain": [
       "RangeIndex(start=0, stop=382, step=1)"
      ]
     },
     "execution_count": 14,
     "metadata": {},
     "output_type": "execute_result"
    }
   ],
   "source": [
    "data = data.reset_index(drop=True)\n",
    "data.index"
   ]
  },
  {
   "cell_type": "code",
   "execution_count": 15,
   "id": "short-calcium",
   "metadata": {},
   "outputs": [
    {
     "data": {
      "text/html": [
       "<div>\n",
       "<style scoped>\n",
       "    .dataframe tbody tr th:only-of-type {\n",
       "        vertical-align: middle;\n",
       "    }\n",
       "\n",
       "    .dataframe tbody tr th {\n",
       "        vertical-align: top;\n",
       "    }\n",
       "\n",
       "    .dataframe thead th {\n",
       "        text-align: right;\n",
       "    }\n",
       "</style>\n",
       "<table border=\"1\" class=\"dataframe\">\n",
       "  <thead>\n",
       "    <tr style=\"text-align: right;\">\n",
       "      <th></th>\n",
       "      <th>date</th>\n",
       "      <th>day</th>\n",
       "      <th>total_coronic</th>\n",
       "      <th>new_coronic</th>\n",
       "      <th>total_be_cured</th>\n",
       "      <th>deceased</th>\n",
       "      <th>total_negative</th>\n",
       "      <th>isolated</th>\n",
       "      <th>total_released</th>\n",
       "    </tr>\n",
       "  </thead>\n",
       "  <tbody>\n",
       "    <tr>\n",
       "      <th>0</th>\n",
       "      <td>2021-03-07</td>\n",
       "      <td>일</td>\n",
       "      <td>3,326</td>\n",
       "      <td>13</td>\n",
       "      <td>3,019</td>\n",
       "      <td>110</td>\n",
       "      <td>354,692</td>\n",
       "      <td>5,124</td>\n",
       "      <td>108,827</td>\n",
       "    </tr>\n",
       "    <tr>\n",
       "      <th>1</th>\n",
       "      <td>2021-03-06</td>\n",
       "      <td>토</td>\n",
       "      <td>3,313</td>\n",
       "      <td>5</td>\n",
       "      <td>3,003</td>\n",
       "      <td>110</td>\n",
       "      <td>352,827</td>\n",
       "      <td>4,953</td>\n",
       "      <td>108,391</td>\n",
       "    </tr>\n",
       "    <tr>\n",
       "      <th>2</th>\n",
       "      <td>2021-03-05</td>\n",
       "      <td>금</td>\n",
       "      <td>3,308</td>\n",
       "      <td>12</td>\n",
       "      <td>2,982</td>\n",
       "      <td>110</td>\n",
       "      <td>351,708</td>\n",
       "      <td>4,949</td>\n",
       "      <td>107,889</td>\n",
       "    </tr>\n",
       "    <tr>\n",
       "      <th>3</th>\n",
       "      <td>2021-03-04</td>\n",
       "      <td>목</td>\n",
       "      <td>3,296</td>\n",
       "      <td>22</td>\n",
       "      <td>2,950</td>\n",
       "      <td>109</td>\n",
       "      <td>349,082</td>\n",
       "      <td>4,863</td>\n",
       "      <td>107,404</td>\n",
       "    </tr>\n",
       "    <tr>\n",
       "      <th>4</th>\n",
       "      <td>2021-03-03</td>\n",
       "      <td>수</td>\n",
       "      <td>3,274</td>\n",
       "      <td>18</td>\n",
       "      <td>2,937</td>\n",
       "      <td>109</td>\n",
       "      <td>347,315</td>\n",
       "      <td>5,027</td>\n",
       "      <td>111,925</td>\n",
       "    </tr>\n",
       "    <tr>\n",
       "      <th>...</th>\n",
       "      <td>...</td>\n",
       "      <td>...</td>\n",
       "      <td>...</td>\n",
       "      <td>...</td>\n",
       "      <td>...</td>\n",
       "      <td>...</td>\n",
       "      <td>...</td>\n",
       "      <td>...</td>\n",
       "      <td>...</td>\n",
       "    </tr>\n",
       "    <tr>\n",
       "      <th>377</th>\n",
       "      <td>2020-02-25</td>\n",
       "      <td>화</td>\n",
       "      <td>51</td>\n",
       "      <td>13</td>\n",
       "      <td>0</td>\n",
       "      <td>0</td>\n",
       "      <td>1,823</td>\n",
       "      <td>618</td>\n",
       "      <td>21</td>\n",
       "    </tr>\n",
       "    <tr>\n",
       "      <th>378</th>\n",
       "      <td>2020-02-24</td>\n",
       "      <td>월</td>\n",
       "      <td>38</td>\n",
       "      <td>22</td>\n",
       "      <td>0</td>\n",
       "      <td>0</td>\n",
       "      <td>1,499</td>\n",
       "      <td>263</td>\n",
       "      <td>22</td>\n",
       "    </tr>\n",
       "    <tr>\n",
       "      <th>379</th>\n",
       "      <td>2020-02-23</td>\n",
       "      <td>일</td>\n",
       "      <td>16</td>\n",
       "      <td>11</td>\n",
       "      <td>0</td>\n",
       "      <td>0</td>\n",
       "      <td>1,076</td>\n",
       "      <td>145</td>\n",
       "      <td>15</td>\n",
       "    </tr>\n",
       "    <tr>\n",
       "      <th>380</th>\n",
       "      <td>2020-02-22</td>\n",
       "      <td>토</td>\n",
       "      <td>5</td>\n",
       "      <td>3</td>\n",
       "      <td>0</td>\n",
       "      <td>0</td>\n",
       "      <td>1,092</td>\n",
       "      <td>115</td>\n",
       "      <td>15</td>\n",
       "    </tr>\n",
       "    <tr>\n",
       "      <th>381</th>\n",
       "      <td>2020-02-21</td>\n",
       "      <td>금</td>\n",
       "      <td>2</td>\n",
       "      <td>2</td>\n",
       "      <td>0</td>\n",
       "      <td>0</td>\n",
       "      <td>613</td>\n",
       "      <td>15</td>\n",
       "      <td>15</td>\n",
       "    </tr>\n",
       "  </tbody>\n",
       "</table>\n",
       "<p>382 rows × 9 columns</p>\n",
       "</div>"
      ],
      "text/plain": [
       "           date day total_coronic new_coronic total_be_cured deceased  \\\n",
       "0    2021-03-07   일         3,326          13          3,019      110   \n",
       "1    2021-03-06   토         3,313           5          3,003      110   \n",
       "2    2021-03-05   금         3,308          12          2,982      110   \n",
       "3    2021-03-04   목         3,296          22          2,950      109   \n",
       "4    2021-03-03   수         3,274          18          2,937      109   \n",
       "..          ...  ..           ...         ...            ...      ...   \n",
       "377  2020-02-25   화            51          13              0        0   \n",
       "378  2020-02-24   월            38          22              0        0   \n",
       "379  2020-02-23   일            16          11              0        0   \n",
       "380  2020-02-22   토             5           3              0        0   \n",
       "381  2020-02-21   금             2           2              0        0   \n",
       "\n",
       "    total_negative isolated total_released  \n",
       "0          354,692    5,124        108,827  \n",
       "1          352,827    4,953        108,391  \n",
       "2          351,708    4,949        107,889  \n",
       "3          349,082    4,863        107,404  \n",
       "4          347,315    5,027        111,925  \n",
       "..             ...      ...            ...  \n",
       "377          1,823      618             21  \n",
       "378          1,499      263             22  \n",
       "379          1,076      145             15  \n",
       "380          1,092      115             15  \n",
       "381            613       15             15  \n",
       "\n",
       "[382 rows x 9 columns]"
      ]
     },
     "execution_count": 15,
     "metadata": {},
     "output_type": "execute_result"
    }
   ],
   "source": [
    "data"
   ]
  },
  {
   "cell_type": "code",
   "execution_count": 16,
   "id": "republican-parade",
   "metadata": {},
   "outputs": [],
   "source": [
    "data.to_csv(\"Busan_Covid-19.csv\", index=False)"
   ]
  },
  {
   "cell_type": "markdown",
   "id": "framed-voltage",
   "metadata": {},
   "source": [
    " "
   ]
  },
  {
   "cell_type": "markdown",
   "id": "european-probability",
   "metadata": {},
   "source": [
    " "
   ]
  },
  {
   "cell_type": "markdown",
   "id": "assigned-dietary",
   "metadata": {},
   "source": [
    " "
   ]
  }
 ],
 "metadata": {
  "kernelspec": {
   "display_name": "Python 3",
   "language": "python",
   "name": "python3"
  },
  "language_info": {
   "codemirror_mode": {
    "name": "ipython",
    "version": 3
   },
   "file_extension": ".py",
   "mimetype": "text/x-python",
   "name": "python",
   "nbconvert_exporter": "python",
   "pygments_lexer": "ipython3",
   "version": "3.8.7"
  }
 },
 "nbformat": 4,
 "nbformat_minor": 5
}
