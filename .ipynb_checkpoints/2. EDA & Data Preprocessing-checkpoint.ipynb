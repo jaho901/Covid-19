{
 "cells": [
  {
   "cell_type": "markdown",
   "id": "needed-xerox",
   "metadata": {},
   "source": [
    "<br>\n",
    "\n",
    "# 1. 데이터 탐색\n",
    "\n",
    "**데이터 셋 조회 및 내용 탐색**"
   ]
  },
  {
   "cell_type": "code",
   "execution_count": 1,
   "id": "bulgarian-canyon",
   "metadata": {},
   "outputs": [],
   "source": [
    "import numpy as np\n",
    "import pandas as pd"
   ]
  },
  {
   "cell_type": "code",
   "execution_count": 2,
   "id": "judicial-aspect",
   "metadata": {},
   "outputs": [],
   "source": [
    "import warnings\n",
    "\n",
    "warnings.filterwarnings(action='ignore')\n",
    "#  warnings.filterwarnings(action='default')"
   ]
  },
  {
   "cell_type": "code",
   "execution_count": 3,
   "id": "therapeutic-accounting",
   "metadata": {},
   "outputs": [],
   "source": [
    "data = pd.read_csv(\"Busan_Covid-19.csv\")"
   ]
  },
  {
   "cell_type": "code",
   "execution_count": 4,
   "id": "vanilla-philadelphia",
   "metadata": {},
   "outputs": [
    {
     "data": {
      "text/html": [
       "<div>\n",
       "<style scoped>\n",
       "    .dataframe tbody tr th:only-of-type {\n",
       "        vertical-align: middle;\n",
       "    }\n",
       "\n",
       "    .dataframe tbody tr th {\n",
       "        vertical-align: top;\n",
       "    }\n",
       "\n",
       "    .dataframe thead th {\n",
       "        text-align: right;\n",
       "    }\n",
       "</style>\n",
       "<table border=\"1\" class=\"dataframe\">\n",
       "  <thead>\n",
       "    <tr style=\"text-align: right;\">\n",
       "      <th></th>\n",
       "      <th>date</th>\n",
       "      <th>day</th>\n",
       "      <th>total_coronic</th>\n",
       "      <th>new_coronic</th>\n",
       "      <th>total_be_cured</th>\n",
       "      <th>deceased</th>\n",
       "      <th>total_negative</th>\n",
       "      <th>isolated</th>\n",
       "      <th>total_released</th>\n",
       "    </tr>\n",
       "  </thead>\n",
       "  <tbody>\n",
       "    <tr>\n",
       "      <th>0</th>\n",
       "      <td>2021-03-07</td>\n",
       "      <td>일</td>\n",
       "      <td>3,326</td>\n",
       "      <td>13</td>\n",
       "      <td>3,019</td>\n",
       "      <td>110</td>\n",
       "      <td>354,692</td>\n",
       "      <td>5,124</td>\n",
       "      <td>108,827</td>\n",
       "    </tr>\n",
       "    <tr>\n",
       "      <th>1</th>\n",
       "      <td>2021-03-06</td>\n",
       "      <td>토</td>\n",
       "      <td>3,313</td>\n",
       "      <td>5</td>\n",
       "      <td>3,003</td>\n",
       "      <td>110</td>\n",
       "      <td>352,827</td>\n",
       "      <td>4,953</td>\n",
       "      <td>108,391</td>\n",
       "    </tr>\n",
       "    <tr>\n",
       "      <th>2</th>\n",
       "      <td>2021-03-05</td>\n",
       "      <td>금</td>\n",
       "      <td>3,308</td>\n",
       "      <td>12</td>\n",
       "      <td>2,982</td>\n",
       "      <td>110</td>\n",
       "      <td>351,708</td>\n",
       "      <td>4,949</td>\n",
       "      <td>107,889</td>\n",
       "    </tr>\n",
       "    <tr>\n",
       "      <th>3</th>\n",
       "      <td>2021-03-04</td>\n",
       "      <td>목</td>\n",
       "      <td>3,296</td>\n",
       "      <td>22</td>\n",
       "      <td>2,950</td>\n",
       "      <td>109</td>\n",
       "      <td>349,082</td>\n",
       "      <td>4,863</td>\n",
       "      <td>107,404</td>\n",
       "    </tr>\n",
       "    <tr>\n",
       "      <th>4</th>\n",
       "      <td>2021-03-03</td>\n",
       "      <td>수</td>\n",
       "      <td>3,274</td>\n",
       "      <td>18</td>\n",
       "      <td>2,937</td>\n",
       "      <td>109</td>\n",
       "      <td>347,315</td>\n",
       "      <td>5,027</td>\n",
       "      <td>111,925</td>\n",
       "    </tr>\n",
       "    <tr>\n",
       "      <th>...</th>\n",
       "      <td>...</td>\n",
       "      <td>...</td>\n",
       "      <td>...</td>\n",
       "      <td>...</td>\n",
       "      <td>...</td>\n",
       "      <td>...</td>\n",
       "      <td>...</td>\n",
       "      <td>...</td>\n",
       "      <td>...</td>\n",
       "    </tr>\n",
       "    <tr>\n",
       "      <th>377</th>\n",
       "      <td>2020-02-25</td>\n",
       "      <td>화</td>\n",
       "      <td>51</td>\n",
       "      <td>13</td>\n",
       "      <td>0</td>\n",
       "      <td>0</td>\n",
       "      <td>1,823</td>\n",
       "      <td>618</td>\n",
       "      <td>21</td>\n",
       "    </tr>\n",
       "    <tr>\n",
       "      <th>378</th>\n",
       "      <td>2020-02-24</td>\n",
       "      <td>월</td>\n",
       "      <td>38</td>\n",
       "      <td>22</td>\n",
       "      <td>0</td>\n",
       "      <td>0</td>\n",
       "      <td>1,499</td>\n",
       "      <td>263</td>\n",
       "      <td>22</td>\n",
       "    </tr>\n",
       "    <tr>\n",
       "      <th>379</th>\n",
       "      <td>2020-02-23</td>\n",
       "      <td>일</td>\n",
       "      <td>16</td>\n",
       "      <td>11</td>\n",
       "      <td>0</td>\n",
       "      <td>0</td>\n",
       "      <td>1,076</td>\n",
       "      <td>145</td>\n",
       "      <td>15</td>\n",
       "    </tr>\n",
       "    <tr>\n",
       "      <th>380</th>\n",
       "      <td>2020-02-22</td>\n",
       "      <td>토</td>\n",
       "      <td>5</td>\n",
       "      <td>3</td>\n",
       "      <td>0</td>\n",
       "      <td>0</td>\n",
       "      <td>1,092</td>\n",
       "      <td>115</td>\n",
       "      <td>15</td>\n",
       "    </tr>\n",
       "    <tr>\n",
       "      <th>381</th>\n",
       "      <td>2020-02-21</td>\n",
       "      <td>금</td>\n",
       "      <td>2</td>\n",
       "      <td>2</td>\n",
       "      <td>0</td>\n",
       "      <td>0</td>\n",
       "      <td>613</td>\n",
       "      <td>15</td>\n",
       "      <td>15</td>\n",
       "    </tr>\n",
       "  </tbody>\n",
       "</table>\n",
       "<p>382 rows × 9 columns</p>\n",
       "</div>"
      ],
      "text/plain": [
       "           date day total_coronic  new_coronic total_be_cured  deceased  \\\n",
       "0    2021-03-07   일         3,326           13          3,019       110   \n",
       "1    2021-03-06   토         3,313            5          3,003       110   \n",
       "2    2021-03-05   금         3,308           12          2,982       110   \n",
       "3    2021-03-04   목         3,296           22          2,950       109   \n",
       "4    2021-03-03   수         3,274           18          2,937       109   \n",
       "..          ...  ..           ...          ...            ...       ...   \n",
       "377  2020-02-25   화            51           13              0         0   \n",
       "378  2020-02-24   월            38           22              0         0   \n",
       "379  2020-02-23   일            16           11              0         0   \n",
       "380  2020-02-22   토             5            3              0         0   \n",
       "381  2020-02-21   금             2            2              0         0   \n",
       "\n",
       "    total_negative isolated total_released  \n",
       "0          354,692    5,124        108,827  \n",
       "1          352,827    4,953        108,391  \n",
       "2          351,708    4,949        107,889  \n",
       "3          349,082    4,863        107,404  \n",
       "4          347,315    5,027        111,925  \n",
       "..             ...      ...            ...  \n",
       "377          1,823      618             21  \n",
       "378          1,499      263             22  \n",
       "379          1,076      145             15  \n",
       "380          1,092      115             15  \n",
       "381            613       15             15  \n",
       "\n",
       "[382 rows x 9 columns]"
      ]
     },
     "execution_count": 4,
     "metadata": {},
     "output_type": "execute_result"
    }
   ],
   "source": [
    "data"
   ]
  },
  {
   "cell_type": "code",
   "execution_count": 5,
   "id": "lasting-synthesis",
   "metadata": {},
   "outputs": [
    {
     "name": "stdout",
     "output_type": "stream",
     "text": [
      "(382, 9)\n",
      "<class 'pandas.core.frame.DataFrame'>\n",
      "RangeIndex: 382 entries, 0 to 381\n",
      "Data columns (total 9 columns):\n",
      " #   Column          Non-Null Count  Dtype \n",
      "---  ------          --------------  ----- \n",
      " 0   date            382 non-null    object\n",
      " 1   day             382 non-null    object\n",
      " 2   total_coronic   382 non-null    object\n",
      " 3   new_coronic     382 non-null    int64 \n",
      " 4   total_be_cured  382 non-null    object\n",
      " 5   deceased        382 non-null    int64 \n",
      " 6   total_negative  382 non-null    object\n",
      " 7   isolated        382 non-null    object\n",
      " 8   total_released  382 non-null    object\n",
      "dtypes: int64(2), object(7)\n",
      "memory usage: 27.0+ KB\n"
     ]
    }
   ],
   "source": [
    "print(data.shape)\n",
    "data.info()"
   ]
  },
  {
   "cell_type": "code",
   "execution_count": 6,
   "id": "damaged-regression",
   "metadata": {
    "scrolled": false
   },
   "outputs": [
    {
     "data": {
      "text/plain": [
       "date              object\n",
       "day               object\n",
       "total_coronic     object\n",
       "new_coronic        int64\n",
       "total_be_cured    object\n",
       "deceased           int64\n",
       "total_negative    object\n",
       "isolated          object\n",
       "total_released    object\n",
       "dtype: object"
      ]
     },
     "execution_count": 6,
     "metadata": {},
     "output_type": "execute_result"
    }
   ],
   "source": [
    "data.dtypes"
   ]
  },
  {
   "cell_type": "markdown",
   "id": "painted-montgomery",
   "metadata": {},
   "source": [
    "<br>\n",
    "\n",
    "# 2. Missing Value & NA\n",
    "\n",
    "**각각의 변수 중에 결측치가 존재할 시 처리 및 제거**"
   ]
  },
  {
   "cell_type": "code",
   "execution_count": 7,
   "id": "continent-assumption",
   "metadata": {},
   "outputs": [
    {
     "data": {
      "text/plain": [
       "date              0\n",
       "day               0\n",
       "total_coronic     0\n",
       "new_coronic       0\n",
       "total_be_cured    0\n",
       "deceased          0\n",
       "total_negative    0\n",
       "isolated          0\n",
       "total_released    0\n",
       "dtype: int64"
      ]
     },
     "execution_count": 7,
     "metadata": {},
     "output_type": "execute_result"
    }
   ],
   "source": [
    "data.isnull().sum()"
   ]
  },
  {
   "cell_type": "code",
   "execution_count": 8,
   "id": "indirect-boring",
   "metadata": {},
   "outputs": [
    {
     "data": {
      "text/plain": [
       "date              0\n",
       "day               0\n",
       "total_coronic     0\n",
       "new_coronic       0\n",
       "total_be_cured    0\n",
       "deceased          0\n",
       "total_negative    0\n",
       "isolated          0\n",
       "total_released    0\n",
       "dtype: int64"
      ]
     },
     "execution_count": 8,
     "metadata": {},
     "output_type": "execute_result"
    }
   ],
   "source": [
    "data.isna().sum()"
   ]
  },
  {
   "cell_type": "markdown",
   "id": "geographic-bargain",
   "metadata": {},
   "source": [
    "데이터 셋에 결측치 및 NA값 모두 존재하지 않음을 알 수 있다."
   ]
  },
  {
   "cell_type": "markdown",
   "id": "handy-comparison",
   "metadata": {},
   "source": [
    " "
   ]
  },
  {
   "cell_type": "markdown",
   "id": "weird-announcement",
   "metadata": {},
   "source": [
    "<br>\n",
    "\n",
    "# 3. Type Conversion\n",
    "\n",
    "**각각의 변수 타입에 맞게 모두 변환**"
   ]
  },
  {
   "cell_type": "code",
   "execution_count": 9,
   "id": "built-angle",
   "metadata": {},
   "outputs": [
    {
     "data": {
      "text/plain": [
       "day\n",
       "금    56\n",
       "목    54\n",
       "수    54\n",
       "월    54\n",
       "일    55\n",
       "토    55\n",
       "화    54\n",
       "dtype: int64"
      ]
     },
     "execution_count": 9,
     "metadata": {},
     "output_type": "execute_result"
    }
   ],
   "source": [
    "data.groupby('day').size()"
   ]
  },
  {
   "cell_type": "code",
   "execution_count": 10,
   "id": "associate-leader",
   "metadata": {},
   "outputs": [
    {
     "data": {
      "text/html": [
       "<div>\n",
       "<style scoped>\n",
       "    .dataframe tbody tr th:only-of-type {\n",
       "        vertical-align: middle;\n",
       "    }\n",
       "\n",
       "    .dataframe tbody tr th {\n",
       "        vertical-align: top;\n",
       "    }\n",
       "\n",
       "    .dataframe thead th {\n",
       "        text-align: right;\n",
       "    }\n",
       "</style>\n",
       "<table border=\"1\" class=\"dataframe\">\n",
       "  <thead>\n",
       "    <tr style=\"text-align: right;\">\n",
       "      <th></th>\n",
       "      <th>date</th>\n",
       "      <th>day</th>\n",
       "    </tr>\n",
       "  </thead>\n",
       "  <tbody>\n",
       "    <tr>\n",
       "      <th>0</th>\n",
       "      <td>2021-03-07</td>\n",
       "      <td>일</td>\n",
       "    </tr>\n",
       "    <tr>\n",
       "      <th>1</th>\n",
       "      <td>2021-03-06</td>\n",
       "      <td>토</td>\n",
       "    </tr>\n",
       "    <tr>\n",
       "      <th>2</th>\n",
       "      <td>2021-03-05</td>\n",
       "      <td>금</td>\n",
       "    </tr>\n",
       "    <tr>\n",
       "      <th>3</th>\n",
       "      <td>2021-03-04</td>\n",
       "      <td>목</td>\n",
       "    </tr>\n",
       "    <tr>\n",
       "      <th>4</th>\n",
       "      <td>2021-03-03</td>\n",
       "      <td>수</td>\n",
       "    </tr>\n",
       "    <tr>\n",
       "      <th>...</th>\n",
       "      <td>...</td>\n",
       "      <td>...</td>\n",
       "    </tr>\n",
       "    <tr>\n",
       "      <th>377</th>\n",
       "      <td>2020-02-25</td>\n",
       "      <td>화</td>\n",
       "    </tr>\n",
       "    <tr>\n",
       "      <th>378</th>\n",
       "      <td>2020-02-24</td>\n",
       "      <td>월</td>\n",
       "    </tr>\n",
       "    <tr>\n",
       "      <th>379</th>\n",
       "      <td>2020-02-23</td>\n",
       "      <td>일</td>\n",
       "    </tr>\n",
       "    <tr>\n",
       "      <th>380</th>\n",
       "      <td>2020-02-22</td>\n",
       "      <td>토</td>\n",
       "    </tr>\n",
       "    <tr>\n",
       "      <th>381</th>\n",
       "      <td>2020-02-21</td>\n",
       "      <td>금</td>\n",
       "    </tr>\n",
       "  </tbody>\n",
       "</table>\n",
       "<p>382 rows × 2 columns</p>\n",
       "</div>"
      ],
      "text/plain": [
       "           date day\n",
       "0    2021-03-07   일\n",
       "1    2021-03-06   토\n",
       "2    2021-03-05   금\n",
       "3    2021-03-04   목\n",
       "4    2021-03-03   수\n",
       "..          ...  ..\n",
       "377  2020-02-25   화\n",
       "378  2020-02-24   월\n",
       "379  2020-02-23   일\n",
       "380  2020-02-22   토\n",
       "381  2020-02-21   금\n",
       "\n",
       "[382 rows x 2 columns]"
      ]
     },
     "execution_count": 10,
     "metadata": {},
     "output_type": "execute_result"
    }
   ],
   "source": [
    "data1 = data[['date', 'day']]\n",
    "data1"
   ]
  },
  {
   "cell_type": "code",
   "execution_count": 11,
   "id": "seven-jewel",
   "metadata": {},
   "outputs": [],
   "source": [
    "data1 = data1.astype(str)"
   ]
  },
  {
   "cell_type": "code",
   "execution_count": 12,
   "id": "different-wrapping",
   "metadata": {
    "scrolled": false
   },
   "outputs": [
    {
     "data": {
      "text/plain": [
       "date    object\n",
       "day     object\n",
       "dtype: object"
      ]
     },
     "execution_count": 12,
     "metadata": {},
     "output_type": "execute_result"
    }
   ],
   "source": [
    "data1.dtypes"
   ]
  },
  {
   "cell_type": "code",
   "execution_count": 13,
   "id": "compatible-occasions",
   "metadata": {
    "scrolled": false
   },
   "outputs": [
    {
     "data": {
      "text/plain": [
       "0      3,326\n",
       "1      3,313\n",
       "2      3,308\n",
       "3      3,296\n",
       "4      3,274\n",
       "       ...  \n",
       "377       51\n",
       "378       38\n",
       "379       16\n",
       "380        5\n",
       "381        2\n",
       "Name: total_coronic, Length: 382, dtype: object"
      ]
     },
     "execution_count": 13,
     "metadata": {},
     "output_type": "execute_result"
    }
   ],
   "source": [
    "data2 = data.iloc[:, 2]\n",
    "data2"
   ]
  },
  {
   "cell_type": "code",
   "execution_count": 14,
   "id": "derived-conspiracy",
   "metadata": {},
   "outputs": [
    {
     "data": {
      "text/plain": [
       "0      3326\n",
       "1      3313\n",
       "2      3308\n",
       "3      3296\n",
       "4      3274\n",
       "       ... \n",
       "377      51\n",
       "378      38\n",
       "379      16\n",
       "380       5\n",
       "381       2\n",
       "Name: total_coronic, Length: 382, dtype: int64"
      ]
     },
     "execution_count": 14,
     "metadata": {},
     "output_type": "execute_result"
    }
   ],
   "source": [
    "data2 = data2.str.replace(',','').astype('int64')\n",
    "data2 = data2.apply(pd.to_numeric)\n",
    "data2"
   ]
  },
  {
   "cell_type": "code",
   "execution_count": 15,
   "id": "robust-chain",
   "metadata": {},
   "outputs": [
    {
     "data": {
      "text/plain": [
       "0      13\n",
       "1       5\n",
       "2      12\n",
       "3      22\n",
       "4      18\n",
       "       ..\n",
       "377    13\n",
       "378    22\n",
       "379    11\n",
       "380     3\n",
       "381     2\n",
       "Name: new_coronic, Length: 382, dtype: int64"
      ]
     },
     "execution_count": 15,
     "metadata": {},
     "output_type": "execute_result"
    }
   ],
   "source": [
    "data3 = data.iloc[:, 3]\n",
    "data3"
   ]
  },
  {
   "cell_type": "code",
   "execution_count": 16,
   "id": "genuine-grammar",
   "metadata": {},
   "outputs": [
    {
     "data": {
      "text/plain": [
       "0      3,019\n",
       "1      3,003\n",
       "2      2,982\n",
       "3      2,950\n",
       "4      2,937\n",
       "       ...  \n",
       "377        0\n",
       "378        0\n",
       "379        0\n",
       "380        0\n",
       "381        0\n",
       "Name: total_be_cured, Length: 382, dtype: object"
      ]
     },
     "execution_count": 16,
     "metadata": {},
     "output_type": "execute_result"
    }
   ],
   "source": [
    "data4 = data.iloc[:, 4]\n",
    "data4"
   ]
  },
  {
   "cell_type": "code",
   "execution_count": 17,
   "id": "bearing-deployment",
   "metadata": {},
   "outputs": [
    {
     "data": {
      "text/plain": [
       "0      3019\n",
       "1      3003\n",
       "2      2982\n",
       "3      2950\n",
       "4      2937\n",
       "       ... \n",
       "377       0\n",
       "378       0\n",
       "379       0\n",
       "380       0\n",
       "381       0\n",
       "Name: total_be_cured, Length: 382, dtype: int64"
      ]
     },
     "execution_count": 17,
     "metadata": {},
     "output_type": "execute_result"
    }
   ],
   "source": [
    "data4 = data4.str.replace(',','').astype('int64')\n",
    "data4 = data4.apply(pd.to_numeric)\n",
    "data4"
   ]
  },
  {
   "cell_type": "code",
   "execution_count": 18,
   "id": "hidden-contamination",
   "metadata": {},
   "outputs": [
    {
     "data": {
      "text/plain": [
       "0      110\n",
       "1      110\n",
       "2      110\n",
       "3      109\n",
       "4      109\n",
       "      ... \n",
       "377      0\n",
       "378      0\n",
       "379      0\n",
       "380      0\n",
       "381      0\n",
       "Name: deceased, Length: 382, dtype: int64"
      ]
     },
     "execution_count": 18,
     "metadata": {},
     "output_type": "execute_result"
    }
   ],
   "source": [
    "data5 = data.iloc[:, 5]\n",
    "data5"
   ]
  },
  {
   "cell_type": "code",
   "execution_count": 19,
   "id": "global-segment",
   "metadata": {},
   "outputs": [
    {
     "data": {
      "text/plain": [
       "total_negative    object\n",
       "isolated          object\n",
       "total_released    object\n",
       "dtype: object"
      ]
     },
     "execution_count": 19,
     "metadata": {},
     "output_type": "execute_result"
    }
   ],
   "source": [
    "data6 = data.iloc[:,6:9]\n",
    "data6.dtypes"
   ]
  },
  {
   "cell_type": "code",
   "execution_count": 20,
   "id": "original-security",
   "metadata": {},
   "outputs": [],
   "source": [
    "for i in range(0,3):\n",
    "    data6.iloc[:,i] = data6.iloc[:,i].str.replace(',','').astype('int64')"
   ]
  },
  {
   "cell_type": "code",
   "execution_count": 21,
   "id": "reported-analysis",
   "metadata": {},
   "outputs": [
    {
     "data": {
      "text/html": [
       "<div>\n",
       "<style scoped>\n",
       "    .dataframe tbody tr th:only-of-type {\n",
       "        vertical-align: middle;\n",
       "    }\n",
       "\n",
       "    .dataframe tbody tr th {\n",
       "        vertical-align: top;\n",
       "    }\n",
       "\n",
       "    .dataframe thead th {\n",
       "        text-align: right;\n",
       "    }\n",
       "</style>\n",
       "<table border=\"1\" class=\"dataframe\">\n",
       "  <thead>\n",
       "    <tr style=\"text-align: right;\">\n",
       "      <th></th>\n",
       "      <th>total_negative</th>\n",
       "      <th>isolated</th>\n",
       "      <th>total_released</th>\n",
       "    </tr>\n",
       "  </thead>\n",
       "  <tbody>\n",
       "    <tr>\n",
       "      <th>0</th>\n",
       "      <td>354692</td>\n",
       "      <td>5124</td>\n",
       "      <td>108827</td>\n",
       "    </tr>\n",
       "    <tr>\n",
       "      <th>1</th>\n",
       "      <td>352827</td>\n",
       "      <td>4953</td>\n",
       "      <td>108391</td>\n",
       "    </tr>\n",
       "    <tr>\n",
       "      <th>2</th>\n",
       "      <td>351708</td>\n",
       "      <td>4949</td>\n",
       "      <td>107889</td>\n",
       "    </tr>\n",
       "    <tr>\n",
       "      <th>3</th>\n",
       "      <td>349082</td>\n",
       "      <td>4863</td>\n",
       "      <td>107404</td>\n",
       "    </tr>\n",
       "    <tr>\n",
       "      <th>4</th>\n",
       "      <td>347315</td>\n",
       "      <td>5027</td>\n",
       "      <td>111925</td>\n",
       "    </tr>\n",
       "    <tr>\n",
       "      <th>...</th>\n",
       "      <td>...</td>\n",
       "      <td>...</td>\n",
       "      <td>...</td>\n",
       "    </tr>\n",
       "    <tr>\n",
       "      <th>377</th>\n",
       "      <td>1823</td>\n",
       "      <td>618</td>\n",
       "      <td>21</td>\n",
       "    </tr>\n",
       "    <tr>\n",
       "      <th>378</th>\n",
       "      <td>1499</td>\n",
       "      <td>263</td>\n",
       "      <td>22</td>\n",
       "    </tr>\n",
       "    <tr>\n",
       "      <th>379</th>\n",
       "      <td>1076</td>\n",
       "      <td>145</td>\n",
       "      <td>15</td>\n",
       "    </tr>\n",
       "    <tr>\n",
       "      <th>380</th>\n",
       "      <td>1092</td>\n",
       "      <td>115</td>\n",
       "      <td>15</td>\n",
       "    </tr>\n",
       "    <tr>\n",
       "      <th>381</th>\n",
       "      <td>613</td>\n",
       "      <td>15</td>\n",
       "      <td>15</td>\n",
       "    </tr>\n",
       "  </tbody>\n",
       "</table>\n",
       "<p>382 rows × 3 columns</p>\n",
       "</div>"
      ],
      "text/plain": [
       "     total_negative  isolated  total_released\n",
       "0            354692      5124          108827\n",
       "1            352827      4953          108391\n",
       "2            351708      4949          107889\n",
       "3            349082      4863          107404\n",
       "4            347315      5027          111925\n",
       "..              ...       ...             ...\n",
       "377            1823       618              21\n",
       "378            1499       263              22\n",
       "379            1076       145              15\n",
       "380            1092       115              15\n",
       "381             613        15              15\n",
       "\n",
       "[382 rows x 3 columns]"
      ]
     },
     "execution_count": 21,
     "metadata": {},
     "output_type": "execute_result"
    }
   ],
   "source": [
    "data6"
   ]
  },
  {
   "cell_type": "code",
   "execution_count": 22,
   "id": "quality-shakespeare",
   "metadata": {},
   "outputs": [],
   "source": [
    "data6 = data6.apply(pd.to_numeric)"
   ]
  },
  {
   "cell_type": "code",
   "execution_count": 23,
   "id": "determined-coast",
   "metadata": {},
   "outputs": [],
   "source": [
    "data = pd.concat([data1, data2, data3, data4, data5, data6], axis=1)"
   ]
  },
  {
   "cell_type": "code",
   "execution_count": 24,
   "id": "wrapped-superior",
   "metadata": {
    "scrolled": false
   },
   "outputs": [
    {
     "data": {
      "text/html": [
       "<div>\n",
       "<style scoped>\n",
       "    .dataframe tbody tr th:only-of-type {\n",
       "        vertical-align: middle;\n",
       "    }\n",
       "\n",
       "    .dataframe tbody tr th {\n",
       "        vertical-align: top;\n",
       "    }\n",
       "\n",
       "    .dataframe thead th {\n",
       "        text-align: right;\n",
       "    }\n",
       "</style>\n",
       "<table border=\"1\" class=\"dataframe\">\n",
       "  <thead>\n",
       "    <tr style=\"text-align: right;\">\n",
       "      <th></th>\n",
       "      <th>date</th>\n",
       "      <th>day</th>\n",
       "      <th>total_coronic</th>\n",
       "      <th>new_coronic</th>\n",
       "      <th>total_be_cured</th>\n",
       "      <th>deceased</th>\n",
       "      <th>total_negative</th>\n",
       "      <th>isolated</th>\n",
       "      <th>total_released</th>\n",
       "    </tr>\n",
       "  </thead>\n",
       "  <tbody>\n",
       "    <tr>\n",
       "      <th>0</th>\n",
       "      <td>2021-03-07</td>\n",
       "      <td>일</td>\n",
       "      <td>3326</td>\n",
       "      <td>13</td>\n",
       "      <td>3019</td>\n",
       "      <td>110</td>\n",
       "      <td>354692</td>\n",
       "      <td>5124</td>\n",
       "      <td>108827</td>\n",
       "    </tr>\n",
       "    <tr>\n",
       "      <th>1</th>\n",
       "      <td>2021-03-06</td>\n",
       "      <td>토</td>\n",
       "      <td>3313</td>\n",
       "      <td>5</td>\n",
       "      <td>3003</td>\n",
       "      <td>110</td>\n",
       "      <td>352827</td>\n",
       "      <td>4953</td>\n",
       "      <td>108391</td>\n",
       "    </tr>\n",
       "    <tr>\n",
       "      <th>2</th>\n",
       "      <td>2021-03-05</td>\n",
       "      <td>금</td>\n",
       "      <td>3308</td>\n",
       "      <td>12</td>\n",
       "      <td>2982</td>\n",
       "      <td>110</td>\n",
       "      <td>351708</td>\n",
       "      <td>4949</td>\n",
       "      <td>107889</td>\n",
       "    </tr>\n",
       "    <tr>\n",
       "      <th>3</th>\n",
       "      <td>2021-03-04</td>\n",
       "      <td>목</td>\n",
       "      <td>3296</td>\n",
       "      <td>22</td>\n",
       "      <td>2950</td>\n",
       "      <td>109</td>\n",
       "      <td>349082</td>\n",
       "      <td>4863</td>\n",
       "      <td>107404</td>\n",
       "    </tr>\n",
       "    <tr>\n",
       "      <th>4</th>\n",
       "      <td>2021-03-03</td>\n",
       "      <td>수</td>\n",
       "      <td>3274</td>\n",
       "      <td>18</td>\n",
       "      <td>2937</td>\n",
       "      <td>109</td>\n",
       "      <td>347315</td>\n",
       "      <td>5027</td>\n",
       "      <td>111925</td>\n",
       "    </tr>\n",
       "    <tr>\n",
       "      <th>...</th>\n",
       "      <td>...</td>\n",
       "      <td>...</td>\n",
       "      <td>...</td>\n",
       "      <td>...</td>\n",
       "      <td>...</td>\n",
       "      <td>...</td>\n",
       "      <td>...</td>\n",
       "      <td>...</td>\n",
       "      <td>...</td>\n",
       "    </tr>\n",
       "    <tr>\n",
       "      <th>377</th>\n",
       "      <td>2020-02-25</td>\n",
       "      <td>화</td>\n",
       "      <td>51</td>\n",
       "      <td>13</td>\n",
       "      <td>0</td>\n",
       "      <td>0</td>\n",
       "      <td>1823</td>\n",
       "      <td>618</td>\n",
       "      <td>21</td>\n",
       "    </tr>\n",
       "    <tr>\n",
       "      <th>378</th>\n",
       "      <td>2020-02-24</td>\n",
       "      <td>월</td>\n",
       "      <td>38</td>\n",
       "      <td>22</td>\n",
       "      <td>0</td>\n",
       "      <td>0</td>\n",
       "      <td>1499</td>\n",
       "      <td>263</td>\n",
       "      <td>22</td>\n",
       "    </tr>\n",
       "    <tr>\n",
       "      <th>379</th>\n",
       "      <td>2020-02-23</td>\n",
       "      <td>일</td>\n",
       "      <td>16</td>\n",
       "      <td>11</td>\n",
       "      <td>0</td>\n",
       "      <td>0</td>\n",
       "      <td>1076</td>\n",
       "      <td>145</td>\n",
       "      <td>15</td>\n",
       "    </tr>\n",
       "    <tr>\n",
       "      <th>380</th>\n",
       "      <td>2020-02-22</td>\n",
       "      <td>토</td>\n",
       "      <td>5</td>\n",
       "      <td>3</td>\n",
       "      <td>0</td>\n",
       "      <td>0</td>\n",
       "      <td>1092</td>\n",
       "      <td>115</td>\n",
       "      <td>15</td>\n",
       "    </tr>\n",
       "    <tr>\n",
       "      <th>381</th>\n",
       "      <td>2020-02-21</td>\n",
       "      <td>금</td>\n",
       "      <td>2</td>\n",
       "      <td>2</td>\n",
       "      <td>0</td>\n",
       "      <td>0</td>\n",
       "      <td>613</td>\n",
       "      <td>15</td>\n",
       "      <td>15</td>\n",
       "    </tr>\n",
       "  </tbody>\n",
       "</table>\n",
       "<p>382 rows × 9 columns</p>\n",
       "</div>"
      ],
      "text/plain": [
       "           date day  total_coronic  new_coronic  total_be_cured  deceased  \\\n",
       "0    2021-03-07   일           3326           13            3019       110   \n",
       "1    2021-03-06   토           3313            5            3003       110   \n",
       "2    2021-03-05   금           3308           12            2982       110   \n",
       "3    2021-03-04   목           3296           22            2950       109   \n",
       "4    2021-03-03   수           3274           18            2937       109   \n",
       "..          ...  ..            ...          ...             ...       ...   \n",
       "377  2020-02-25   화             51           13               0         0   \n",
       "378  2020-02-24   월             38           22               0         0   \n",
       "379  2020-02-23   일             16           11               0         0   \n",
       "380  2020-02-22   토              5            3               0         0   \n",
       "381  2020-02-21   금              2            2               0         0   \n",
       "\n",
       "     total_negative  isolated  total_released  \n",
       "0            354692      5124          108827  \n",
       "1            352827      4953          108391  \n",
       "2            351708      4949          107889  \n",
       "3            349082      4863          107404  \n",
       "4            347315      5027          111925  \n",
       "..              ...       ...             ...  \n",
       "377            1823       618              21  \n",
       "378            1499       263              22  \n",
       "379            1076       145              15  \n",
       "380            1092       115              15  \n",
       "381             613        15              15  \n",
       "\n",
       "[382 rows x 9 columns]"
      ]
     },
     "execution_count": 24,
     "metadata": {},
     "output_type": "execute_result"
    }
   ],
   "source": [
    "data"
   ]
  },
  {
   "cell_type": "code",
   "execution_count": 25,
   "id": "senior-moral",
   "metadata": {},
   "outputs": [
    {
     "data": {
      "text/plain": [
       "date              object\n",
       "day               object\n",
       "total_coronic      int64\n",
       "new_coronic        int64\n",
       "total_be_cured     int64\n",
       "deceased           int64\n",
       "total_negative     int64\n",
       "isolated           int64\n",
       "total_released     int64\n",
       "dtype: object"
      ]
     },
     "execution_count": 25,
     "metadata": {},
     "output_type": "execute_result"
    }
   ],
   "source": [
    "data.dtypes"
   ]
  },
  {
   "cell_type": "markdown",
   "id": "earlier-crystal",
   "metadata": {},
   "source": [
    "<br>\n",
    "\n",
    "# 4. New Variable\n",
    "\n",
    "**기존 변수를 활용해 새로운 파생 변수 생성**"
   ]
  },
  {
   "cell_type": "markdown",
   "id": "vulnerable-motivation",
   "metadata": {},
   "source": [
    "##### new_be_cured\n",
    "완치자수(누계)를 활용하여 완치자수(추가) 변수를 생성"
   ]
  },
  {
   "cell_type": "code",
   "execution_count": 26,
   "id": "center-hearts",
   "metadata": {
    "scrolled": true
   },
   "outputs": [
    {
     "data": {
      "text/plain": [
       "0      3019\n",
       "1      3003\n",
       "2      2982\n",
       "3      2950\n",
       "4      2937\n",
       "       ... \n",
       "377       0\n",
       "378       0\n",
       "379       0\n",
       "380       0\n",
       "381       0\n",
       "Name: total_be_cured, Length: 382, dtype: int64"
      ]
     },
     "execution_count": 26,
     "metadata": {},
     "output_type": "execute_result"
    }
   ],
   "source": [
    "data1 = data.total_be_cured\n",
    "data1"
   ]
  },
  {
   "cell_type": "code",
   "execution_count": 27,
   "id": "sixth-lunch",
   "metadata": {},
   "outputs": [
    {
     "data": {
      "text/plain": [
       "pandas.core.series.Series"
      ]
     },
     "execution_count": 27,
     "metadata": {},
     "output_type": "execute_result"
    }
   ],
   "source": [
    "type(data1)"
   ]
  },
  {
   "cell_type": "code",
   "execution_count": 28,
   "id": "ignored-journey",
   "metadata": {},
   "outputs": [
    {
     "data": {
      "text/plain": [
       "pandas.core.series.Series"
      ]
     },
     "execution_count": 28,
     "metadata": {},
     "output_type": "execute_result"
    }
   ],
   "source": [
    "data2 = []\n",
    "data2 = pd.Series(data2)\n",
    "type(data2)"
   ]
  },
  {
   "cell_type": "code",
   "execution_count": 29,
   "id": "biblical-acceptance",
   "metadata": {
    "scrolled": true
   },
   "outputs": [
    {
     "data": {
      "text/plain": [
       "382"
      ]
     },
     "execution_count": 29,
     "metadata": {},
     "output_type": "execute_result"
    }
   ],
   "source": [
    "n = len(data1)\n",
    "n"
   ]
  },
  {
   "cell_type": "code",
   "execution_count": 30,
   "id": "frozen-kennedy",
   "metadata": {},
   "outputs": [],
   "source": [
    "for i in data1.index:\n",
    "    if i < n-1:\n",
    "        data2[i] = data1[i]-data1[i+1]\n",
    "    else :\n",
    "        data2[i] = data1[i]"
   ]
  },
  {
   "cell_type": "code",
   "execution_count": 31,
   "id": "opposed-italic",
   "metadata": {
    "scrolled": true
   },
   "outputs": [
    {
     "data": {
      "text/plain": [
       "0      16\n",
       "1      21\n",
       "2      32\n",
       "3      13\n",
       "4      15\n",
       "       ..\n",
       "377     0\n",
       "378     0\n",
       "379     0\n",
       "380     0\n",
       "381     0\n",
       "Length: 382, dtype: int64"
      ]
     },
     "execution_count": 31,
     "metadata": {},
     "output_type": "execute_result"
    }
   ],
   "source": [
    "data2"
   ]
  },
  {
   "cell_type": "code",
   "execution_count": 32,
   "id": "studied-water",
   "metadata": {
    "scrolled": true
   },
   "outputs": [
    {
     "data": {
      "text/plain": [
       "0"
      ]
     },
     "execution_count": 32,
     "metadata": {},
     "output_type": "execute_result"
    }
   ],
   "source": [
    "len(data2[data2<0])"
   ]
  },
  {
   "cell_type": "markdown",
   "id": "brave-courtesy",
   "metadata": {},
   "source": [
    " "
   ]
  },
  {
   "cell_type": "markdown",
   "id": "confidential-chance",
   "metadata": {},
   "source": [
    "##### new_deceased\n",
    "사망자수(누계)를 이용하여 사망자수(추가) 변수 생성"
   ]
  },
  {
   "cell_type": "code",
   "execution_count": 33,
   "id": "excited-hamilton",
   "metadata": {},
   "outputs": [
    {
     "data": {
      "text/plain": [
       "0      110\n",
       "1      110\n",
       "2      110\n",
       "3      109\n",
       "4      109\n",
       "      ... \n",
       "377      0\n",
       "378      0\n",
       "379      0\n",
       "380      0\n",
       "381      0\n",
       "Name: deceased, Length: 382, dtype: int64"
      ]
     },
     "execution_count": 33,
     "metadata": {},
     "output_type": "execute_result"
    }
   ],
   "source": [
    "data1 = data.deceased\n",
    "data1"
   ]
  },
  {
   "cell_type": "code",
   "execution_count": 34,
   "id": "accepted-anniversary",
   "metadata": {},
   "outputs": [
    {
     "data": {
      "text/plain": [
       "pandas.core.series.Series"
      ]
     },
     "execution_count": 34,
     "metadata": {},
     "output_type": "execute_result"
    }
   ],
   "source": [
    "data6 = []\n",
    "data6 = pd.Series(data6)\n",
    "type(data6)"
   ]
  },
  {
   "cell_type": "code",
   "execution_count": 35,
   "id": "instant-somerset",
   "metadata": {},
   "outputs": [
    {
     "data": {
      "text/plain": [
       "382"
      ]
     },
     "execution_count": 35,
     "metadata": {},
     "output_type": "execute_result"
    }
   ],
   "source": [
    "n = len(data1)\n",
    "n"
   ]
  },
  {
   "cell_type": "code",
   "execution_count": 36,
   "id": "female-barcelona",
   "metadata": {},
   "outputs": [],
   "source": [
    "for i in data1.index:\n",
    "    if i < n-1:\n",
    "        data6[i] = data1[i]-data1[i+1]\n",
    "    else :\n",
    "        data6[i] = data1[i]"
   ]
  },
  {
   "cell_type": "code",
   "execution_count": 37,
   "id": "respiratory-parliament",
   "metadata": {},
   "outputs": [
    {
     "data": {
      "text/plain": [
       "0"
      ]
     },
     "execution_count": 37,
     "metadata": {},
     "output_type": "execute_result"
    }
   ],
   "source": [
    "len(data6[data6<0])"
   ]
  },
  {
   "cell_type": "markdown",
   "id": "unique-turner",
   "metadata": {},
   "source": [
    "##### new_negative\n",
    "검사결과 음성(누계)를 활용하여 검사결과 음성(추가) 변수 생성"
   ]
  },
  {
   "cell_type": "code",
   "execution_count": 38,
   "id": "patient-senegal",
   "metadata": {
    "scrolled": false
   },
   "outputs": [
    {
     "data": {
      "text/plain": [
       "0      354692\n",
       "1      352827\n",
       "2      351708\n",
       "3      349082\n",
       "4      347315\n",
       "        ...  \n",
       "377      1823\n",
       "378      1499\n",
       "379      1076\n",
       "380      1092\n",
       "381       613\n",
       "Name: total_negative, Length: 382, dtype: int64"
      ]
     },
     "execution_count": 38,
     "metadata": {},
     "output_type": "execute_result"
    }
   ],
   "source": [
    "data1 = data.total_negative\n",
    "data1"
   ]
  },
  {
   "cell_type": "code",
   "execution_count": 39,
   "id": "important-democracy",
   "metadata": {},
   "outputs": [
    {
     "data": {
      "text/plain": [
       "pandas.core.series.Series"
      ]
     },
     "execution_count": 39,
     "metadata": {},
     "output_type": "execute_result"
    }
   ],
   "source": [
    "type(data1)"
   ]
  },
  {
   "cell_type": "code",
   "execution_count": 40,
   "id": "transparent-father",
   "metadata": {},
   "outputs": [
    {
     "data": {
      "text/plain": [
       "pandas.core.series.Series"
      ]
     },
     "execution_count": 40,
     "metadata": {},
     "output_type": "execute_result"
    }
   ],
   "source": [
    "data3 = []\n",
    "data3 = pd.Series(data3)\n",
    "type(data3)"
   ]
  },
  {
   "cell_type": "code",
   "execution_count": 41,
   "id": "boring-range",
   "metadata": {
    "scrolled": false
   },
   "outputs": [
    {
     "data": {
      "text/plain": [
       "382"
      ]
     },
     "execution_count": 41,
     "metadata": {},
     "output_type": "execute_result"
    }
   ],
   "source": [
    "n = len(data1)\n",
    "n"
   ]
  },
  {
   "cell_type": "code",
   "execution_count": 42,
   "id": "southern-evidence",
   "metadata": {},
   "outputs": [],
   "source": [
    "for i in data1.index:\n",
    "    if i < n-1:\n",
    "        data3[i] = data1[i]-data1[i+1]\n",
    "    else :\n",
    "        data3[i] = data1[i]"
   ]
  },
  {
   "cell_type": "code",
   "execution_count": 43,
   "id": "latin-lighting",
   "metadata": {
    "scrolled": false
   },
   "outputs": [
    {
     "data": {
      "text/plain": [
       "0      1865\n",
       "1      1119\n",
       "2      2626\n",
       "3      1767\n",
       "4      1615\n",
       "       ... \n",
       "377     324\n",
       "378     423\n",
       "379     -16\n",
       "380     479\n",
       "381     613\n",
       "Length: 382, dtype: int64"
      ]
     },
     "execution_count": 43,
     "metadata": {},
     "output_type": "execute_result"
    }
   ],
   "source": [
    "data3"
   ]
  },
  {
   "cell_type": "code",
   "execution_count": 44,
   "id": "current-learning",
   "metadata": {},
   "outputs": [],
   "source": [
    "outlier = data3[data3<0]"
   ]
  },
  {
   "cell_type": "code",
   "execution_count": 45,
   "id": "invisible-vampire",
   "metadata": {},
   "outputs": [
    {
     "data": {
      "text/plain": [
       "Int64Index([62, 63, 379], dtype='int64')"
      ]
     },
     "execution_count": 45,
     "metadata": {},
     "output_type": "execute_result"
    }
   ],
   "source": [
    "outlier.index"
   ]
  },
  {
   "cell_type": "code",
   "execution_count": 46,
   "id": "earned-marker",
   "metadata": {},
   "outputs": [
    {
     "data": {
      "text/plain": [
       "1"
      ]
     },
     "execution_count": 46,
     "metadata": {},
     "output_type": "execute_result"
    }
   ],
   "source": [
    "len(data3[data3==0])"
   ]
  },
  {
   "cell_type": "markdown",
   "id": "confidential-index",
   "metadata": {},
   "source": [
    "음성판정(누계)에서 다음날로 넘어갔을 때 감소하는 날이 3일 존재한다.  \n",
    "2021-01-03 ~ 2021-01-05 & 2020-02-22 ~ 2020-02-23  \n",
    "1번인 경우 : 음성판정받은 사람 -> 갑자기 양성으로 변경  \n",
    "2번인 경우 : 오류로 그날 추가 음성판정자 수가 0인 경우 BUT, 모든 날에 걸쳐 0인 경우가 없다.  \n",
    "1번을 선택할 경우 모든 값들이 추가 확진자 수보다 크기 때문에 불가능하다.  \n",
    "즉, 0으로 구분  \n",
    "데이터 자체에서 그 전날의 값과 동일하게 변경 이후 다시 생성"
   ]
  },
  {
   "cell_type": "code",
   "execution_count": 47,
   "id": "together-physics",
   "metadata": {},
   "outputs": [],
   "source": [
    "data.total_negative[outlier.index[0]] = data.total_negative[outlier.index[1]+1]\n",
    "data.total_negative[outlier.index[1]] = data.total_negative[outlier.index[1]+1]"
   ]
  },
  {
   "cell_type": "code",
   "execution_count": 48,
   "id": "academic-monroe",
   "metadata": {},
   "outputs": [],
   "source": [
    "data.total_negative[outlier.index[2]] = data.total_negative[outlier.index[2]+1]"
   ]
  },
  {
   "cell_type": "code",
   "execution_count": 49,
   "id": "proved-retailer",
   "metadata": {},
   "outputs": [
    {
     "data": {
      "text/plain": [
       "0      354692\n",
       "1      352827\n",
       "2      351708\n",
       "3      349082\n",
       "4      347315\n",
       "        ...  \n",
       "377      1823\n",
       "378      1499\n",
       "379      1092\n",
       "380      1092\n",
       "381       613\n",
       "Name: total_negative, Length: 382, dtype: int64"
      ]
     },
     "execution_count": 49,
     "metadata": {},
     "output_type": "execute_result"
    }
   ],
   "source": [
    "data1 = data.total_negative\n",
    "data1"
   ]
  },
  {
   "cell_type": "code",
   "execution_count": 50,
   "id": "bacterial-shift",
   "metadata": {},
   "outputs": [
    {
     "data": {
      "text/plain": [
       "pandas.core.series.Series"
      ]
     },
     "execution_count": 50,
     "metadata": {},
     "output_type": "execute_result"
    }
   ],
   "source": [
    "data3 = []\n",
    "data3 = pd.Series(data3)\n",
    "type(data3)"
   ]
  },
  {
   "cell_type": "code",
   "execution_count": 51,
   "id": "bright-studio",
   "metadata": {},
   "outputs": [],
   "source": [
    "for i in data1.index:\n",
    "    if i < n-1:\n",
    "        data3[i] = data1[i]-data1[i+1]\n",
    "    else :\n",
    "        data3[i] = data1[i]"
   ]
  },
  {
   "cell_type": "code",
   "execution_count": 52,
   "id": "organic-monster",
   "metadata": {
    "scrolled": true
   },
   "outputs": [
    {
     "data": {
      "text/plain": [
       "0      1865\n",
       "1      1119\n",
       "2      2626\n",
       "3      1767\n",
       "4      1615\n",
       "       ... \n",
       "377     324\n",
       "378     407\n",
       "379       0\n",
       "380     479\n",
       "381     613\n",
       "Length: 382, dtype: int64"
      ]
     },
     "execution_count": 52,
     "metadata": {},
     "output_type": "execute_result"
    }
   ],
   "source": [
    "data3"
   ]
  },
  {
   "cell_type": "markdown",
   "id": "healthy-gospel",
   "metadata": {},
   "source": [
    "0으로 구분했지만 이상치라고 생각하며 분석!!!"
   ]
  },
  {
   "cell_type": "code",
   "execution_count": 53,
   "id": "round-outdoors",
   "metadata": {
    "scrolled": true
   },
   "outputs": [
    {
     "data": {
      "text/plain": [
       "Series([], dtype: int64)"
      ]
     },
     "execution_count": 53,
     "metadata": {},
     "output_type": "execute_result"
    }
   ],
   "source": [
    "data3[data3<0]"
   ]
  },
  {
   "cell_type": "markdown",
   "id": "chemical-supply",
   "metadata": {},
   "source": [
    " "
   ]
  },
  {
   "cell_type": "markdown",
   "id": "express-pride",
   "metadata": {},
   "source": [
    "##### diagnosed\n",
    "추가 확진자수와 검사결과 음성(추가)를 합한 인원의 수가 검사를 받은 사람의 수라고 생각   \n",
    "즉, 검사를 받은 인원수에 대한 변수 생성"
   ]
  },
  {
   "cell_type": "code",
   "execution_count": 54,
   "id": "suburban-invite",
   "metadata": {},
   "outputs": [
    {
     "data": {
      "text/plain": [
       "pandas.core.series.Series"
      ]
     },
     "execution_count": 54,
     "metadata": {},
     "output_type": "execute_result"
    }
   ],
   "source": [
    "data4 = []\n",
    "data4 = pd.Series(data4)\n",
    "type(data4)"
   ]
  },
  {
   "cell_type": "code",
   "execution_count": 55,
   "id": "treated-scoop",
   "metadata": {
    "scrolled": false
   },
   "outputs": [
    {
     "data": {
      "text/plain": [
       "382"
      ]
     },
     "execution_count": 55,
     "metadata": {},
     "output_type": "execute_result"
    }
   ],
   "source": [
    "n = len(data1)\n",
    "n"
   ]
  },
  {
   "cell_type": "code",
   "execution_count": 56,
   "id": "bizarre-monaco",
   "metadata": {},
   "outputs": [],
   "source": [
    "for i in data1.index:\n",
    "    data4[i] = data.new_coronic[i] + data3[i]"
   ]
  },
  {
   "cell_type": "code",
   "execution_count": 57,
   "id": "fiscal-worse",
   "metadata": {},
   "outputs": [
    {
     "data": {
      "text/plain": [
       "0      13\n",
       "1       5\n",
       "2      12\n",
       "3      22\n",
       "4      18\n",
       "       ..\n",
       "377    13\n",
       "378    22\n",
       "379    11\n",
       "380     3\n",
       "381     2\n",
       "Name: new_coronic, Length: 382, dtype: int64"
      ]
     },
     "execution_count": 57,
     "metadata": {},
     "output_type": "execute_result"
    }
   ],
   "source": [
    "data.new_coronic"
   ]
  },
  {
   "cell_type": "code",
   "execution_count": 58,
   "id": "remarkable-blink",
   "metadata": {},
   "outputs": [
    {
     "data": {
      "text/plain": [
       "Series([], dtype: int64)"
      ]
     },
     "execution_count": 58,
     "metadata": {},
     "output_type": "execute_result"
    }
   ],
   "source": [
    "data4[data4<0]"
   ]
  },
  {
   "cell_type": "code",
   "execution_count": 59,
   "id": "smart-belly",
   "metadata": {},
   "outputs": [
    {
     "data": {
      "text/plain": [
       "0      1878\n",
       "1      1124\n",
       "2      2638\n",
       "3      1789\n",
       "4      1633\n",
       "       ... \n",
       "377     337\n",
       "378     429\n",
       "379      11\n",
       "380     482\n",
       "381     615\n",
       "Length: 382, dtype: int64"
      ]
     },
     "execution_count": 59,
     "metadata": {},
     "output_type": "execute_result"
    }
   ],
   "source": [
    "data4"
   ]
  },
  {
   "cell_type": "markdown",
   "id": "british-language",
   "metadata": {},
   "source": [
    " "
   ]
  },
  {
   "cell_type": "markdown",
   "id": "selective-filename",
   "metadata": {},
   "source": [
    "##### new_released\n",
    "격리해제(누계)를 활용하여 격리해제(추가) 변수 생성"
   ]
  },
  {
   "cell_type": "code",
   "execution_count": 60,
   "id": "improving-passenger",
   "metadata": {},
   "outputs": [
    {
     "data": {
      "text/plain": [
       "0      108827\n",
       "1      108391\n",
       "2      107889\n",
       "3      107404\n",
       "4      111925\n",
       "        ...  \n",
       "377        21\n",
       "378        22\n",
       "379        15\n",
       "380        15\n",
       "381        15\n",
       "Name: total_released, Length: 382, dtype: int64"
      ]
     },
     "execution_count": 60,
     "metadata": {},
     "output_type": "execute_result"
    }
   ],
   "source": [
    "data1 = data.total_released\n",
    "data1"
   ]
  },
  {
   "cell_type": "code",
   "execution_count": 61,
   "id": "deadly-barbados",
   "metadata": {},
   "outputs": [
    {
     "data": {
      "text/plain": [
       "pandas.core.series.Series"
      ]
     },
     "execution_count": 61,
     "metadata": {},
     "output_type": "execute_result"
    }
   ],
   "source": [
    "type(data1)"
   ]
  },
  {
   "cell_type": "code",
   "execution_count": 62,
   "id": "guided-beach",
   "metadata": {},
   "outputs": [
    {
     "data": {
      "text/plain": [
       "pandas.core.series.Series"
      ]
     },
     "execution_count": 62,
     "metadata": {},
     "output_type": "execute_result"
    }
   ],
   "source": [
    "data5 = []\n",
    "data5 = pd.Series(data5)\n",
    "type(data5)"
   ]
  },
  {
   "cell_type": "code",
   "execution_count": 63,
   "id": "beneficial-blank",
   "metadata": {},
   "outputs": [
    {
     "data": {
      "text/plain": [
       "382"
      ]
     },
     "execution_count": 63,
     "metadata": {},
     "output_type": "execute_result"
    }
   ],
   "source": [
    "n = len(data1)\n",
    "n"
   ]
  },
  {
   "cell_type": "code",
   "execution_count": 64,
   "id": "seven-practitioner",
   "metadata": {},
   "outputs": [],
   "source": [
    "for i in data1.index:\n",
    "    if i < n-1:\n",
    "        data5[i] = data1[i]-data1[i+1]\n",
    "    else :\n",
    "        data5[i] = data1[i]"
   ]
  },
  {
   "cell_type": "code",
   "execution_count": 65,
   "id": "twenty-albany",
   "metadata": {},
   "outputs": [],
   "source": [
    "outlier2 = data5[data5<0]"
   ]
  },
  {
   "cell_type": "code",
   "execution_count": 66,
   "id": "valued-pastor",
   "metadata": {},
   "outputs": [
    {
     "data": {
      "text/plain": [
       "Int64Index([3, 377], dtype='int64')"
      ]
     },
     "execution_count": 66,
     "metadata": {},
     "output_type": "execute_result"
    }
   ],
   "source": [
    "outlier2.index"
   ]
  },
  {
   "cell_type": "markdown",
   "id": "coordinated-allergy",
   "metadata": {},
   "source": [
    "총 352개의 값 중에 1개의 음수 값이 존재합니다.  \n",
    "누계에서 음수값이 존재함은 불가능하기 때문에 0으로 변경!!  \n",
    "또한 0으로 변경 시 그 다음날의 값 또한 영향을 받으므로 변경!!"
   ]
  },
  {
   "cell_type": "code",
   "execution_count": 67,
   "id": "canadian-newport",
   "metadata": {},
   "outputs": [],
   "source": [
    "data5[outlier2.index] = 0\n",
    "data5[outlier2.index-1] = 3"
   ]
  },
  {
   "cell_type": "code",
   "execution_count": 68,
   "id": "minor-retailer",
   "metadata": {},
   "outputs": [
    {
     "data": {
      "text/plain": [
       "372      2\n",
       "373    287\n",
       "374     97\n",
       "375     31\n",
       "376      3\n",
       "377      0\n",
       "378      7\n",
       "379      0\n",
       "380      0\n",
       "381     15\n",
       "dtype: int64"
      ]
     },
     "execution_count": 68,
     "metadata": {},
     "output_type": "execute_result"
    }
   ],
   "source": [
    "data5.tail(10)"
   ]
  },
  {
   "cell_type": "code",
   "execution_count": 69,
   "id": "strange-surveillance",
   "metadata": {},
   "outputs": [
    {
     "data": {
      "text/plain": [
       "Series([], dtype: int64)"
      ]
     },
     "execution_count": 69,
     "metadata": {},
     "output_type": "execute_result"
    }
   ],
   "source": [
    "data5[data5<0]"
   ]
  },
  {
   "cell_type": "code",
   "execution_count": 70,
   "id": "funky-thanksgiving",
   "metadata": {},
   "outputs": [],
   "source": [
    "# 원 데이터에서도 변경해주자.\n",
    "data.total_released[outlier2.index] = 22"
   ]
  },
  {
   "cell_type": "markdown",
   "id": "unavailable-nightmare",
   "metadata": {},
   "source": [
    "#### 위의 4개의 변수를 원데이터에 합쳐 새로운 데이터를 생성"
   ]
  },
  {
   "cell_type": "code",
   "execution_count": 71,
   "id": "acknowledged-forth",
   "metadata": {},
   "outputs": [],
   "source": [
    "data = pd.concat([data[['date', 'day', 'total_coronic', 'new_coronic', 'total_be_cured']],data2,\n",
    "                 data[['deceased']], data6, data[['total_negative']], data3, data4,\n",
    "                 data[['isolated', 'total_released']], data5], axis=1)"
   ]
  },
  {
   "cell_type": "code",
   "execution_count": 72,
   "id": "cognitive-focus",
   "metadata": {},
   "outputs": [],
   "source": [
    "data.columns = ['date', 'day', 'total_coronic', 'new_coronic', 'total_be_cured', 'new_be_cured', 'deceased', 'new_deceased', \n",
    "                'total_negative', 'new_negative', 'diagnosed', 'isolated', 'total_released', 'new_released']"
   ]
  },
  {
   "cell_type": "code",
   "execution_count": 73,
   "id": "southern-verse",
   "metadata": {},
   "outputs": [
    {
     "data": {
      "text/plain": [
       "date              object\n",
       "day               object\n",
       "total_coronic      int64\n",
       "new_coronic        int64\n",
       "total_be_cured     int64\n",
       "new_be_cured       int64\n",
       "deceased           int64\n",
       "new_deceased       int64\n",
       "total_negative     int64\n",
       "new_negative       int64\n",
       "diagnosed          int64\n",
       "isolated           int64\n",
       "total_released     int64\n",
       "new_released       int64\n",
       "dtype: object"
      ]
     },
     "execution_count": 73,
     "metadata": {},
     "output_type": "execute_result"
    }
   ],
   "source": [
    "data.dtypes"
   ]
  },
  {
   "cell_type": "markdown",
   "id": "lonely-phoenix",
   "metadata": {},
   "source": [
    "# 5. Variable Description\n",
    "\n",
    "<br>"
   ]
  },
  {
   "cell_type": "code",
   "execution_count": 74,
   "id": "fleet-accident",
   "metadata": {
    "scrolled": true
   },
   "outputs": [
    {
     "data": {
      "text/html": [
       "<div>\n",
       "<style scoped>\n",
       "    .dataframe tbody tr th:only-of-type {\n",
       "        vertical-align: middle;\n",
       "    }\n",
       "\n",
       "    .dataframe tbody tr th {\n",
       "        vertical-align: top;\n",
       "    }\n",
       "\n",
       "    .dataframe thead th {\n",
       "        text-align: right;\n",
       "    }\n",
       "</style>\n",
       "<table border=\"1\" class=\"dataframe\">\n",
       "  <thead>\n",
       "    <tr style=\"text-align: right;\">\n",
       "      <th></th>\n",
       "      <th>date</th>\n",
       "      <th>day</th>\n",
       "      <th>total_coronic</th>\n",
       "      <th>new_coronic</th>\n",
       "      <th>total_be_cured</th>\n",
       "      <th>new_be_cured</th>\n",
       "      <th>deceased</th>\n",
       "      <th>new_deceased</th>\n",
       "      <th>total_negative</th>\n",
       "      <th>new_negative</th>\n",
       "      <th>diagnosed</th>\n",
       "      <th>isolated</th>\n",
       "      <th>total_released</th>\n",
       "      <th>new_released</th>\n",
       "    </tr>\n",
       "  </thead>\n",
       "  <tbody>\n",
       "    <tr>\n",
       "      <th>0</th>\n",
       "      <td>2021-03-07</td>\n",
       "      <td>일</td>\n",
       "      <td>3326</td>\n",
       "      <td>13</td>\n",
       "      <td>3019</td>\n",
       "      <td>16</td>\n",
       "      <td>110</td>\n",
       "      <td>0</td>\n",
       "      <td>354692</td>\n",
       "      <td>1865</td>\n",
       "      <td>1878</td>\n",
       "      <td>5124</td>\n",
       "      <td>108827</td>\n",
       "      <td>436</td>\n",
       "    </tr>\n",
       "    <tr>\n",
       "      <th>1</th>\n",
       "      <td>2021-03-06</td>\n",
       "      <td>토</td>\n",
       "      <td>3313</td>\n",
       "      <td>5</td>\n",
       "      <td>3003</td>\n",
       "      <td>21</td>\n",
       "      <td>110</td>\n",
       "      <td>0</td>\n",
       "      <td>352827</td>\n",
       "      <td>1119</td>\n",
       "      <td>1124</td>\n",
       "      <td>4953</td>\n",
       "      <td>108391</td>\n",
       "      <td>502</td>\n",
       "    </tr>\n",
       "    <tr>\n",
       "      <th>2</th>\n",
       "      <td>2021-03-05</td>\n",
       "      <td>금</td>\n",
       "      <td>3308</td>\n",
       "      <td>12</td>\n",
       "      <td>2982</td>\n",
       "      <td>32</td>\n",
       "      <td>110</td>\n",
       "      <td>1</td>\n",
       "      <td>351708</td>\n",
       "      <td>2626</td>\n",
       "      <td>2638</td>\n",
       "      <td>4949</td>\n",
       "      <td>107889</td>\n",
       "      <td>3</td>\n",
       "    </tr>\n",
       "    <tr>\n",
       "      <th>3</th>\n",
       "      <td>2021-03-04</td>\n",
       "      <td>목</td>\n",
       "      <td>3296</td>\n",
       "      <td>22</td>\n",
       "      <td>2950</td>\n",
       "      <td>13</td>\n",
       "      <td>109</td>\n",
       "      <td>0</td>\n",
       "      <td>349082</td>\n",
       "      <td>1767</td>\n",
       "      <td>1789</td>\n",
       "      <td>4863</td>\n",
       "      <td>22</td>\n",
       "      <td>0</td>\n",
       "    </tr>\n",
       "    <tr>\n",
       "      <th>4</th>\n",
       "      <td>2021-03-03</td>\n",
       "      <td>수</td>\n",
       "      <td>3274</td>\n",
       "      <td>18</td>\n",
       "      <td>2937</td>\n",
       "      <td>15</td>\n",
       "      <td>109</td>\n",
       "      <td>0</td>\n",
       "      <td>347315</td>\n",
       "      <td>1615</td>\n",
       "      <td>1633</td>\n",
       "      <td>5027</td>\n",
       "      <td>111925</td>\n",
       "      <td>276</td>\n",
       "    </tr>\n",
       "    <tr>\n",
       "      <th>...</th>\n",
       "      <td>...</td>\n",
       "      <td>...</td>\n",
       "      <td>...</td>\n",
       "      <td>...</td>\n",
       "      <td>...</td>\n",
       "      <td>...</td>\n",
       "      <td>...</td>\n",
       "      <td>...</td>\n",
       "      <td>...</td>\n",
       "      <td>...</td>\n",
       "      <td>...</td>\n",
       "      <td>...</td>\n",
       "      <td>...</td>\n",
       "      <td>...</td>\n",
       "    </tr>\n",
       "    <tr>\n",
       "      <th>377</th>\n",
       "      <td>2020-02-25</td>\n",
       "      <td>화</td>\n",
       "      <td>51</td>\n",
       "      <td>13</td>\n",
       "      <td>0</td>\n",
       "      <td>0</td>\n",
       "      <td>0</td>\n",
       "      <td>0</td>\n",
       "      <td>1823</td>\n",
       "      <td>324</td>\n",
       "      <td>337</td>\n",
       "      <td>618</td>\n",
       "      <td>22</td>\n",
       "      <td>0</td>\n",
       "    </tr>\n",
       "    <tr>\n",
       "      <th>378</th>\n",
       "      <td>2020-02-24</td>\n",
       "      <td>월</td>\n",
       "      <td>38</td>\n",
       "      <td>22</td>\n",
       "      <td>0</td>\n",
       "      <td>0</td>\n",
       "      <td>0</td>\n",
       "      <td>0</td>\n",
       "      <td>1499</td>\n",
       "      <td>407</td>\n",
       "      <td>429</td>\n",
       "      <td>263</td>\n",
       "      <td>22</td>\n",
       "      <td>7</td>\n",
       "    </tr>\n",
       "    <tr>\n",
       "      <th>379</th>\n",
       "      <td>2020-02-23</td>\n",
       "      <td>일</td>\n",
       "      <td>16</td>\n",
       "      <td>11</td>\n",
       "      <td>0</td>\n",
       "      <td>0</td>\n",
       "      <td>0</td>\n",
       "      <td>0</td>\n",
       "      <td>1092</td>\n",
       "      <td>0</td>\n",
       "      <td>11</td>\n",
       "      <td>145</td>\n",
       "      <td>15</td>\n",
       "      <td>0</td>\n",
       "    </tr>\n",
       "    <tr>\n",
       "      <th>380</th>\n",
       "      <td>2020-02-22</td>\n",
       "      <td>토</td>\n",
       "      <td>5</td>\n",
       "      <td>3</td>\n",
       "      <td>0</td>\n",
       "      <td>0</td>\n",
       "      <td>0</td>\n",
       "      <td>0</td>\n",
       "      <td>1092</td>\n",
       "      <td>479</td>\n",
       "      <td>482</td>\n",
       "      <td>115</td>\n",
       "      <td>15</td>\n",
       "      <td>0</td>\n",
       "    </tr>\n",
       "    <tr>\n",
       "      <th>381</th>\n",
       "      <td>2020-02-21</td>\n",
       "      <td>금</td>\n",
       "      <td>2</td>\n",
       "      <td>2</td>\n",
       "      <td>0</td>\n",
       "      <td>0</td>\n",
       "      <td>0</td>\n",
       "      <td>0</td>\n",
       "      <td>613</td>\n",
       "      <td>613</td>\n",
       "      <td>615</td>\n",
       "      <td>15</td>\n",
       "      <td>15</td>\n",
       "      <td>15</td>\n",
       "    </tr>\n",
       "  </tbody>\n",
       "</table>\n",
       "<p>382 rows × 14 columns</p>\n",
       "</div>"
      ],
      "text/plain": [
       "           date day  total_coronic  new_coronic  total_be_cured  new_be_cured  \\\n",
       "0    2021-03-07   일           3326           13            3019            16   \n",
       "1    2021-03-06   토           3313            5            3003            21   \n",
       "2    2021-03-05   금           3308           12            2982            32   \n",
       "3    2021-03-04   목           3296           22            2950            13   \n",
       "4    2021-03-03   수           3274           18            2937            15   \n",
       "..          ...  ..            ...          ...             ...           ...   \n",
       "377  2020-02-25   화             51           13               0             0   \n",
       "378  2020-02-24   월             38           22               0             0   \n",
       "379  2020-02-23   일             16           11               0             0   \n",
       "380  2020-02-22   토              5            3               0             0   \n",
       "381  2020-02-21   금              2            2               0             0   \n",
       "\n",
       "     deceased  new_deceased  total_negative  new_negative  diagnosed  \\\n",
       "0         110             0          354692          1865       1878   \n",
       "1         110             0          352827          1119       1124   \n",
       "2         110             1          351708          2626       2638   \n",
       "3         109             0          349082          1767       1789   \n",
       "4         109             0          347315          1615       1633   \n",
       "..        ...           ...             ...           ...        ...   \n",
       "377         0             0            1823           324        337   \n",
       "378         0             0            1499           407        429   \n",
       "379         0             0            1092             0         11   \n",
       "380         0             0            1092           479        482   \n",
       "381         0             0             613           613        615   \n",
       "\n",
       "     isolated  total_released  new_released  \n",
       "0        5124          108827           436  \n",
       "1        4953          108391           502  \n",
       "2        4949          107889             3  \n",
       "3        4863              22             0  \n",
       "4        5027          111925           276  \n",
       "..        ...             ...           ...  \n",
       "377       618              22             0  \n",
       "378       263              22             7  \n",
       "379       145              15             0  \n",
       "380       115              15             0  \n",
       "381        15              15            15  \n",
       "\n",
       "[382 rows x 14 columns]"
      ]
     },
     "execution_count": 74,
     "metadata": {},
     "output_type": "execute_result"
    }
   ],
   "source": [
    "data"
   ]
  },
  {
   "cell_type": "code",
   "execution_count": 75,
   "id": "weighted-blast",
   "metadata": {
    "scrolled": true
   },
   "outputs": [
    {
     "data": {
      "text/html": [
       "<div>\n",
       "<style scoped>\n",
       "    .dataframe tbody tr th:only-of-type {\n",
       "        vertical-align: middle;\n",
       "    }\n",
       "\n",
       "    .dataframe tbody tr th {\n",
       "        vertical-align: top;\n",
       "    }\n",
       "\n",
       "    .dataframe thead th {\n",
       "        text-align: right;\n",
       "    }\n",
       "</style>\n",
       "<table border=\"1\" class=\"dataframe\">\n",
       "  <thead>\n",
       "    <tr style=\"text-align: right;\">\n",
       "      <th></th>\n",
       "      <th>total_coronic</th>\n",
       "      <th>new_coronic</th>\n",
       "      <th>total_be_cured</th>\n",
       "      <th>new_be_cured</th>\n",
       "      <th>deceased</th>\n",
       "      <th>new_deceased</th>\n",
       "      <th>total_negative</th>\n",
       "      <th>new_negative</th>\n",
       "      <th>diagnosed</th>\n",
       "      <th>isolated</th>\n",
       "      <th>total_released</th>\n",
       "      <th>new_released</th>\n",
       "    </tr>\n",
       "  </thead>\n",
       "  <tbody>\n",
       "    <tr>\n",
       "      <th>count</th>\n",
       "      <td>382.000000</td>\n",
       "      <td>382.000000</td>\n",
       "      <td>382.000000</td>\n",
       "      <td>382.000000</td>\n",
       "      <td>382.000000</td>\n",
       "      <td>382.000000</td>\n",
       "      <td>382.000000</td>\n",
       "      <td>382.000000</td>\n",
       "      <td>382.000000</td>\n",
       "      <td>382.000000</td>\n",
       "      <td>382.000000</td>\n",
       "      <td>382.000000</td>\n",
       "    </tr>\n",
       "    <tr>\n",
       "      <th>mean</th>\n",
       "      <td>784.858639</td>\n",
       "      <td>8.730366</td>\n",
       "      <td>636.041885</td>\n",
       "      <td>7.903141</td>\n",
       "      <td>21.342932</td>\n",
       "      <td>0.287958</td>\n",
       "      <td>123798.905759</td>\n",
       "      <td>928.513089</td>\n",
       "      <td>937.243455</td>\n",
       "      <td>3538.725131</td>\n",
       "      <td>40740.740838</td>\n",
       "      <td>295.460733</td>\n",
       "    </tr>\n",
       "    <tr>\n",
       "      <th>std</th>\n",
       "      <td>986.035023</td>\n",
       "      <td>13.221238</td>\n",
       "      <td>828.759990</td>\n",
       "      <td>11.740794</td>\n",
       "      <td>33.851152</td>\n",
       "      <td>0.735890</td>\n",
       "      <td>98985.188664</td>\n",
       "      <td>830.293547</td>\n",
       "      <td>837.854034</td>\n",
       "      <td>1795.702660</td>\n",
       "      <td>31533.314701</td>\n",
       "      <td>338.131608</td>\n",
       "    </tr>\n",
       "    <tr>\n",
       "      <th>min</th>\n",
       "      <td>2.000000</td>\n",
       "      <td>0.000000</td>\n",
       "      <td>0.000000</td>\n",
       "      <td>0.000000</td>\n",
       "      <td>0.000000</td>\n",
       "      <td>0.000000</td>\n",
       "      <td>613.000000</td>\n",
       "      <td>0.000000</td>\n",
       "      <td>9.000000</td>\n",
       "      <td>15.000000</td>\n",
       "      <td>15.000000</td>\n",
       "      <td>0.000000</td>\n",
       "    </tr>\n",
       "    <tr>\n",
       "      <th>25%</th>\n",
       "      <td>141.000000</td>\n",
       "      <td>0.000000</td>\n",
       "      <td>131.500000</td>\n",
       "      <td>0.000000</td>\n",
       "      <td>3.000000</td>\n",
       "      <td>0.000000</td>\n",
       "      <td>42906.750000</td>\n",
       "      <td>418.500000</td>\n",
       "      <td>420.250000</td>\n",
       "      <td>2479.000000</td>\n",
       "      <td>13689.750000</td>\n",
       "      <td>150.250000</td>\n",
       "    </tr>\n",
       "    <tr>\n",
       "      <th>50%</th>\n",
       "      <td>293.000000</td>\n",
       "      <td>2.000000</td>\n",
       "      <td>203.500000</td>\n",
       "      <td>2.000000</td>\n",
       "      <td>3.000000</td>\n",
       "      <td>0.000000</td>\n",
       "      <td>96707.000000</td>\n",
       "      <td>583.000000</td>\n",
       "      <td>585.500000</td>\n",
       "      <td>3169.500000</td>\n",
       "      <td>35106.000000</td>\n",
       "      <td>232.500000</td>\n",
       "    </tr>\n",
       "    <tr>\n",
       "      <th>75%</th>\n",
       "      <td>898.000000</td>\n",
       "      <td>13.000000</td>\n",
       "      <td>613.500000</td>\n",
       "      <td>11.000000</td>\n",
       "      <td>16.000000</td>\n",
       "      <td>0.000000</td>\n",
       "      <td>178199.500000</td>\n",
       "      <td>1150.250000</td>\n",
       "      <td>1165.250000</td>\n",
       "      <td>4953.750000</td>\n",
       "      <td>58806.500000</td>\n",
       "      <td>373.000000</td>\n",
       "    </tr>\n",
       "    <tr>\n",
       "      <th>max</th>\n",
       "      <td>3326.000000</td>\n",
       "      <td>82.000000</td>\n",
       "      <td>3019.000000</td>\n",
       "      <td>67.000000</td>\n",
       "      <td>110.000000</td>\n",
       "      <td>4.000000</td>\n",
       "      <td>354692.000000</td>\n",
       "      <td>4883.000000</td>\n",
       "      <td>4894.000000</td>\n",
       "      <td>8681.000000</td>\n",
       "      <td>111925.000000</td>\n",
       "      <td>5545.000000</td>\n",
       "    </tr>\n",
       "  </tbody>\n",
       "</table>\n",
       "</div>"
      ],
      "text/plain": [
       "       total_coronic  new_coronic  total_be_cured  new_be_cured    deceased  \\\n",
       "count     382.000000   382.000000      382.000000    382.000000  382.000000   \n",
       "mean      784.858639     8.730366      636.041885      7.903141   21.342932   \n",
       "std       986.035023    13.221238      828.759990     11.740794   33.851152   \n",
       "min         2.000000     0.000000        0.000000      0.000000    0.000000   \n",
       "25%       141.000000     0.000000      131.500000      0.000000    3.000000   \n",
       "50%       293.000000     2.000000      203.500000      2.000000    3.000000   \n",
       "75%       898.000000    13.000000      613.500000     11.000000   16.000000   \n",
       "max      3326.000000    82.000000     3019.000000     67.000000  110.000000   \n",
       "\n",
       "       new_deceased  total_negative  new_negative    diagnosed     isolated  \\\n",
       "count    382.000000      382.000000    382.000000   382.000000   382.000000   \n",
       "mean       0.287958   123798.905759    928.513089   937.243455  3538.725131   \n",
       "std        0.735890    98985.188664    830.293547   837.854034  1795.702660   \n",
       "min        0.000000      613.000000      0.000000     9.000000    15.000000   \n",
       "25%        0.000000    42906.750000    418.500000   420.250000  2479.000000   \n",
       "50%        0.000000    96707.000000    583.000000   585.500000  3169.500000   \n",
       "75%        0.000000   178199.500000   1150.250000  1165.250000  4953.750000   \n",
       "max        4.000000   354692.000000   4883.000000  4894.000000  8681.000000   \n",
       "\n",
       "       total_released  new_released  \n",
       "count      382.000000    382.000000  \n",
       "mean     40740.740838    295.460733  \n",
       "std      31533.314701    338.131608  \n",
       "min         15.000000      0.000000  \n",
       "25%      13689.750000    150.250000  \n",
       "50%      35106.000000    232.500000  \n",
       "75%      58806.500000    373.000000  \n",
       "max     111925.000000   5545.000000  "
      ]
     },
     "execution_count": 75,
     "metadata": {},
     "output_type": "execute_result"
    }
   ],
   "source": [
    "data.describe()"
   ]
  },
  {
   "cell_type": "code",
   "execution_count": 76,
   "id": "packed-uzbekistan",
   "metadata": {},
   "outputs": [
    {
     "data": {
      "text/plain": [
       "date              object\n",
       "day               object\n",
       "total_coronic      int64\n",
       "new_coronic        int64\n",
       "total_be_cured     int64\n",
       "new_be_cured       int64\n",
       "deceased           int64\n",
       "new_deceased       int64\n",
       "total_negative     int64\n",
       "new_negative       int64\n",
       "diagnosed          int64\n",
       "isolated           int64\n",
       "total_released     int64\n",
       "new_released       int64\n",
       "dtype: object"
      ]
     },
     "execution_count": 76,
     "metadata": {},
     "output_type": "execute_result"
    }
   ],
   "source": [
    "data.dtypes"
   ]
  },
  {
   "cell_type": "code",
   "execution_count": 77,
   "id": "transsexual-forge",
   "metadata": {},
   "outputs": [
    {
     "data": {
      "text/plain": [
       "(382, 14)"
      ]
     },
     "execution_count": 77,
     "metadata": {},
     "output_type": "execute_result"
    }
   ],
   "source": [
    "data.shape"
   ]
  },
  {
   "cell_type": "markdown",
   "id": "suspended-theater",
   "metadata": {},
   "source": [
    "### 총 14개의 Variable과 2020년 2월 21일부터 오늘 날짜까지의 일 수 만큼의  Observation으로 구성된 데이터 프레임\n",
    "\n",
    "**date : 날짜**  \n",
    "2020년 2월 21일부터 2021년 2월 6일까지 총 352일의 자료로 구성되어 있습니다.\n",
    "<br>\n",
    "\n",
    "**day : 요일**  \n",
    "총 352일간의 요일을 나타내고 있습니다.\n",
    "<br>\n",
    "\n",
    "**total_coronic : 확진자수(누계)**  \n",
    "2020년 2월 21일부터 시작해서 매일 매일 코로나 확진자 수의 총합\n",
    "<br>\n",
    "\n",
    "**new_coronic : 확진자수(신규)**  \n",
    "매일 추가로 확진 판정받은 확진자 수\n",
    "<br>\n",
    "\n",
    "**total_be_cured : 완치자수(누계)**  \n",
    "2020년 2월 21일부터 시작해서 매일 매일 코로나 완치자 수의 총합\n",
    "<br>\n",
    "\n",
    "**new_be_cured : 완치자수(추가)**  \n",
    "매일 추가로 완치 판정받은 완치자 수\n",
    "<br>\n",
    "\n",
    "**deceased : 사망자수(누계)**  \n",
    "현재까지 코로나로 인해 사망한 사람 수의 총합\n",
    "<br>\n",
    "\n",
    "**new_deceased : 사망자수(추가)**  \n",
    "매일 추가로 사망한 확진자의 수\n",
    "<br>\n",
    "\n",
    "**total_negative : 검사결과 음성(누계)**  \n",
    "2020년 2월 21일부터 코로나 검사결과 양성이 아닌 음성 판정을 받은 사람 수의 총합\n",
    "<br>\n",
    "\n",
    "**new_negative : 검사결과 음성(추가)**  \n",
    "매일 코로나 검사결과 음성 판정을 받은 인원 수  \n",
    "총 3개의 `Outlier`가 존재한다. 즉, 이 부분을 제대로 파악해서 분석에 활용할 것!!\n",
    "<br>\n",
    "\n",
    "**dianosed : 코로나 검사를 받은 인원수**  \n",
    "추가 확진자수와 음성판정받은 사람수의 합\n",
    "<br>\n",
    "\n",
    "**isolated : 격리중인 인원수**  \n",
    "코로나 확진자와 밀접한 접촉자로 판단되어 격리 중인 인원의 수\n",
    "<br>\n",
    "\n",
    "**total_released : 격리해제 인원수(누계)**  \n",
    "격리 기간 이후 음성 판정으로 인해 격리가 해제된 사람 수의 총합\n",
    "<br>\n",
    "\n",
    "**new_released : 격리해제 인원수(추가)**  \n",
    "격리 기간을 거쳐 격리 해제된 인원의 수\n",
    "\n",
    "<br>\n",
    "<br>"
   ]
  },
  {
   "cell_type": "code",
   "execution_count": 78,
   "id": "regional-egyptian",
   "metadata": {},
   "outputs": [],
   "source": [
    "data.to_csv(\"Busan_Covid-19.csv\", index=False)"
   ]
  }
 ],
 "metadata": {
  "kernelspec": {
   "display_name": "Python 3",
   "language": "python",
   "name": "python3"
  },
  "language_info": {
   "codemirror_mode": {
    "name": "ipython",
    "version": 3
   },
   "file_extension": ".py",
   "mimetype": "text/x-python",
   "name": "python",
   "nbconvert_exporter": "python",
   "pygments_lexer": "ipython3",
   "version": "3.8.7"
  }
 },
 "nbformat": 4,
 "nbformat_minor": 5
}
