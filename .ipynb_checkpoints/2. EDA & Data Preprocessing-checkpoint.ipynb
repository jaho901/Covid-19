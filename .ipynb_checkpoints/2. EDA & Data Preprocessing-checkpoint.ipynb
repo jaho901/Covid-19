{
 "cells": [
  {
   "cell_type": "markdown",
   "id": "needed-xerox",
   "metadata": {},
   "source": [
    "<br>\n",
    "\n",
    "# 1. 데이터 탐색\n",
    "\n",
    "**데이터 셋 조회 및 내용 탐색**"
   ]
  },
  {
   "cell_type": "code",
   "execution_count": 1,
   "id": "bulgarian-canyon",
   "metadata": {},
   "outputs": [],
   "source": [
    "import numpy as np\n",
    "import pandas as pd"
   ]
  },
  {
   "cell_type": "code",
   "execution_count": 2,
   "id": "judicial-aspect",
   "metadata": {},
   "outputs": [],
   "source": [
    "import warnings\n",
    "\n",
    "warnings.filterwarnings(action='ignore')\n",
    "#  warnings.filterwarnings(action='default')"
   ]
  },
  {
   "cell_type": "code",
   "execution_count": 3,
   "id": "therapeutic-accounting",
   "metadata": {},
   "outputs": [],
   "source": [
    "data = pd.read_csv(\"Busan_Covid-19.csv\")"
   ]
  },
  {
   "cell_type": "code",
   "execution_count": 4,
   "id": "vanilla-philadelphia",
   "metadata": {},
   "outputs": [
    {
     "data": {
      "text/html": [
       "<div>\n",
       "<style scoped>\n",
       "    .dataframe tbody tr th:only-of-type {\n",
       "        vertical-align: middle;\n",
       "    }\n",
       "\n",
       "    .dataframe tbody tr th {\n",
       "        vertical-align: top;\n",
       "    }\n",
       "\n",
       "    .dataframe thead th {\n",
       "        text-align: right;\n",
       "    }\n",
       "</style>\n",
       "<table border=\"1\" class=\"dataframe\">\n",
       "  <thead>\n",
       "    <tr style=\"text-align: right;\">\n",
       "      <th></th>\n",
       "      <th>date</th>\n",
       "      <th>day</th>\n",
       "      <th>total_coronic</th>\n",
       "      <th>new_coronic</th>\n",
       "      <th>total_be_cured</th>\n",
       "      <th>deceased</th>\n",
       "      <th>total_negative</th>\n",
       "      <th>isolated</th>\n",
       "      <th>total_released</th>\n",
       "    </tr>\n",
       "  </thead>\n",
       "  <tbody>\n",
       "    <tr>\n",
       "      <th>0</th>\n",
       "      <td>2021-02-18</td>\n",
       "      <td>목</td>\n",
       "      <td>3,108</td>\n",
       "      <td>17</td>\n",
       "      <td>2,674</td>\n",
       "      <td>102</td>\n",
       "      <td>331,206</td>\n",
       "      <td>5,611</td>\n",
       "      <td>101,305</td>\n",
       "    </tr>\n",
       "    <tr>\n",
       "      <th>1</th>\n",
       "      <td>2021-02-17</td>\n",
       "      <td>수</td>\n",
       "      <td>3,091</td>\n",
       "      <td>26</td>\n",
       "      <td>2,654</td>\n",
       "      <td>101</td>\n",
       "      <td>329,558</td>\n",
       "      <td>5,484</td>\n",
       "      <td>100,935</td>\n",
       "    </tr>\n",
       "    <tr>\n",
       "      <th>2</th>\n",
       "      <td>2021-02-16</td>\n",
       "      <td>화</td>\n",
       "      <td>3,065</td>\n",
       "      <td>17</td>\n",
       "      <td>2,630</td>\n",
       "      <td>101</td>\n",
       "      <td>327,898</td>\n",
       "      <td>5,476</td>\n",
       "      <td>100,553</td>\n",
       "    </tr>\n",
       "    <tr>\n",
       "      <th>3</th>\n",
       "      <td>2021-02-15</td>\n",
       "      <td>월</td>\n",
       "      <td>3,048</td>\n",
       "      <td>19</td>\n",
       "      <td>2,612</td>\n",
       "      <td>101</td>\n",
       "      <td>326,509</td>\n",
       "      <td>5,470</td>\n",
       "      <td>100,279</td>\n",
       "    </tr>\n",
       "    <tr>\n",
       "      <th>4</th>\n",
       "      <td>2021-02-14</td>\n",
       "      <td>일</td>\n",
       "      <td>3,029</td>\n",
       "      <td>15</td>\n",
       "      <td>2,590</td>\n",
       "      <td>101</td>\n",
       "      <td>325,223</td>\n",
       "      <td>5,456</td>\n",
       "      <td>99,977</td>\n",
       "    </tr>\n",
       "    <tr>\n",
       "      <th>...</th>\n",
       "      <td>...</td>\n",
       "      <td>...</td>\n",
       "      <td>...</td>\n",
       "      <td>...</td>\n",
       "      <td>...</td>\n",
       "      <td>...</td>\n",
       "      <td>...</td>\n",
       "      <td>...</td>\n",
       "      <td>...</td>\n",
       "    </tr>\n",
       "    <tr>\n",
       "      <th>359</th>\n",
       "      <td>2020-02-25</td>\n",
       "      <td>화</td>\n",
       "      <td>51</td>\n",
       "      <td>13</td>\n",
       "      <td>0</td>\n",
       "      <td>0</td>\n",
       "      <td>1,823</td>\n",
       "      <td>618</td>\n",
       "      <td>21</td>\n",
       "    </tr>\n",
       "    <tr>\n",
       "      <th>360</th>\n",
       "      <td>2020-02-24</td>\n",
       "      <td>월</td>\n",
       "      <td>38</td>\n",
       "      <td>22</td>\n",
       "      <td>0</td>\n",
       "      <td>0</td>\n",
       "      <td>1,499</td>\n",
       "      <td>263</td>\n",
       "      <td>22</td>\n",
       "    </tr>\n",
       "    <tr>\n",
       "      <th>361</th>\n",
       "      <td>2020-02-23</td>\n",
       "      <td>일</td>\n",
       "      <td>16</td>\n",
       "      <td>11</td>\n",
       "      <td>0</td>\n",
       "      <td>0</td>\n",
       "      <td>1,076</td>\n",
       "      <td>145</td>\n",
       "      <td>15</td>\n",
       "    </tr>\n",
       "    <tr>\n",
       "      <th>362</th>\n",
       "      <td>2020-02-22</td>\n",
       "      <td>토</td>\n",
       "      <td>5</td>\n",
       "      <td>3</td>\n",
       "      <td>0</td>\n",
       "      <td>0</td>\n",
       "      <td>1,092</td>\n",
       "      <td>115</td>\n",
       "      <td>15</td>\n",
       "    </tr>\n",
       "    <tr>\n",
       "      <th>363</th>\n",
       "      <td>2020-02-21</td>\n",
       "      <td>금</td>\n",
       "      <td>2</td>\n",
       "      <td>2</td>\n",
       "      <td>0</td>\n",
       "      <td>0</td>\n",
       "      <td>613</td>\n",
       "      <td>15</td>\n",
       "      <td>15</td>\n",
       "    </tr>\n",
       "  </tbody>\n",
       "</table>\n",
       "<p>364 rows × 9 columns</p>\n",
       "</div>"
      ],
      "text/plain": [
       "           date day total_coronic  new_coronic total_be_cured  deceased  \\\n",
       "0    2021-02-18   목         3,108           17          2,674       102   \n",
       "1    2021-02-17   수         3,091           26          2,654       101   \n",
       "2    2021-02-16   화         3,065           17          2,630       101   \n",
       "3    2021-02-15   월         3,048           19          2,612       101   \n",
       "4    2021-02-14   일         3,029           15          2,590       101   \n",
       "..          ...  ..           ...          ...            ...       ...   \n",
       "359  2020-02-25   화            51           13              0         0   \n",
       "360  2020-02-24   월            38           22              0         0   \n",
       "361  2020-02-23   일            16           11              0         0   \n",
       "362  2020-02-22   토             5            3              0         0   \n",
       "363  2020-02-21   금             2            2              0         0   \n",
       "\n",
       "    total_negative isolated total_released  \n",
       "0          331,206    5,611        101,305  \n",
       "1          329,558    5,484        100,935  \n",
       "2          327,898    5,476        100,553  \n",
       "3          326,509    5,470        100,279  \n",
       "4          325,223    5,456         99,977  \n",
       "..             ...      ...            ...  \n",
       "359          1,823      618             21  \n",
       "360          1,499      263             22  \n",
       "361          1,076      145             15  \n",
       "362          1,092      115             15  \n",
       "363            613       15             15  \n",
       "\n",
       "[364 rows x 9 columns]"
      ]
     },
     "execution_count": 4,
     "metadata": {},
     "output_type": "execute_result"
    }
   ],
   "source": [
    "data"
   ]
  },
  {
   "cell_type": "code",
   "execution_count": 5,
   "id": "lasting-synthesis",
   "metadata": {},
   "outputs": [
    {
     "name": "stdout",
     "output_type": "stream",
     "text": [
      "(364, 9)\n",
      "<class 'pandas.core.frame.DataFrame'>\n",
      "RangeIndex: 364 entries, 0 to 363\n",
      "Data columns (total 9 columns):\n",
      " #   Column          Non-Null Count  Dtype \n",
      "---  ------          --------------  ----- \n",
      " 0   date            364 non-null    object\n",
      " 1   day             364 non-null    object\n",
      " 2   total_coronic   364 non-null    object\n",
      " 3   new_coronic     364 non-null    int64 \n",
      " 4   total_be_cured  364 non-null    object\n",
      " 5   deceased        364 non-null    int64 \n",
      " 6   total_negative  364 non-null    object\n",
      " 7   isolated        364 non-null    object\n",
      " 8   total_released  364 non-null    object\n",
      "dtypes: int64(2), object(7)\n",
      "memory usage: 25.7+ KB\n"
     ]
    }
   ],
   "source": [
    "print(data.shape)\n",
    "data.info()"
   ]
  },
  {
   "cell_type": "code",
   "execution_count": 6,
   "id": "damaged-regression",
   "metadata": {
    "scrolled": false
   },
   "outputs": [
    {
     "data": {
      "text/plain": [
       "date              object\n",
       "day               object\n",
       "total_coronic     object\n",
       "new_coronic        int64\n",
       "total_be_cured    object\n",
       "deceased           int64\n",
       "total_negative    object\n",
       "isolated          object\n",
       "total_released    object\n",
       "dtype: object"
      ]
     },
     "execution_count": 6,
     "metadata": {},
     "output_type": "execute_result"
    }
   ],
   "source": [
    "data.dtypes"
   ]
  },
  {
   "cell_type": "markdown",
   "id": "painted-montgomery",
   "metadata": {},
   "source": [
    "<br>\n",
    "\n",
    "# 2. Missing Value & NA\n",
    "\n",
    "**각각의 변수 중에 결측치가 존재할 시 처리 및 제거**"
   ]
  },
  {
   "cell_type": "code",
   "execution_count": 7,
   "id": "continent-assumption",
   "metadata": {},
   "outputs": [
    {
     "data": {
      "text/plain": [
       "date              0\n",
       "day               0\n",
       "total_coronic     0\n",
       "new_coronic       0\n",
       "total_be_cured    0\n",
       "deceased          0\n",
       "total_negative    0\n",
       "isolated          0\n",
       "total_released    0\n",
       "dtype: int64"
      ]
     },
     "execution_count": 7,
     "metadata": {},
     "output_type": "execute_result"
    }
   ],
   "source": [
    "data.isnull().sum()"
   ]
  },
  {
   "cell_type": "code",
   "execution_count": 8,
   "id": "indirect-boring",
   "metadata": {},
   "outputs": [
    {
     "data": {
      "text/plain": [
       "date              0\n",
       "day               0\n",
       "total_coronic     0\n",
       "new_coronic       0\n",
       "total_be_cured    0\n",
       "deceased          0\n",
       "total_negative    0\n",
       "isolated          0\n",
       "total_released    0\n",
       "dtype: int64"
      ]
     },
     "execution_count": 8,
     "metadata": {},
     "output_type": "execute_result"
    }
   ],
   "source": [
    "data.isna().sum()"
   ]
  },
  {
   "cell_type": "markdown",
   "id": "geographic-bargain",
   "metadata": {},
   "source": [
    "데이터 셋에 결측치 및 NA값 모두 존재하지 않음을 알 수 있다."
   ]
  },
  {
   "cell_type": "markdown",
   "id": "handy-comparison",
   "metadata": {},
   "source": [
    " "
   ]
  },
  {
   "cell_type": "markdown",
   "id": "weird-announcement",
   "metadata": {},
   "source": [
    "<br>\n",
    "\n",
    "# 3. Type Conversion\n",
    "\n",
    "**각각의 변수 타입에 맞게 모두 변환**"
   ]
  },
  {
   "cell_type": "code",
   "execution_count": 9,
   "id": "built-angle",
   "metadata": {},
   "outputs": [
    {
     "data": {
      "text/plain": [
       "day\n",
       "금    52\n",
       "목    52\n",
       "수    52\n",
       "월    52\n",
       "일    52\n",
       "토    52\n",
       "화    52\n",
       "dtype: int64"
      ]
     },
     "execution_count": 9,
     "metadata": {},
     "output_type": "execute_result"
    }
   ],
   "source": [
    "data.groupby('day').size()"
   ]
  },
  {
   "cell_type": "code",
   "execution_count": 10,
   "id": "associate-leader",
   "metadata": {},
   "outputs": [
    {
     "data": {
      "text/html": [
       "<div>\n",
       "<style scoped>\n",
       "    .dataframe tbody tr th:only-of-type {\n",
       "        vertical-align: middle;\n",
       "    }\n",
       "\n",
       "    .dataframe tbody tr th {\n",
       "        vertical-align: top;\n",
       "    }\n",
       "\n",
       "    .dataframe thead th {\n",
       "        text-align: right;\n",
       "    }\n",
       "</style>\n",
       "<table border=\"1\" class=\"dataframe\">\n",
       "  <thead>\n",
       "    <tr style=\"text-align: right;\">\n",
       "      <th></th>\n",
       "      <th>date</th>\n",
       "      <th>day</th>\n",
       "    </tr>\n",
       "  </thead>\n",
       "  <tbody>\n",
       "    <tr>\n",
       "      <th>0</th>\n",
       "      <td>2021-02-18</td>\n",
       "      <td>목</td>\n",
       "    </tr>\n",
       "    <tr>\n",
       "      <th>1</th>\n",
       "      <td>2021-02-17</td>\n",
       "      <td>수</td>\n",
       "    </tr>\n",
       "    <tr>\n",
       "      <th>2</th>\n",
       "      <td>2021-02-16</td>\n",
       "      <td>화</td>\n",
       "    </tr>\n",
       "    <tr>\n",
       "      <th>3</th>\n",
       "      <td>2021-02-15</td>\n",
       "      <td>월</td>\n",
       "    </tr>\n",
       "    <tr>\n",
       "      <th>4</th>\n",
       "      <td>2021-02-14</td>\n",
       "      <td>일</td>\n",
       "    </tr>\n",
       "    <tr>\n",
       "      <th>...</th>\n",
       "      <td>...</td>\n",
       "      <td>...</td>\n",
       "    </tr>\n",
       "    <tr>\n",
       "      <th>359</th>\n",
       "      <td>2020-02-25</td>\n",
       "      <td>화</td>\n",
       "    </tr>\n",
       "    <tr>\n",
       "      <th>360</th>\n",
       "      <td>2020-02-24</td>\n",
       "      <td>월</td>\n",
       "    </tr>\n",
       "    <tr>\n",
       "      <th>361</th>\n",
       "      <td>2020-02-23</td>\n",
       "      <td>일</td>\n",
       "    </tr>\n",
       "    <tr>\n",
       "      <th>362</th>\n",
       "      <td>2020-02-22</td>\n",
       "      <td>토</td>\n",
       "    </tr>\n",
       "    <tr>\n",
       "      <th>363</th>\n",
       "      <td>2020-02-21</td>\n",
       "      <td>금</td>\n",
       "    </tr>\n",
       "  </tbody>\n",
       "</table>\n",
       "<p>364 rows × 2 columns</p>\n",
       "</div>"
      ],
      "text/plain": [
       "           date day\n",
       "0    2021-02-18   목\n",
       "1    2021-02-17   수\n",
       "2    2021-02-16   화\n",
       "3    2021-02-15   월\n",
       "4    2021-02-14   일\n",
       "..          ...  ..\n",
       "359  2020-02-25   화\n",
       "360  2020-02-24   월\n",
       "361  2020-02-23   일\n",
       "362  2020-02-22   토\n",
       "363  2020-02-21   금\n",
       "\n",
       "[364 rows x 2 columns]"
      ]
     },
     "execution_count": 10,
     "metadata": {},
     "output_type": "execute_result"
    }
   ],
   "source": [
    "data1 = data[['date', 'day']]\n",
    "data1"
   ]
  },
  {
   "cell_type": "code",
   "execution_count": 11,
   "id": "seven-jewel",
   "metadata": {},
   "outputs": [],
   "source": [
    "data1 = data1.astype(str)"
   ]
  },
  {
   "cell_type": "code",
   "execution_count": 12,
   "id": "different-wrapping",
   "metadata": {
    "scrolled": false
   },
   "outputs": [
    {
     "data": {
      "text/plain": [
       "date    object\n",
       "day     object\n",
       "dtype: object"
      ]
     },
     "execution_count": 12,
     "metadata": {},
     "output_type": "execute_result"
    }
   ],
   "source": [
    "data1.dtypes"
   ]
  },
  {
   "cell_type": "code",
   "execution_count": 13,
   "id": "compatible-occasions",
   "metadata": {
    "scrolled": false
   },
   "outputs": [
    {
     "data": {
      "text/plain": [
       "0      3,108\n",
       "1      3,091\n",
       "2      3,065\n",
       "3      3,048\n",
       "4      3,029\n",
       "       ...  \n",
       "359       51\n",
       "360       38\n",
       "361       16\n",
       "362        5\n",
       "363        2\n",
       "Name: total_coronic, Length: 364, dtype: object"
      ]
     },
     "execution_count": 13,
     "metadata": {},
     "output_type": "execute_result"
    }
   ],
   "source": [
    "data2 = data.iloc[:, 2]\n",
    "data2"
   ]
  },
  {
   "cell_type": "code",
   "execution_count": 14,
   "id": "derived-conspiracy",
   "metadata": {},
   "outputs": [
    {
     "data": {
      "text/plain": [
       "0      3108\n",
       "1      3091\n",
       "2      3065\n",
       "3      3048\n",
       "4      3029\n",
       "       ... \n",
       "359      51\n",
       "360      38\n",
       "361      16\n",
       "362       5\n",
       "363       2\n",
       "Name: total_coronic, Length: 364, dtype: int64"
      ]
     },
     "execution_count": 14,
     "metadata": {},
     "output_type": "execute_result"
    }
   ],
   "source": [
    "data2 = data2.str.replace(',','').astype('int64')\n",
    "data2 = data2.apply(pd.to_numeric)\n",
    "data2"
   ]
  },
  {
   "cell_type": "code",
   "execution_count": 15,
   "id": "robust-chain",
   "metadata": {},
   "outputs": [
    {
     "data": {
      "text/plain": [
       "0      17\n",
       "1      26\n",
       "2      17\n",
       "3      19\n",
       "4      15\n",
       "       ..\n",
       "359    13\n",
       "360    22\n",
       "361    11\n",
       "362     3\n",
       "363     2\n",
       "Name: new_coronic, Length: 364, dtype: int64"
      ]
     },
     "execution_count": 15,
     "metadata": {},
     "output_type": "execute_result"
    }
   ],
   "source": [
    "data3 = data.iloc[:, 3]\n",
    "data3"
   ]
  },
  {
   "cell_type": "code",
   "execution_count": 16,
   "id": "genuine-grammar",
   "metadata": {},
   "outputs": [
    {
     "data": {
      "text/plain": [
       "0      2,674\n",
       "1      2,654\n",
       "2      2,630\n",
       "3      2,612\n",
       "4      2,590\n",
       "       ...  \n",
       "359        0\n",
       "360        0\n",
       "361        0\n",
       "362        0\n",
       "363        0\n",
       "Name: total_be_cured, Length: 364, dtype: object"
      ]
     },
     "execution_count": 16,
     "metadata": {},
     "output_type": "execute_result"
    }
   ],
   "source": [
    "data4 = data.iloc[:, 4]\n",
    "data4"
   ]
  },
  {
   "cell_type": "code",
   "execution_count": 17,
   "id": "bearing-deployment",
   "metadata": {},
   "outputs": [
    {
     "data": {
      "text/plain": [
       "0      2674\n",
       "1      2654\n",
       "2      2630\n",
       "3      2612\n",
       "4      2590\n",
       "       ... \n",
       "359       0\n",
       "360       0\n",
       "361       0\n",
       "362       0\n",
       "363       0\n",
       "Name: total_be_cured, Length: 364, dtype: int64"
      ]
     },
     "execution_count": 17,
     "metadata": {},
     "output_type": "execute_result"
    }
   ],
   "source": [
    "data4 = data4.str.replace(',','').astype('int64')\n",
    "data4 = data4.apply(pd.to_numeric)\n",
    "data4"
   ]
  },
  {
   "cell_type": "code",
   "execution_count": 18,
   "id": "hidden-contamination",
   "metadata": {},
   "outputs": [
    {
     "data": {
      "text/plain": [
       "0      102\n",
       "1      101\n",
       "2      101\n",
       "3      101\n",
       "4      101\n",
       "      ... \n",
       "359      0\n",
       "360      0\n",
       "361      0\n",
       "362      0\n",
       "363      0\n",
       "Name: deceased, Length: 364, dtype: int64"
      ]
     },
     "execution_count": 18,
     "metadata": {},
     "output_type": "execute_result"
    }
   ],
   "source": [
    "data5 = data.iloc[:, 5]\n",
    "data5"
   ]
  },
  {
   "cell_type": "code",
   "execution_count": 19,
   "id": "global-segment",
   "metadata": {},
   "outputs": [
    {
     "data": {
      "text/plain": [
       "total_negative    object\n",
       "isolated          object\n",
       "total_released    object\n",
       "dtype: object"
      ]
     },
     "execution_count": 19,
     "metadata": {},
     "output_type": "execute_result"
    }
   ],
   "source": [
    "data6 = data.iloc[:,6:9]\n",
    "data6.dtypes"
   ]
  },
  {
   "cell_type": "code",
   "execution_count": 20,
   "id": "original-security",
   "metadata": {},
   "outputs": [],
   "source": [
    "for i in range(0,3):\n",
    "    data6.iloc[:,i] = data6.iloc[:,i].str.replace(',','').astype('int64')"
   ]
  },
  {
   "cell_type": "code",
   "execution_count": 21,
   "id": "reported-analysis",
   "metadata": {},
   "outputs": [
    {
     "data": {
      "text/html": [
       "<div>\n",
       "<style scoped>\n",
       "    .dataframe tbody tr th:only-of-type {\n",
       "        vertical-align: middle;\n",
       "    }\n",
       "\n",
       "    .dataframe tbody tr th {\n",
       "        vertical-align: top;\n",
       "    }\n",
       "\n",
       "    .dataframe thead th {\n",
       "        text-align: right;\n",
       "    }\n",
       "</style>\n",
       "<table border=\"1\" class=\"dataframe\">\n",
       "  <thead>\n",
       "    <tr style=\"text-align: right;\">\n",
       "      <th></th>\n",
       "      <th>total_negative</th>\n",
       "      <th>isolated</th>\n",
       "      <th>total_released</th>\n",
       "    </tr>\n",
       "  </thead>\n",
       "  <tbody>\n",
       "    <tr>\n",
       "      <th>0</th>\n",
       "      <td>331206</td>\n",
       "      <td>5611</td>\n",
       "      <td>101305</td>\n",
       "    </tr>\n",
       "    <tr>\n",
       "      <th>1</th>\n",
       "      <td>329558</td>\n",
       "      <td>5484</td>\n",
       "      <td>100935</td>\n",
       "    </tr>\n",
       "    <tr>\n",
       "      <th>2</th>\n",
       "      <td>327898</td>\n",
       "      <td>5476</td>\n",
       "      <td>100553</td>\n",
       "    </tr>\n",
       "    <tr>\n",
       "      <th>3</th>\n",
       "      <td>326509</td>\n",
       "      <td>5470</td>\n",
       "      <td>100279</td>\n",
       "    </tr>\n",
       "    <tr>\n",
       "      <th>4</th>\n",
       "      <td>325223</td>\n",
       "      <td>5456</td>\n",
       "      <td>99977</td>\n",
       "    </tr>\n",
       "    <tr>\n",
       "      <th>...</th>\n",
       "      <td>...</td>\n",
       "      <td>...</td>\n",
       "      <td>...</td>\n",
       "    </tr>\n",
       "    <tr>\n",
       "      <th>359</th>\n",
       "      <td>1823</td>\n",
       "      <td>618</td>\n",
       "      <td>21</td>\n",
       "    </tr>\n",
       "    <tr>\n",
       "      <th>360</th>\n",
       "      <td>1499</td>\n",
       "      <td>263</td>\n",
       "      <td>22</td>\n",
       "    </tr>\n",
       "    <tr>\n",
       "      <th>361</th>\n",
       "      <td>1076</td>\n",
       "      <td>145</td>\n",
       "      <td>15</td>\n",
       "    </tr>\n",
       "    <tr>\n",
       "      <th>362</th>\n",
       "      <td>1092</td>\n",
       "      <td>115</td>\n",
       "      <td>15</td>\n",
       "    </tr>\n",
       "    <tr>\n",
       "      <th>363</th>\n",
       "      <td>613</td>\n",
       "      <td>15</td>\n",
       "      <td>15</td>\n",
       "    </tr>\n",
       "  </tbody>\n",
       "</table>\n",
       "<p>364 rows × 3 columns</p>\n",
       "</div>"
      ],
      "text/plain": [
       "     total_negative  isolated  total_released\n",
       "0            331206      5611          101305\n",
       "1            329558      5484          100935\n",
       "2            327898      5476          100553\n",
       "3            326509      5470          100279\n",
       "4            325223      5456           99977\n",
       "..              ...       ...             ...\n",
       "359            1823       618              21\n",
       "360            1499       263              22\n",
       "361            1076       145              15\n",
       "362            1092       115              15\n",
       "363             613        15              15\n",
       "\n",
       "[364 rows x 3 columns]"
      ]
     },
     "execution_count": 21,
     "metadata": {},
     "output_type": "execute_result"
    }
   ],
   "source": [
    "data6"
   ]
  },
  {
   "cell_type": "code",
   "execution_count": 22,
   "id": "quality-shakespeare",
   "metadata": {},
   "outputs": [],
   "source": [
    "data6 = data6.apply(pd.to_numeric)"
   ]
  },
  {
   "cell_type": "code",
   "execution_count": 23,
   "id": "determined-coast",
   "metadata": {},
   "outputs": [],
   "source": [
    "data = pd.concat([data1, data2, data3, data4, data5, data6], axis=1)"
   ]
  },
  {
   "cell_type": "code",
   "execution_count": 24,
   "id": "wrapped-superior",
   "metadata": {
    "scrolled": false
   },
   "outputs": [
    {
     "data": {
      "text/html": [
       "<div>\n",
       "<style scoped>\n",
       "    .dataframe tbody tr th:only-of-type {\n",
       "        vertical-align: middle;\n",
       "    }\n",
       "\n",
       "    .dataframe tbody tr th {\n",
       "        vertical-align: top;\n",
       "    }\n",
       "\n",
       "    .dataframe thead th {\n",
       "        text-align: right;\n",
       "    }\n",
       "</style>\n",
       "<table border=\"1\" class=\"dataframe\">\n",
       "  <thead>\n",
       "    <tr style=\"text-align: right;\">\n",
       "      <th></th>\n",
       "      <th>date</th>\n",
       "      <th>day</th>\n",
       "      <th>total_coronic</th>\n",
       "      <th>new_coronic</th>\n",
       "      <th>total_be_cured</th>\n",
       "      <th>deceased</th>\n",
       "      <th>total_negative</th>\n",
       "      <th>isolated</th>\n",
       "      <th>total_released</th>\n",
       "    </tr>\n",
       "  </thead>\n",
       "  <tbody>\n",
       "    <tr>\n",
       "      <th>0</th>\n",
       "      <td>2021-02-18</td>\n",
       "      <td>목</td>\n",
       "      <td>3108</td>\n",
       "      <td>17</td>\n",
       "      <td>2674</td>\n",
       "      <td>102</td>\n",
       "      <td>331206</td>\n",
       "      <td>5611</td>\n",
       "      <td>101305</td>\n",
       "    </tr>\n",
       "    <tr>\n",
       "      <th>1</th>\n",
       "      <td>2021-02-17</td>\n",
       "      <td>수</td>\n",
       "      <td>3091</td>\n",
       "      <td>26</td>\n",
       "      <td>2654</td>\n",
       "      <td>101</td>\n",
       "      <td>329558</td>\n",
       "      <td>5484</td>\n",
       "      <td>100935</td>\n",
       "    </tr>\n",
       "    <tr>\n",
       "      <th>2</th>\n",
       "      <td>2021-02-16</td>\n",
       "      <td>화</td>\n",
       "      <td>3065</td>\n",
       "      <td>17</td>\n",
       "      <td>2630</td>\n",
       "      <td>101</td>\n",
       "      <td>327898</td>\n",
       "      <td>5476</td>\n",
       "      <td>100553</td>\n",
       "    </tr>\n",
       "    <tr>\n",
       "      <th>3</th>\n",
       "      <td>2021-02-15</td>\n",
       "      <td>월</td>\n",
       "      <td>3048</td>\n",
       "      <td>19</td>\n",
       "      <td>2612</td>\n",
       "      <td>101</td>\n",
       "      <td>326509</td>\n",
       "      <td>5470</td>\n",
       "      <td>100279</td>\n",
       "    </tr>\n",
       "    <tr>\n",
       "      <th>4</th>\n",
       "      <td>2021-02-14</td>\n",
       "      <td>일</td>\n",
       "      <td>3029</td>\n",
       "      <td>15</td>\n",
       "      <td>2590</td>\n",
       "      <td>101</td>\n",
       "      <td>325223</td>\n",
       "      <td>5456</td>\n",
       "      <td>99977</td>\n",
       "    </tr>\n",
       "    <tr>\n",
       "      <th>...</th>\n",
       "      <td>...</td>\n",
       "      <td>...</td>\n",
       "      <td>...</td>\n",
       "      <td>...</td>\n",
       "      <td>...</td>\n",
       "      <td>...</td>\n",
       "      <td>...</td>\n",
       "      <td>...</td>\n",
       "      <td>...</td>\n",
       "    </tr>\n",
       "    <tr>\n",
       "      <th>359</th>\n",
       "      <td>2020-02-25</td>\n",
       "      <td>화</td>\n",
       "      <td>51</td>\n",
       "      <td>13</td>\n",
       "      <td>0</td>\n",
       "      <td>0</td>\n",
       "      <td>1823</td>\n",
       "      <td>618</td>\n",
       "      <td>21</td>\n",
       "    </tr>\n",
       "    <tr>\n",
       "      <th>360</th>\n",
       "      <td>2020-02-24</td>\n",
       "      <td>월</td>\n",
       "      <td>38</td>\n",
       "      <td>22</td>\n",
       "      <td>0</td>\n",
       "      <td>0</td>\n",
       "      <td>1499</td>\n",
       "      <td>263</td>\n",
       "      <td>22</td>\n",
       "    </tr>\n",
       "    <tr>\n",
       "      <th>361</th>\n",
       "      <td>2020-02-23</td>\n",
       "      <td>일</td>\n",
       "      <td>16</td>\n",
       "      <td>11</td>\n",
       "      <td>0</td>\n",
       "      <td>0</td>\n",
       "      <td>1076</td>\n",
       "      <td>145</td>\n",
       "      <td>15</td>\n",
       "    </tr>\n",
       "    <tr>\n",
       "      <th>362</th>\n",
       "      <td>2020-02-22</td>\n",
       "      <td>토</td>\n",
       "      <td>5</td>\n",
       "      <td>3</td>\n",
       "      <td>0</td>\n",
       "      <td>0</td>\n",
       "      <td>1092</td>\n",
       "      <td>115</td>\n",
       "      <td>15</td>\n",
       "    </tr>\n",
       "    <tr>\n",
       "      <th>363</th>\n",
       "      <td>2020-02-21</td>\n",
       "      <td>금</td>\n",
       "      <td>2</td>\n",
       "      <td>2</td>\n",
       "      <td>0</td>\n",
       "      <td>0</td>\n",
       "      <td>613</td>\n",
       "      <td>15</td>\n",
       "      <td>15</td>\n",
       "    </tr>\n",
       "  </tbody>\n",
       "</table>\n",
       "<p>364 rows × 9 columns</p>\n",
       "</div>"
      ],
      "text/plain": [
       "           date day  total_coronic  new_coronic  total_be_cured  deceased  \\\n",
       "0    2021-02-18   목           3108           17            2674       102   \n",
       "1    2021-02-17   수           3091           26            2654       101   \n",
       "2    2021-02-16   화           3065           17            2630       101   \n",
       "3    2021-02-15   월           3048           19            2612       101   \n",
       "4    2021-02-14   일           3029           15            2590       101   \n",
       "..          ...  ..            ...          ...             ...       ...   \n",
       "359  2020-02-25   화             51           13               0         0   \n",
       "360  2020-02-24   월             38           22               0         0   \n",
       "361  2020-02-23   일             16           11               0         0   \n",
       "362  2020-02-22   토              5            3               0         0   \n",
       "363  2020-02-21   금              2            2               0         0   \n",
       "\n",
       "     total_negative  isolated  total_released  \n",
       "0            331206      5611          101305  \n",
       "1            329558      5484          100935  \n",
       "2            327898      5476          100553  \n",
       "3            326509      5470          100279  \n",
       "4            325223      5456           99977  \n",
       "..              ...       ...             ...  \n",
       "359            1823       618              21  \n",
       "360            1499       263              22  \n",
       "361            1076       145              15  \n",
       "362            1092       115              15  \n",
       "363             613        15              15  \n",
       "\n",
       "[364 rows x 9 columns]"
      ]
     },
     "execution_count": 24,
     "metadata": {},
     "output_type": "execute_result"
    }
   ],
   "source": [
    "data"
   ]
  },
  {
   "cell_type": "code",
   "execution_count": 25,
   "id": "senior-moral",
   "metadata": {},
   "outputs": [
    {
     "data": {
      "text/plain": [
       "date              object\n",
       "day               object\n",
       "total_coronic      int64\n",
       "new_coronic        int64\n",
       "total_be_cured     int64\n",
       "deceased           int64\n",
       "total_negative     int64\n",
       "isolated           int64\n",
       "total_released     int64\n",
       "dtype: object"
      ]
     },
     "execution_count": 25,
     "metadata": {},
     "output_type": "execute_result"
    }
   ],
   "source": [
    "data.dtypes"
   ]
  },
  {
   "cell_type": "markdown",
   "id": "earlier-crystal",
   "metadata": {},
   "source": [
    "<br>\n",
    "\n",
    "# 4. New Variable\n",
    "\n",
    "**기존 변수를 활용해 새로운 파생 변수 생성**"
   ]
  },
  {
   "cell_type": "markdown",
   "id": "vulnerable-motivation",
   "metadata": {},
   "source": [
    "##### new_be_cured\n",
    "완치자수(누계)를 활용하여 완치자수(추가) 변수를 생성"
   ]
  },
  {
   "cell_type": "code",
   "execution_count": 26,
   "id": "center-hearts",
   "metadata": {
    "scrolled": true
   },
   "outputs": [
    {
     "data": {
      "text/plain": [
       "0      2674\n",
       "1      2654\n",
       "2      2630\n",
       "3      2612\n",
       "4      2590\n",
       "       ... \n",
       "359       0\n",
       "360       0\n",
       "361       0\n",
       "362       0\n",
       "363       0\n",
       "Name: total_be_cured, Length: 364, dtype: int64"
      ]
     },
     "execution_count": 26,
     "metadata": {},
     "output_type": "execute_result"
    }
   ],
   "source": [
    "data1 = data.total_be_cured\n",
    "data1"
   ]
  },
  {
   "cell_type": "code",
   "execution_count": 27,
   "id": "sixth-lunch",
   "metadata": {},
   "outputs": [
    {
     "data": {
      "text/plain": [
       "pandas.core.series.Series"
      ]
     },
     "execution_count": 27,
     "metadata": {},
     "output_type": "execute_result"
    }
   ],
   "source": [
    "type(data1)"
   ]
  },
  {
   "cell_type": "code",
   "execution_count": 28,
   "id": "ignored-journey",
   "metadata": {},
   "outputs": [
    {
     "data": {
      "text/plain": [
       "pandas.core.series.Series"
      ]
     },
     "execution_count": 28,
     "metadata": {},
     "output_type": "execute_result"
    }
   ],
   "source": [
    "data2 = []\n",
    "data2 = pd.Series(data2)\n",
    "type(data2)"
   ]
  },
  {
   "cell_type": "code",
   "execution_count": 29,
   "id": "biblical-acceptance",
   "metadata": {
    "scrolled": true
   },
   "outputs": [
    {
     "data": {
      "text/plain": [
       "364"
      ]
     },
     "execution_count": 29,
     "metadata": {},
     "output_type": "execute_result"
    }
   ],
   "source": [
    "n = len(data1)\n",
    "n"
   ]
  },
  {
   "cell_type": "code",
   "execution_count": 30,
   "id": "frozen-kennedy",
   "metadata": {},
   "outputs": [],
   "source": [
    "for i in data1.index:\n",
    "    if i < n-1:\n",
    "        data2[i] = data1[i]-data1[i+1]\n",
    "    else :\n",
    "        data2[i] = data1[i]"
   ]
  },
  {
   "cell_type": "code",
   "execution_count": 31,
   "id": "opposed-italic",
   "metadata": {
    "scrolled": true
   },
   "outputs": [
    {
     "data": {
      "text/plain": [
       "0      20\n",
       "1      24\n",
       "2      18\n",
       "3      22\n",
       "4      11\n",
       "       ..\n",
       "359     0\n",
       "360     0\n",
       "361     0\n",
       "362     0\n",
       "363     0\n",
       "Length: 364, dtype: int64"
      ]
     },
     "execution_count": 31,
     "metadata": {},
     "output_type": "execute_result"
    }
   ],
   "source": [
    "data2"
   ]
  },
  {
   "cell_type": "code",
   "execution_count": 32,
   "id": "studied-water",
   "metadata": {
    "scrolled": true
   },
   "outputs": [
    {
     "data": {
      "text/plain": [
       "0"
      ]
     },
     "execution_count": 32,
     "metadata": {},
     "output_type": "execute_result"
    }
   ],
   "source": [
    "len(data2[data2<0])"
   ]
  },
  {
   "cell_type": "markdown",
   "id": "brave-courtesy",
   "metadata": {},
   "source": [
    " "
   ]
  },
  {
   "cell_type": "markdown",
   "id": "confidential-chance",
   "metadata": {},
   "source": [
    "##### new_deceased\n",
    "사망자수(누계)를 이용하여 사망자수(추가) 변수 생성"
   ]
  },
  {
   "cell_type": "code",
   "execution_count": 33,
   "id": "excited-hamilton",
   "metadata": {},
   "outputs": [
    {
     "data": {
      "text/plain": [
       "0      102\n",
       "1      101\n",
       "2      101\n",
       "3      101\n",
       "4      101\n",
       "      ... \n",
       "359      0\n",
       "360      0\n",
       "361      0\n",
       "362      0\n",
       "363      0\n",
       "Name: deceased, Length: 364, dtype: int64"
      ]
     },
     "execution_count": 33,
     "metadata": {},
     "output_type": "execute_result"
    }
   ],
   "source": [
    "data1 = data.deceased\n",
    "data1"
   ]
  },
  {
   "cell_type": "code",
   "execution_count": 34,
   "id": "accepted-anniversary",
   "metadata": {},
   "outputs": [
    {
     "data": {
      "text/plain": [
       "pandas.core.series.Series"
      ]
     },
     "execution_count": 34,
     "metadata": {},
     "output_type": "execute_result"
    }
   ],
   "source": [
    "data6 = []\n",
    "data6 = pd.Series(data6)\n",
    "type(data6)"
   ]
  },
  {
   "cell_type": "code",
   "execution_count": 35,
   "id": "instant-somerset",
   "metadata": {},
   "outputs": [
    {
     "data": {
      "text/plain": [
       "364"
      ]
     },
     "execution_count": 35,
     "metadata": {},
     "output_type": "execute_result"
    }
   ],
   "source": [
    "n = len(data1)\n",
    "n"
   ]
  },
  {
   "cell_type": "code",
   "execution_count": 36,
   "id": "female-barcelona",
   "metadata": {},
   "outputs": [],
   "source": [
    "for i in data1.index:\n",
    "    if i < n-1:\n",
    "        data6[i] = data1[i]-data1[i+1]\n",
    "    else :\n",
    "        data6[i] = data1[i]"
   ]
  },
  {
   "cell_type": "code",
   "execution_count": 37,
   "id": "respiratory-parliament",
   "metadata": {},
   "outputs": [
    {
     "data": {
      "text/plain": [
       "0"
      ]
     },
     "execution_count": 37,
     "metadata": {},
     "output_type": "execute_result"
    }
   ],
   "source": [
    "len(data6[data6<0])"
   ]
  },
  {
   "cell_type": "markdown",
   "id": "unique-turner",
   "metadata": {},
   "source": [
    "##### new_negative\n",
    "검사결과 음성(누계)를 활용하여 검사결과 음성(추가) 변수 생성"
   ]
  },
  {
   "cell_type": "code",
   "execution_count": 38,
   "id": "patient-senegal",
   "metadata": {
    "scrolled": false
   },
   "outputs": [
    {
     "data": {
      "text/plain": [
       "0      331206\n",
       "1      329558\n",
       "2      327898\n",
       "3      326509\n",
       "4      325223\n",
       "        ...  \n",
       "359      1823\n",
       "360      1499\n",
       "361      1076\n",
       "362      1092\n",
       "363       613\n",
       "Name: total_negative, Length: 364, dtype: int64"
      ]
     },
     "execution_count": 38,
     "metadata": {},
     "output_type": "execute_result"
    }
   ],
   "source": [
    "data1 = data.total_negative\n",
    "data1"
   ]
  },
  {
   "cell_type": "code",
   "execution_count": 39,
   "id": "important-democracy",
   "metadata": {},
   "outputs": [
    {
     "data": {
      "text/plain": [
       "pandas.core.series.Series"
      ]
     },
     "execution_count": 39,
     "metadata": {},
     "output_type": "execute_result"
    }
   ],
   "source": [
    "type(data1)"
   ]
  },
  {
   "cell_type": "code",
   "execution_count": 40,
   "id": "transparent-father",
   "metadata": {},
   "outputs": [
    {
     "data": {
      "text/plain": [
       "pandas.core.series.Series"
      ]
     },
     "execution_count": 40,
     "metadata": {},
     "output_type": "execute_result"
    }
   ],
   "source": [
    "data3 = []\n",
    "data3 = pd.Series(data3)\n",
    "type(data3)"
   ]
  },
  {
   "cell_type": "code",
   "execution_count": 41,
   "id": "boring-range",
   "metadata": {
    "scrolled": false
   },
   "outputs": [
    {
     "data": {
      "text/plain": [
       "364"
      ]
     },
     "execution_count": 41,
     "metadata": {},
     "output_type": "execute_result"
    }
   ],
   "source": [
    "n = len(data1)\n",
    "n"
   ]
  },
  {
   "cell_type": "code",
   "execution_count": 42,
   "id": "southern-evidence",
   "metadata": {},
   "outputs": [],
   "source": [
    "for i in data1.index:\n",
    "    if i < n-1:\n",
    "        data3[i] = data1[i]-data1[i+1]\n",
    "    else :\n",
    "        data3[i] = data1[i]"
   ]
  },
  {
   "cell_type": "code",
   "execution_count": 43,
   "id": "latin-lighting",
   "metadata": {
    "scrolled": false
   },
   "outputs": [
    {
     "data": {
      "text/plain": [
       "0      1648\n",
       "1      1660\n",
       "2      1389\n",
       "3      1286\n",
       "4      1387\n",
       "       ... \n",
       "359     324\n",
       "360     423\n",
       "361     -16\n",
       "362     479\n",
       "363     613\n",
       "Length: 364, dtype: int64"
      ]
     },
     "execution_count": 43,
     "metadata": {},
     "output_type": "execute_result"
    }
   ],
   "source": [
    "data3"
   ]
  },
  {
   "cell_type": "code",
   "execution_count": 44,
   "id": "current-learning",
   "metadata": {},
   "outputs": [],
   "source": [
    "outlier = data3[data3<0]"
   ]
  },
  {
   "cell_type": "code",
   "execution_count": 45,
   "id": "invisible-vampire",
   "metadata": {},
   "outputs": [
    {
     "data": {
      "text/plain": [
       "Int64Index([44, 45, 361], dtype='int64')"
      ]
     },
     "execution_count": 45,
     "metadata": {},
     "output_type": "execute_result"
    }
   ],
   "source": [
    "outlier.index"
   ]
  },
  {
   "cell_type": "code",
   "execution_count": 46,
   "id": "earned-marker",
   "metadata": {},
   "outputs": [
    {
     "data": {
      "text/plain": [
       "0"
      ]
     },
     "execution_count": 46,
     "metadata": {},
     "output_type": "execute_result"
    }
   ],
   "source": [
    "len(data3[data3==0])"
   ]
  },
  {
   "cell_type": "markdown",
   "id": "confidential-index",
   "metadata": {},
   "source": [
    "음성판정(누계)에서 다음날로 넘어갔을 때 감소하는 날이 3일 존재한다.  \n",
    "2021-01-03 ~ 2021-01-05 & 2020-02-22 ~ 2020-02-23  \n",
    "1번인 경우 : 음성판정받은 사람 -> 갑자기 양성으로 변경  \n",
    "2번인 경우 : 오류로 그날 추가 음성판정자 수가 0인 경우 BUT, 모든 날에 걸쳐 0인 경우가 없다.  \n",
    "1번을 선택할 경우 모든 값들이 추가 확진자 수보다 크기 때문에 불가능하다.  \n",
    "즉, 0으로 구분  \n",
    "데이터 자체에서 그 전날의 값과 동일하게 변경 이후 다시 생성"
   ]
  },
  {
   "cell_type": "code",
   "execution_count": 47,
   "id": "together-physics",
   "metadata": {},
   "outputs": [],
   "source": [
    "data.total_negative[outlier.index[0]] = data.total_negative[outlier.index[1]+1]\n",
    "data.total_negative[outlier.index[1]] = data.total_negative[outlier.index[1]+1]"
   ]
  },
  {
   "cell_type": "code",
   "execution_count": 48,
   "id": "academic-monroe",
   "metadata": {},
   "outputs": [],
   "source": [
    "data.total_negative[outlier.index[2]] = data.total_negative[outlier.index[2]+1]"
   ]
  },
  {
   "cell_type": "code",
   "execution_count": 49,
   "id": "proved-retailer",
   "metadata": {},
   "outputs": [
    {
     "data": {
      "text/plain": [
       "0      331206\n",
       "1      329558\n",
       "2      327898\n",
       "3      326509\n",
       "4      325223\n",
       "        ...  \n",
       "359      1823\n",
       "360      1499\n",
       "361      1092\n",
       "362      1092\n",
       "363       613\n",
       "Name: total_negative, Length: 364, dtype: int64"
      ]
     },
     "execution_count": 49,
     "metadata": {},
     "output_type": "execute_result"
    }
   ],
   "source": [
    "data1 = data.total_negative\n",
    "data1"
   ]
  },
  {
   "cell_type": "code",
   "execution_count": 50,
   "id": "bacterial-shift",
   "metadata": {},
   "outputs": [
    {
     "data": {
      "text/plain": [
       "pandas.core.series.Series"
      ]
     },
     "execution_count": 50,
     "metadata": {},
     "output_type": "execute_result"
    }
   ],
   "source": [
    "data3 = []\n",
    "data3 = pd.Series(data3)\n",
    "type(data3)"
   ]
  },
  {
   "cell_type": "code",
   "execution_count": 51,
   "id": "bright-studio",
   "metadata": {},
   "outputs": [],
   "source": [
    "for i in data1.index:\n",
    "    if i < n-1:\n",
    "        data3[i] = data1[i]-data1[i+1]\n",
    "    else :\n",
    "        data3[i] = data1[i]"
   ]
  },
  {
   "cell_type": "code",
   "execution_count": 52,
   "id": "organic-monster",
   "metadata": {
    "scrolled": true
   },
   "outputs": [
    {
     "data": {
      "text/plain": [
       "0      1648\n",
       "1      1660\n",
       "2      1389\n",
       "3      1286\n",
       "4      1387\n",
       "       ... \n",
       "359     324\n",
       "360     407\n",
       "361       0\n",
       "362     479\n",
       "363     613\n",
       "Length: 364, dtype: int64"
      ]
     },
     "execution_count": 52,
     "metadata": {},
     "output_type": "execute_result"
    }
   ],
   "source": [
    "data3"
   ]
  },
  {
   "cell_type": "markdown",
   "id": "healthy-gospel",
   "metadata": {},
   "source": [
    "0으로 구분했지만 이상치라고 생각하며 분석!!!"
   ]
  },
  {
   "cell_type": "code",
   "execution_count": 53,
   "id": "round-outdoors",
   "metadata": {
    "scrolled": true
   },
   "outputs": [
    {
     "data": {
      "text/plain": [
       "Series([], dtype: int64)"
      ]
     },
     "execution_count": 53,
     "metadata": {},
     "output_type": "execute_result"
    }
   ],
   "source": [
    "data3[data3<0]"
   ]
  },
  {
   "cell_type": "markdown",
   "id": "chemical-supply",
   "metadata": {},
   "source": [
    " "
   ]
  },
  {
   "cell_type": "markdown",
   "id": "express-pride",
   "metadata": {},
   "source": [
    "##### diagnosed\n",
    "추가 확진자수와 검사결과 음성(추가)를 합한 인원의 수가 검사를 받은 사람의 수라고 생각   \n",
    "즉, 검사를 받은 인원수에 대한 변수 생성"
   ]
  },
  {
   "cell_type": "code",
   "execution_count": 54,
   "id": "suburban-invite",
   "metadata": {},
   "outputs": [
    {
     "data": {
      "text/plain": [
       "pandas.core.series.Series"
      ]
     },
     "execution_count": 54,
     "metadata": {},
     "output_type": "execute_result"
    }
   ],
   "source": [
    "data4 = []\n",
    "data4 = pd.Series(data4)\n",
    "type(data4)"
   ]
  },
  {
   "cell_type": "code",
   "execution_count": 55,
   "id": "treated-scoop",
   "metadata": {
    "scrolled": false
   },
   "outputs": [
    {
     "data": {
      "text/plain": [
       "364"
      ]
     },
     "execution_count": 55,
     "metadata": {},
     "output_type": "execute_result"
    }
   ],
   "source": [
    "n = len(data1)\n",
    "n"
   ]
  },
  {
   "cell_type": "code",
   "execution_count": 56,
   "id": "bizarre-monaco",
   "metadata": {},
   "outputs": [],
   "source": [
    "for i in data1.index:\n",
    "    data4[i] = data.new_coronic[i] + data3[i]"
   ]
  },
  {
   "cell_type": "code",
   "execution_count": 57,
   "id": "fiscal-worse",
   "metadata": {},
   "outputs": [
    {
     "data": {
      "text/plain": [
       "0      17\n",
       "1      26\n",
       "2      17\n",
       "3      19\n",
       "4      15\n",
       "       ..\n",
       "359    13\n",
       "360    22\n",
       "361    11\n",
       "362     3\n",
       "363     2\n",
       "Name: new_coronic, Length: 364, dtype: int64"
      ]
     },
     "execution_count": 57,
     "metadata": {},
     "output_type": "execute_result"
    }
   ],
   "source": [
    "data.new_coronic"
   ]
  },
  {
   "cell_type": "code",
   "execution_count": 58,
   "id": "remarkable-blink",
   "metadata": {},
   "outputs": [
    {
     "data": {
      "text/plain": [
       "Series([], dtype: int64)"
      ]
     },
     "execution_count": 58,
     "metadata": {},
     "output_type": "execute_result"
    }
   ],
   "source": [
    "data4[data4<0]"
   ]
  },
  {
   "cell_type": "code",
   "execution_count": 59,
   "id": "smart-belly",
   "metadata": {},
   "outputs": [
    {
     "data": {
      "text/plain": [
       "0      1665\n",
       "1      1686\n",
       "2      1406\n",
       "3      1305\n",
       "4      1402\n",
       "       ... \n",
       "359     337\n",
       "360     429\n",
       "361      11\n",
       "362     482\n",
       "363     615\n",
       "Length: 364, dtype: int64"
      ]
     },
     "execution_count": 59,
     "metadata": {},
     "output_type": "execute_result"
    }
   ],
   "source": [
    "data4"
   ]
  },
  {
   "cell_type": "markdown",
   "id": "british-language",
   "metadata": {},
   "source": [
    " "
   ]
  },
  {
   "cell_type": "markdown",
   "id": "selective-filename",
   "metadata": {},
   "source": [
    "##### new_released\n",
    "격리해제(누계)를 활용하여 격리해제(추가) 변수 생성"
   ]
  },
  {
   "cell_type": "code",
   "execution_count": 60,
   "id": "improving-passenger",
   "metadata": {},
   "outputs": [
    {
     "data": {
      "text/plain": [
       "0      101305\n",
       "1      100935\n",
       "2      100553\n",
       "3      100279\n",
       "4       99977\n",
       "        ...  \n",
       "359        21\n",
       "360        22\n",
       "361        15\n",
       "362        15\n",
       "363        15\n",
       "Name: total_released, Length: 364, dtype: int64"
      ]
     },
     "execution_count": 60,
     "metadata": {},
     "output_type": "execute_result"
    }
   ],
   "source": [
    "data1 = data.total_released\n",
    "data1"
   ]
  },
  {
   "cell_type": "code",
   "execution_count": 61,
   "id": "deadly-barbados",
   "metadata": {},
   "outputs": [
    {
     "data": {
      "text/plain": [
       "pandas.core.series.Series"
      ]
     },
     "execution_count": 61,
     "metadata": {},
     "output_type": "execute_result"
    }
   ],
   "source": [
    "type(data1)"
   ]
  },
  {
   "cell_type": "code",
   "execution_count": 62,
   "id": "guided-beach",
   "metadata": {},
   "outputs": [
    {
     "data": {
      "text/plain": [
       "pandas.core.series.Series"
      ]
     },
     "execution_count": 62,
     "metadata": {},
     "output_type": "execute_result"
    }
   ],
   "source": [
    "data5 = []\n",
    "data5 = pd.Series(data5)\n",
    "type(data5)"
   ]
  },
  {
   "cell_type": "code",
   "execution_count": 63,
   "id": "beneficial-blank",
   "metadata": {},
   "outputs": [
    {
     "data": {
      "text/plain": [
       "364"
      ]
     },
     "execution_count": 63,
     "metadata": {},
     "output_type": "execute_result"
    }
   ],
   "source": [
    "n = len(data1)\n",
    "n"
   ]
  },
  {
   "cell_type": "code",
   "execution_count": 64,
   "id": "seven-practitioner",
   "metadata": {},
   "outputs": [],
   "source": [
    "for i in data1.index:\n",
    "    if i < n-1:\n",
    "        data5[i] = data1[i]-data1[i+1]\n",
    "    else :\n",
    "        data5[i] = data1[i]"
   ]
  },
  {
   "cell_type": "code",
   "execution_count": 65,
   "id": "twenty-albany",
   "metadata": {},
   "outputs": [],
   "source": [
    "outlier2 = data5[data5<0]"
   ]
  },
  {
   "cell_type": "code",
   "execution_count": 66,
   "id": "valued-pastor",
   "metadata": {},
   "outputs": [
    {
     "data": {
      "text/plain": [
       "Int64Index([359], dtype='int64')"
      ]
     },
     "execution_count": 66,
     "metadata": {},
     "output_type": "execute_result"
    }
   ],
   "source": [
    "outlier2.index"
   ]
  },
  {
   "cell_type": "markdown",
   "id": "coordinated-allergy",
   "metadata": {},
   "source": [
    "총 352개의 값 중에 1개의 음수 값이 존재합니다.  \n",
    "누계에서 음수값이 존재함은 불가능하기 때문에 0으로 변경!!  \n",
    "또한 0으로 변경 시 그 다음날의 값 또한 영향을 받으므로 변경!!"
   ]
  },
  {
   "cell_type": "code",
   "execution_count": 67,
   "id": "canadian-newport",
   "metadata": {},
   "outputs": [],
   "source": [
    "data5[outlier2.index] = 0\n",
    "data5[outlier2.index-1] = 3"
   ]
  },
  {
   "cell_type": "code",
   "execution_count": 68,
   "id": "minor-retailer",
   "metadata": {},
   "outputs": [
    {
     "data": {
      "text/plain": [
       "354      2\n",
       "355    287\n",
       "356     97\n",
       "357     31\n",
       "358      3\n",
       "359      0\n",
       "360      7\n",
       "361      0\n",
       "362      0\n",
       "363     15\n",
       "dtype: int64"
      ]
     },
     "execution_count": 68,
     "metadata": {},
     "output_type": "execute_result"
    }
   ],
   "source": [
    "data5.tail(10)"
   ]
  },
  {
   "cell_type": "code",
   "execution_count": 69,
   "id": "strange-surveillance",
   "metadata": {},
   "outputs": [
    {
     "data": {
      "text/plain": [
       "Series([], dtype: int64)"
      ]
     },
     "execution_count": 69,
     "metadata": {},
     "output_type": "execute_result"
    }
   ],
   "source": [
    "data5[data5<0]"
   ]
  },
  {
   "cell_type": "code",
   "execution_count": 70,
   "id": "funky-thanksgiving",
   "metadata": {},
   "outputs": [],
   "source": [
    "# 원 데이터에서도 변경해주자.\n",
    "data.total_released[outlier2.index] = 22"
   ]
  },
  {
   "cell_type": "markdown",
   "id": "unavailable-nightmare",
   "metadata": {},
   "source": [
    "#### 위의 4개의 변수를 원데이터에 합쳐 새로운 데이터를 생성"
   ]
  },
  {
   "cell_type": "code",
   "execution_count": 71,
   "id": "acknowledged-forth",
   "metadata": {},
   "outputs": [],
   "source": [
    "data = pd.concat([data[['date', 'day', 'total_coronic', 'new_coronic', 'total_be_cured']],data2,\n",
    "                 data[['deceased']], data6, data[['total_negative']], data3, data4,\n",
    "                 data[['isolated', 'total_released']], data5], axis=1)"
   ]
  },
  {
   "cell_type": "code",
   "execution_count": 72,
   "id": "cognitive-focus",
   "metadata": {},
   "outputs": [],
   "source": [
    "data.columns = ['date', 'day', 'total_coronic', 'new_coronic', 'total_be_cured', 'new_be_cured', 'deceased', 'new_deceased', \n",
    "                'total_negative', 'new_negative', 'diagnosed', 'isolated', 'total_released', 'new_released']"
   ]
  },
  {
   "cell_type": "code",
   "execution_count": 73,
   "id": "southern-verse",
   "metadata": {},
   "outputs": [
    {
     "data": {
      "text/plain": [
       "date              object\n",
       "day               object\n",
       "total_coronic      int64\n",
       "new_coronic        int64\n",
       "total_be_cured     int64\n",
       "new_be_cured       int64\n",
       "deceased           int64\n",
       "new_deceased       int64\n",
       "total_negative     int64\n",
       "new_negative       int64\n",
       "diagnosed          int64\n",
       "isolated           int64\n",
       "total_released     int64\n",
       "new_released       int64\n",
       "dtype: object"
      ]
     },
     "execution_count": 73,
     "metadata": {},
     "output_type": "execute_result"
    }
   ],
   "source": [
    "data.dtypes"
   ]
  },
  {
   "cell_type": "markdown",
   "id": "lonely-phoenix",
   "metadata": {},
   "source": [
    "# 5. Variable Description\n",
    "\n",
    "<br>"
   ]
  },
  {
   "cell_type": "code",
   "execution_count": 74,
   "id": "fleet-accident",
   "metadata": {
    "scrolled": true
   },
   "outputs": [
    {
     "data": {
      "text/html": [
       "<div>\n",
       "<style scoped>\n",
       "    .dataframe tbody tr th:only-of-type {\n",
       "        vertical-align: middle;\n",
       "    }\n",
       "\n",
       "    .dataframe tbody tr th {\n",
       "        vertical-align: top;\n",
       "    }\n",
       "\n",
       "    .dataframe thead th {\n",
       "        text-align: right;\n",
       "    }\n",
       "</style>\n",
       "<table border=\"1\" class=\"dataframe\">\n",
       "  <thead>\n",
       "    <tr style=\"text-align: right;\">\n",
       "      <th></th>\n",
       "      <th>date</th>\n",
       "      <th>day</th>\n",
       "      <th>total_coronic</th>\n",
       "      <th>new_coronic</th>\n",
       "      <th>total_be_cured</th>\n",
       "      <th>new_be_cured</th>\n",
       "      <th>deceased</th>\n",
       "      <th>new_deceased</th>\n",
       "      <th>total_negative</th>\n",
       "      <th>new_negative</th>\n",
       "      <th>diagnosed</th>\n",
       "      <th>isolated</th>\n",
       "      <th>total_released</th>\n",
       "      <th>new_released</th>\n",
       "    </tr>\n",
       "  </thead>\n",
       "  <tbody>\n",
       "    <tr>\n",
       "      <th>0</th>\n",
       "      <td>2021-02-18</td>\n",
       "      <td>목</td>\n",
       "      <td>3108</td>\n",
       "      <td>17</td>\n",
       "      <td>2674</td>\n",
       "      <td>20</td>\n",
       "      <td>102</td>\n",
       "      <td>1</td>\n",
       "      <td>331206</td>\n",
       "      <td>1648</td>\n",
       "      <td>1665</td>\n",
       "      <td>5611</td>\n",
       "      <td>101305</td>\n",
       "      <td>370</td>\n",
       "    </tr>\n",
       "    <tr>\n",
       "      <th>1</th>\n",
       "      <td>2021-02-17</td>\n",
       "      <td>수</td>\n",
       "      <td>3091</td>\n",
       "      <td>26</td>\n",
       "      <td>2654</td>\n",
       "      <td>24</td>\n",
       "      <td>101</td>\n",
       "      <td>0</td>\n",
       "      <td>329558</td>\n",
       "      <td>1660</td>\n",
       "      <td>1686</td>\n",
       "      <td>5484</td>\n",
       "      <td>100935</td>\n",
       "      <td>382</td>\n",
       "    </tr>\n",
       "    <tr>\n",
       "      <th>2</th>\n",
       "      <td>2021-02-16</td>\n",
       "      <td>화</td>\n",
       "      <td>3065</td>\n",
       "      <td>17</td>\n",
       "      <td>2630</td>\n",
       "      <td>18</td>\n",
       "      <td>101</td>\n",
       "      <td>0</td>\n",
       "      <td>327898</td>\n",
       "      <td>1389</td>\n",
       "      <td>1406</td>\n",
       "      <td>5476</td>\n",
       "      <td>100553</td>\n",
       "      <td>274</td>\n",
       "    </tr>\n",
       "    <tr>\n",
       "      <th>3</th>\n",
       "      <td>2021-02-15</td>\n",
       "      <td>월</td>\n",
       "      <td>3048</td>\n",
       "      <td>19</td>\n",
       "      <td>2612</td>\n",
       "      <td>22</td>\n",
       "      <td>101</td>\n",
       "      <td>0</td>\n",
       "      <td>326509</td>\n",
       "      <td>1286</td>\n",
       "      <td>1305</td>\n",
       "      <td>5470</td>\n",
       "      <td>100279</td>\n",
       "      <td>302</td>\n",
       "    </tr>\n",
       "    <tr>\n",
       "      <th>4</th>\n",
       "      <td>2021-02-14</td>\n",
       "      <td>일</td>\n",
       "      <td>3029</td>\n",
       "      <td>15</td>\n",
       "      <td>2590</td>\n",
       "      <td>11</td>\n",
       "      <td>101</td>\n",
       "      <td>1</td>\n",
       "      <td>325223</td>\n",
       "      <td>1387</td>\n",
       "      <td>1402</td>\n",
       "      <td>5456</td>\n",
       "      <td>99977</td>\n",
       "      <td>464</td>\n",
       "    </tr>\n",
       "    <tr>\n",
       "      <th>...</th>\n",
       "      <td>...</td>\n",
       "      <td>...</td>\n",
       "      <td>...</td>\n",
       "      <td>...</td>\n",
       "      <td>...</td>\n",
       "      <td>...</td>\n",
       "      <td>...</td>\n",
       "      <td>...</td>\n",
       "      <td>...</td>\n",
       "      <td>...</td>\n",
       "      <td>...</td>\n",
       "      <td>...</td>\n",
       "      <td>...</td>\n",
       "      <td>...</td>\n",
       "    </tr>\n",
       "    <tr>\n",
       "      <th>359</th>\n",
       "      <td>2020-02-25</td>\n",
       "      <td>화</td>\n",
       "      <td>51</td>\n",
       "      <td>13</td>\n",
       "      <td>0</td>\n",
       "      <td>0</td>\n",
       "      <td>0</td>\n",
       "      <td>0</td>\n",
       "      <td>1823</td>\n",
       "      <td>324</td>\n",
       "      <td>337</td>\n",
       "      <td>618</td>\n",
       "      <td>22</td>\n",
       "      <td>0</td>\n",
       "    </tr>\n",
       "    <tr>\n",
       "      <th>360</th>\n",
       "      <td>2020-02-24</td>\n",
       "      <td>월</td>\n",
       "      <td>38</td>\n",
       "      <td>22</td>\n",
       "      <td>0</td>\n",
       "      <td>0</td>\n",
       "      <td>0</td>\n",
       "      <td>0</td>\n",
       "      <td>1499</td>\n",
       "      <td>407</td>\n",
       "      <td>429</td>\n",
       "      <td>263</td>\n",
       "      <td>22</td>\n",
       "      <td>7</td>\n",
       "    </tr>\n",
       "    <tr>\n",
       "      <th>361</th>\n",
       "      <td>2020-02-23</td>\n",
       "      <td>일</td>\n",
       "      <td>16</td>\n",
       "      <td>11</td>\n",
       "      <td>0</td>\n",
       "      <td>0</td>\n",
       "      <td>0</td>\n",
       "      <td>0</td>\n",
       "      <td>1092</td>\n",
       "      <td>0</td>\n",
       "      <td>11</td>\n",
       "      <td>145</td>\n",
       "      <td>15</td>\n",
       "      <td>0</td>\n",
       "    </tr>\n",
       "    <tr>\n",
       "      <th>362</th>\n",
       "      <td>2020-02-22</td>\n",
       "      <td>토</td>\n",
       "      <td>5</td>\n",
       "      <td>3</td>\n",
       "      <td>0</td>\n",
       "      <td>0</td>\n",
       "      <td>0</td>\n",
       "      <td>0</td>\n",
       "      <td>1092</td>\n",
       "      <td>479</td>\n",
       "      <td>482</td>\n",
       "      <td>115</td>\n",
       "      <td>15</td>\n",
       "      <td>0</td>\n",
       "    </tr>\n",
       "    <tr>\n",
       "      <th>363</th>\n",
       "      <td>2020-02-21</td>\n",
       "      <td>금</td>\n",
       "      <td>2</td>\n",
       "      <td>2</td>\n",
       "      <td>0</td>\n",
       "      <td>0</td>\n",
       "      <td>0</td>\n",
       "      <td>0</td>\n",
       "      <td>613</td>\n",
       "      <td>613</td>\n",
       "      <td>615</td>\n",
       "      <td>15</td>\n",
       "      <td>15</td>\n",
       "      <td>15</td>\n",
       "    </tr>\n",
       "  </tbody>\n",
       "</table>\n",
       "<p>364 rows × 14 columns</p>\n",
       "</div>"
      ],
      "text/plain": [
       "           date day  total_coronic  new_coronic  total_be_cured  new_be_cured  \\\n",
       "0    2021-02-18   목           3108           17            2674            20   \n",
       "1    2021-02-17   수           3091           26            2654            24   \n",
       "2    2021-02-16   화           3065           17            2630            18   \n",
       "3    2021-02-15   월           3048           19            2612            22   \n",
       "4    2021-02-14   일           3029           15            2590            11   \n",
       "..          ...  ..            ...          ...             ...           ...   \n",
       "359  2020-02-25   화             51           13               0             0   \n",
       "360  2020-02-24   월             38           22               0             0   \n",
       "361  2020-02-23   일             16           11               0             0   \n",
       "362  2020-02-22   토              5            3               0             0   \n",
       "363  2020-02-21   금              2            2               0             0   \n",
       "\n",
       "     deceased  new_deceased  total_negative  new_negative  diagnosed  \\\n",
       "0         102             1          331206          1648       1665   \n",
       "1         101             0          329558          1660       1686   \n",
       "2         101             0          327898          1389       1406   \n",
       "3         101             0          326509          1286       1305   \n",
       "4         101             1          325223          1387       1402   \n",
       "..        ...           ...             ...           ...        ...   \n",
       "359         0             0            1823           324        337   \n",
       "360         0             0            1499           407        429   \n",
       "361         0             0            1092             0         11   \n",
       "362         0             0            1092           479        482   \n",
       "363         0             0             613           613        615   \n",
       "\n",
       "     isolated  total_released  new_released  \n",
       "0        5611          101305           370  \n",
       "1        5484          100935           382  \n",
       "2        5476          100553           274  \n",
       "3        5470          100279           302  \n",
       "4        5456           99977           464  \n",
       "..        ...             ...           ...  \n",
       "359       618              22             0  \n",
       "360       263              22             7  \n",
       "361       145              15             0  \n",
       "362       115              15             0  \n",
       "363        15              15            15  \n",
       "\n",
       "[364 rows x 14 columns]"
      ]
     },
     "execution_count": 74,
     "metadata": {},
     "output_type": "execute_result"
    }
   ],
   "source": [
    "data"
   ]
  },
  {
   "cell_type": "code",
   "execution_count": 75,
   "id": "weighted-blast",
   "metadata": {
    "scrolled": true
   },
   "outputs": [
    {
     "data": {
      "text/html": [
       "<div>\n",
       "<style scoped>\n",
       "    .dataframe tbody tr th:only-of-type {\n",
       "        vertical-align: middle;\n",
       "    }\n",
       "\n",
       "    .dataframe tbody tr th {\n",
       "        vertical-align: top;\n",
       "    }\n",
       "\n",
       "    .dataframe thead th {\n",
       "        text-align: right;\n",
       "    }\n",
       "</style>\n",
       "<table border=\"1\" class=\"dataframe\">\n",
       "  <thead>\n",
       "    <tr style=\"text-align: right;\">\n",
       "      <th></th>\n",
       "      <th>total_coronic</th>\n",
       "      <th>new_coronic</th>\n",
       "      <th>total_be_cured</th>\n",
       "      <th>new_be_cured</th>\n",
       "      <th>deceased</th>\n",
       "      <th>new_deceased</th>\n",
       "      <th>total_negative</th>\n",
       "      <th>new_negative</th>\n",
       "      <th>diagnosed</th>\n",
       "      <th>isolated</th>\n",
       "      <th>total_released</th>\n",
       "      <th>new_released</th>\n",
       "    </tr>\n",
       "  </thead>\n",
       "  <tbody>\n",
       "    <tr>\n",
       "      <th>count</th>\n",
       "      <td>364.000000</td>\n",
       "      <td>364.000000</td>\n",
       "      <td>364.000000</td>\n",
       "      <td>364.000000</td>\n",
       "      <td>364.000000</td>\n",
       "      <td>364.000000</td>\n",
       "      <td>364.000000</td>\n",
       "      <td>364.000000</td>\n",
       "      <td>364.000000</td>\n",
       "      <td>364.000000</td>\n",
       "      <td>364.000000</td>\n",
       "      <td>364.00000</td>\n",
       "    </tr>\n",
       "    <tr>\n",
       "      <th>mean</th>\n",
       "      <td>664.244505</td>\n",
       "      <td>8.538462</td>\n",
       "      <td>525.868132</td>\n",
       "      <td>7.346154</td>\n",
       "      <td>17.109890</td>\n",
       "      <td>0.280220</td>\n",
       "      <td>112968.903846</td>\n",
       "      <td>909.906593</td>\n",
       "      <td>918.445055</td>\n",
       "      <td>3462.134615</td>\n",
       "      <td>37807.241758</td>\n",
       "      <td>278.31044</td>\n",
       "    </tr>\n",
       "    <tr>\n",
       "      <th>std</th>\n",
       "      <td>843.034077</td>\n",
       "      <td>13.476892</td>\n",
       "      <td>679.828518</td>\n",
       "      <td>11.604168</td>\n",
       "      <td>28.652646</td>\n",
       "      <td>0.737462</td>\n",
       "      <td>88237.839224</td>\n",
       "      <td>835.731459</td>\n",
       "      <td>843.493584</td>\n",
       "      <td>1805.060592</td>\n",
       "      <td>28826.322347</td>\n",
       "      <td>203.97430</td>\n",
       "    </tr>\n",
       "    <tr>\n",
       "      <th>min</th>\n",
       "      <td>2.000000</td>\n",
       "      <td>0.000000</td>\n",
       "      <td>0.000000</td>\n",
       "      <td>0.000000</td>\n",
       "      <td>0.000000</td>\n",
       "      <td>0.000000</td>\n",
       "      <td>613.000000</td>\n",
       "      <td>0.000000</td>\n",
       "      <td>11.000000</td>\n",
       "      <td>15.000000</td>\n",
       "      <td>15.000000</td>\n",
       "      <td>0.00000</td>\n",
       "    </tr>\n",
       "    <tr>\n",
       "      <th>25%</th>\n",
       "      <td>141.000000</td>\n",
       "      <td>0.000000</td>\n",
       "      <td>128.000000</td>\n",
       "      <td>0.000000</td>\n",
       "      <td>3.000000</td>\n",
       "      <td>0.000000</td>\n",
       "      <td>40914.500000</td>\n",
       "      <td>412.500000</td>\n",
       "      <td>414.000000</td>\n",
       "      <td>2464.250000</td>\n",
       "      <td>13018.250000</td>\n",
       "      <td>148.75000</td>\n",
       "    </tr>\n",
       "    <tr>\n",
       "      <th>50%</th>\n",
       "      <td>249.000000</td>\n",
       "      <td>2.000000</td>\n",
       "      <td>165.500000</td>\n",
       "      <td>2.000000</td>\n",
       "      <td>3.000000</td>\n",
       "      <td>0.000000</td>\n",
       "      <td>87532.500000</td>\n",
       "      <td>557.500000</td>\n",
       "      <td>562.500000</td>\n",
       "      <td>3074.000000</td>\n",
       "      <td>32423.000000</td>\n",
       "      <td>228.50000</td>\n",
       "    </tr>\n",
       "    <tr>\n",
       "      <th>75%</th>\n",
       "      <td>619.500000</td>\n",
       "      <td>11.000000</td>\n",
       "      <td>572.750000</td>\n",
       "      <td>8.000000</td>\n",
       "      <td>15.000000</td>\n",
       "      <td>0.000000</td>\n",
       "      <td>165153.750000</td>\n",
       "      <td>1092.750000</td>\n",
       "      <td>1107.250000</td>\n",
       "      <td>3989.000000</td>\n",
       "      <td>55643.000000</td>\n",
       "      <td>360.50000</td>\n",
       "    </tr>\n",
       "    <tr>\n",
       "      <th>max</th>\n",
       "      <td>3108.000000</td>\n",
       "      <td>82.000000</td>\n",
       "      <td>2674.000000</td>\n",
       "      <td>67.000000</td>\n",
       "      <td>102.000000</td>\n",
       "      <td>4.000000</td>\n",
       "      <td>331206.000000</td>\n",
       "      <td>4883.000000</td>\n",
       "      <td>4894.000000</td>\n",
       "      <td>8681.000000</td>\n",
       "      <td>101305.000000</td>\n",
       "      <td>1271.00000</td>\n",
       "    </tr>\n",
       "  </tbody>\n",
       "</table>\n",
       "</div>"
      ],
      "text/plain": [
       "       total_coronic  new_coronic  total_be_cured  new_be_cured    deceased  \\\n",
       "count     364.000000   364.000000      364.000000    364.000000  364.000000   \n",
       "mean      664.244505     8.538462      525.868132      7.346154   17.109890   \n",
       "std       843.034077    13.476892      679.828518     11.604168   28.652646   \n",
       "min         2.000000     0.000000        0.000000      0.000000    0.000000   \n",
       "25%       141.000000     0.000000      128.000000      0.000000    3.000000   \n",
       "50%       249.000000     2.000000      165.500000      2.000000    3.000000   \n",
       "75%       619.500000    11.000000      572.750000      8.000000   15.000000   \n",
       "max      3108.000000    82.000000     2674.000000     67.000000  102.000000   \n",
       "\n",
       "       new_deceased  total_negative  new_negative    diagnosed     isolated  \\\n",
       "count    364.000000      364.000000    364.000000   364.000000   364.000000   \n",
       "mean       0.280220   112968.903846    909.906593   918.445055  3462.134615   \n",
       "std        0.737462    88237.839224    835.731459   843.493584  1805.060592   \n",
       "min        0.000000      613.000000      0.000000    11.000000    15.000000   \n",
       "25%        0.000000    40914.500000    412.500000   414.000000  2464.250000   \n",
       "50%        0.000000    87532.500000    557.500000   562.500000  3074.000000   \n",
       "75%        0.000000   165153.750000   1092.750000  1107.250000  3989.000000   \n",
       "max        4.000000   331206.000000   4883.000000  4894.000000  8681.000000   \n",
       "\n",
       "       total_released  new_released  \n",
       "count      364.000000     364.00000  \n",
       "mean     37807.241758     278.31044  \n",
       "std      28826.322347     203.97430  \n",
       "min         15.000000       0.00000  \n",
       "25%      13018.250000     148.75000  \n",
       "50%      32423.000000     228.50000  \n",
       "75%      55643.000000     360.50000  \n",
       "max     101305.000000    1271.00000  "
      ]
     },
     "execution_count": 75,
     "metadata": {},
     "output_type": "execute_result"
    }
   ],
   "source": [
    "data.describe()"
   ]
  },
  {
   "cell_type": "code",
   "execution_count": 76,
   "id": "packed-uzbekistan",
   "metadata": {},
   "outputs": [
    {
     "data": {
      "text/plain": [
       "date              object\n",
       "day               object\n",
       "total_coronic      int64\n",
       "new_coronic        int64\n",
       "total_be_cured     int64\n",
       "new_be_cured       int64\n",
       "deceased           int64\n",
       "new_deceased       int64\n",
       "total_negative     int64\n",
       "new_negative       int64\n",
       "diagnosed          int64\n",
       "isolated           int64\n",
       "total_released     int64\n",
       "new_released       int64\n",
       "dtype: object"
      ]
     },
     "execution_count": 76,
     "metadata": {},
     "output_type": "execute_result"
    }
   ],
   "source": [
    "data.dtypes"
   ]
  },
  {
   "cell_type": "code",
   "execution_count": 77,
   "id": "transsexual-forge",
   "metadata": {},
   "outputs": [
    {
     "data": {
      "text/plain": [
       "(364, 14)"
      ]
     },
     "execution_count": 77,
     "metadata": {},
     "output_type": "execute_result"
    }
   ],
   "source": [
    "data.shape"
   ]
  },
  {
   "cell_type": "markdown",
   "id": "suspended-theater",
   "metadata": {},
   "source": [
    "### 총 14개의 Variable과 2020년 2월 21일부터 오늘 날짜까지의 일 수 만큼의  Observation으로 구성된 데이터 프레임\n",
    "\n",
    "**date : 날짜**  \n",
    "2020년 2월 21일부터 2021년 2월 6일까지 총 352일의 자료로 구성되어 있습니다.\n",
    "<br>\n",
    "\n",
    "**day : 요일**  \n",
    "총 352일간의 요일을 나타내고 있습니다.\n",
    "<br>\n",
    "\n",
    "**total_coronic : 확진자수(누계)**  \n",
    "2020년 2월 21일부터 시작해서 매일 매일 코로나 확진자 수의 총합\n",
    "<br>\n",
    "\n",
    "**new_coronic : 확진자수(신규)**  \n",
    "매일 추가로 확진 판정받은 확진자 수\n",
    "<br>\n",
    "\n",
    "**total_be_cured : 완치자수(누계)**  \n",
    "2020년 2월 21일부터 시작해서 매일 매일 코로나 완치자 수의 총합\n",
    "<br>\n",
    "\n",
    "**new_be_cured : 완치자수(추가)**  \n",
    "매일 추가로 완치 판정받은 완치자 수\n",
    "<br>\n",
    "\n",
    "**deceased : 사망자수(누계)**  \n",
    "현재까지 코로나로 인해 사망한 사람 수의 총합\n",
    "<br>\n",
    "\n",
    "**new_deceased : 사망자수(추가)**  \n",
    "매일 추가로 사망한 확진자의 수\n",
    "<br>\n",
    "\n",
    "**total_negative : 검사결과 음성(누계)**  \n",
    "2020년 2월 21일부터 코로나 검사결과 양성이 아닌 음성 판정을 받은 사람 수의 총합\n",
    "<br>\n",
    "\n",
    "**new_negative : 검사결과 음성(추가)**  \n",
    "매일 코로나 검사결과 음성 판정을 받은 인원 수  \n",
    "총 3개의 `Outlier`가 존재한다. 즉, 이 부분을 제대로 파악해서 분석에 활용할 것!!\n",
    "<br>\n",
    "\n",
    "**dianosed : 코로나 검사를 받은 인원수**  \n",
    "추가 확진자수와 음성판정받은 사람수의 합\n",
    "<br>\n",
    "\n",
    "**isolated : 격리중인 인원수**  \n",
    "코로나 확진자와 밀접한 접촉자로 판단되어 격리 중인 인원의 수\n",
    "<br>\n",
    "\n",
    "**total_released : 격리해제 인원수(누계)**  \n",
    "격리 기간 이후 음성 판정으로 인해 격리가 해제된 사람 수의 총합\n",
    "<br>\n",
    "\n",
    "**new_released : 격리해제 인원수(추가)**  \n",
    "격리 기간을 거쳐 격리 해제된 인원의 수\n",
    "\n",
    "<br>\n",
    "<br>"
   ]
  },
  {
   "cell_type": "code",
   "execution_count": 78,
   "id": "regional-egyptian",
   "metadata": {},
   "outputs": [],
   "source": [
    "data.to_csv(\"Busan_Covid-19.csv\", index=False)"
   ]
  }
 ],
 "metadata": {
  "kernelspec": {
   "display_name": "Python 3",
   "language": "python",
   "name": "python3"
  },
  "language_info": {
   "codemirror_mode": {
    "name": "ipython",
    "version": 3
   },
   "file_extension": ".py",
   "mimetype": "text/x-python",
   "name": "python",
   "nbconvert_exporter": "python",
   "pygments_lexer": "ipython3",
   "version": "3.8.7"
  }
 },
 "nbformat": 4,
 "nbformat_minor": 5
}
