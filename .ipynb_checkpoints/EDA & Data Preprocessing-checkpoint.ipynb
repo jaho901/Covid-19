{
 "cells": [
  {
   "cell_type": "markdown",
   "id": "lonely-phoenix",
   "metadata": {},
   "source": [
    "# 2. Variable Description\n",
    "<br>"
   ]
  },
  {
   "cell_type": "code",
   "execution_count": 1,
   "id": "bulgarian-canyon",
   "metadata": {},
   "outputs": [],
   "source": [
    "import numpy as np\n",
    "import pandas as pd"
   ]
  },
  {
   "cell_type": "code",
   "execution_count": 2,
   "id": "judicial-aspect",
   "metadata": {},
   "outputs": [],
   "source": [
    "import warnings\n",
    "\n",
    "warnings.filterwarnings(action='ignore')\n",
    "#  warnings.filterwarnings(action='default')"
   ]
  },
  {
   "cell_type": "code",
   "execution_count": 3,
   "id": "therapeutic-accounting",
   "metadata": {},
   "outputs": [],
   "source": [
    "data = pd.read_csv(\"Busan_Covid-19.csv\")"
   ]
  },
  {
   "cell_type": "code",
   "execution_count": 4,
   "id": "lasting-synthesis",
   "metadata": {},
   "outputs": [
    {
     "name": "stdout",
     "output_type": "stream",
     "text": [
      "(352, 9)\n",
      "<class 'pandas.core.frame.DataFrame'>\n",
      "RangeIndex: 352 entries, 0 to 351\n",
      "Data columns (total 9 columns):\n",
      " #   Column                    Non-Null Count  Dtype \n",
      "---  ------                    --------------  ----- \n",
      " 0   date                      352 non-null    object\n",
      " 1   day                       352 non-null    object\n",
      " 2   total_coronic             352 non-null    object\n",
      " 3   new_coronic               352 non-null    int64 \n",
      " 4   total_be_cured            352 non-null    object\n",
      " 5   total_deceased            352 non-null    int64 \n",
      " 6   negative_result           352 non-null    object\n",
      " 7   isolated                  352 non-null    object\n",
      " 8   released_from_quarantine  352 non-null    object\n",
      "dtypes: int64(2), object(7)\n",
      "memory usage: 24.9+ KB\n"
     ]
    }
   ],
   "source": [
    "print(data.shape)\n",
    "data.info()"
   ]
  },
  {
   "cell_type": "markdown",
   "id": "suspended-theater",
   "metadata": {},
   "source": [
    "### 총 9개의 Variable과 351개의 Observation으로 구성된 데이터 프레임\n",
    "\n",
    "**date : 날짜**  \n",
    "\n",
    "**day : 주차**\n",
    "\n",
    "**total_coronic : 확진자수(누계)**\n",
    "\n",
    "**new_coronic : 확진자수(신규)**\n",
    "\n",
    "**total_be_cured : 완치자수(누계)**\n",
    "\n",
    "**total_deceased : 사망자수(누계)**\n",
    "\n",
    "**negative_result : 검사결과 음성(누계)**\n",
    "\n",
    "**isolated : 격리중인 인원수**\n",
    "\n",
    "**released_from_quarantine : 격리해제 인원수(누계)**\n",
    "\n",
    "<br>"
   ]
  },
  {
   "cell_type": "code",
   "execution_count": 5,
   "id": "fleet-accident",
   "metadata": {},
   "outputs": [
    {
     "data": {
      "text/html": [
       "<div>\n",
       "<style scoped>\n",
       "    .dataframe tbody tr th:only-of-type {\n",
       "        vertical-align: middle;\n",
       "    }\n",
       "\n",
       "    .dataframe tbody tr th {\n",
       "        vertical-align: top;\n",
       "    }\n",
       "\n",
       "    .dataframe thead th {\n",
       "        text-align: right;\n",
       "    }\n",
       "</style>\n",
       "<table border=\"1\" class=\"dataframe\">\n",
       "  <thead>\n",
       "    <tr style=\"text-align: right;\">\n",
       "      <th></th>\n",
       "      <th>date</th>\n",
       "      <th>day</th>\n",
       "      <th>total_coronic</th>\n",
       "      <th>new_coronic</th>\n",
       "      <th>total_be_cured</th>\n",
       "      <th>total_deceased</th>\n",
       "      <th>negative_result</th>\n",
       "      <th>isolated</th>\n",
       "      <th>released_from_quarantine</th>\n",
       "    </tr>\n",
       "  </thead>\n",
       "  <tbody>\n",
       "    <tr>\n",
       "      <th>0</th>\n",
       "      <td>2021-02-06</td>\n",
       "      <td>토</td>\n",
       "      <td>2,870</td>\n",
       "      <td>2</td>\n",
       "      <td>2,409</td>\n",
       "      <td>96</td>\n",
       "      <td>312,706</td>\n",
       "      <td>5,281</td>\n",
       "      <td>96,416</td>\n",
       "    </tr>\n",
       "    <tr>\n",
       "      <th>1</th>\n",
       "      <td>2021-02-05</td>\n",
       "      <td>금</td>\n",
       "      <td>2,868</td>\n",
       "      <td>15</td>\n",
       "      <td>2,409</td>\n",
       "      <td>96</td>\n",
       "      <td>310,850</td>\n",
       "      <td>5,275</td>\n",
       "      <td>95,983</td>\n",
       "    </tr>\n",
       "    <tr>\n",
       "      <th>2</th>\n",
       "      <td>2021-02-04</td>\n",
       "      <td>목</td>\n",
       "      <td>2,853</td>\n",
       "      <td>34</td>\n",
       "      <td>2,386</td>\n",
       "      <td>96</td>\n",
       "      <td>308,964</td>\n",
       "      <td>5,289</td>\n",
       "      <td>95,570</td>\n",
       "    </tr>\n",
       "    <tr>\n",
       "      <th>3</th>\n",
       "      <td>2021-02-03</td>\n",
       "      <td>수</td>\n",
       "      <td>2,819</td>\n",
       "      <td>24</td>\n",
       "      <td>2,366</td>\n",
       "      <td>95</td>\n",
       "      <td>306,300</td>\n",
       "      <td>5,273</td>\n",
       "      <td>95,246</td>\n",
       "    </tr>\n",
       "    <tr>\n",
       "      <th>4</th>\n",
       "      <td>2021-02-02</td>\n",
       "      <td>화</td>\n",
       "      <td>2,795</td>\n",
       "      <td>21</td>\n",
       "      <td>2,339</td>\n",
       "      <td>94</td>\n",
       "      <td>304,772</td>\n",
       "      <td>5,269</td>\n",
       "      <td>94,753</td>\n",
       "    </tr>\n",
       "    <tr>\n",
       "      <th>...</th>\n",
       "      <td>...</td>\n",
       "      <td>...</td>\n",
       "      <td>...</td>\n",
       "      <td>...</td>\n",
       "      <td>...</td>\n",
       "      <td>...</td>\n",
       "      <td>...</td>\n",
       "      <td>...</td>\n",
       "      <td>...</td>\n",
       "    </tr>\n",
       "    <tr>\n",
       "      <th>347</th>\n",
       "      <td>2020-02-25</td>\n",
       "      <td>화</td>\n",
       "      <td>51</td>\n",
       "      <td>13</td>\n",
       "      <td>0</td>\n",
       "      <td>0</td>\n",
       "      <td>1,823</td>\n",
       "      <td>618</td>\n",
       "      <td>21</td>\n",
       "    </tr>\n",
       "    <tr>\n",
       "      <th>348</th>\n",
       "      <td>2020-02-24</td>\n",
       "      <td>월</td>\n",
       "      <td>38</td>\n",
       "      <td>22</td>\n",
       "      <td>0</td>\n",
       "      <td>0</td>\n",
       "      <td>1,499</td>\n",
       "      <td>263</td>\n",
       "      <td>22</td>\n",
       "    </tr>\n",
       "    <tr>\n",
       "      <th>349</th>\n",
       "      <td>2020-02-23</td>\n",
       "      <td>일</td>\n",
       "      <td>16</td>\n",
       "      <td>11</td>\n",
       "      <td>0</td>\n",
       "      <td>0</td>\n",
       "      <td>1,076</td>\n",
       "      <td>145</td>\n",
       "      <td>15</td>\n",
       "    </tr>\n",
       "    <tr>\n",
       "      <th>350</th>\n",
       "      <td>2020-02-22</td>\n",
       "      <td>토</td>\n",
       "      <td>5</td>\n",
       "      <td>3</td>\n",
       "      <td>0</td>\n",
       "      <td>0</td>\n",
       "      <td>1,092</td>\n",
       "      <td>115</td>\n",
       "      <td>15</td>\n",
       "    </tr>\n",
       "    <tr>\n",
       "      <th>351</th>\n",
       "      <td>2020-02-21</td>\n",
       "      <td>금</td>\n",
       "      <td>2</td>\n",
       "      <td>2</td>\n",
       "      <td>0</td>\n",
       "      <td>0</td>\n",
       "      <td>613</td>\n",
       "      <td>15</td>\n",
       "      <td>15</td>\n",
       "    </tr>\n",
       "  </tbody>\n",
       "</table>\n",
       "<p>352 rows × 9 columns</p>\n",
       "</div>"
      ],
      "text/plain": [
       "           date day total_coronic  new_coronic total_be_cured  total_deceased  \\\n",
       "0    2021-02-06   토         2,870            2          2,409              96   \n",
       "1    2021-02-05   금         2,868           15          2,409              96   \n",
       "2    2021-02-04   목         2,853           34          2,386              96   \n",
       "3    2021-02-03   수         2,819           24          2,366              95   \n",
       "4    2021-02-02   화         2,795           21          2,339              94   \n",
       "..          ...  ..           ...          ...            ...             ...   \n",
       "347  2020-02-25   화            51           13              0               0   \n",
       "348  2020-02-24   월            38           22              0               0   \n",
       "349  2020-02-23   일            16           11              0               0   \n",
       "350  2020-02-22   토             5            3              0               0   \n",
       "351  2020-02-21   금             2            2              0               0   \n",
       "\n",
       "    negative_result isolated released_from_quarantine  \n",
       "0           312,706    5,281                   96,416  \n",
       "1           310,850    5,275                   95,983  \n",
       "2           308,964    5,289                   95,570  \n",
       "3           306,300    5,273                   95,246  \n",
       "4           304,772    5,269                   94,753  \n",
       "..              ...      ...                      ...  \n",
       "347           1,823      618                       21  \n",
       "348           1,499      263                       22  \n",
       "349           1,076      145                       15  \n",
       "350           1,092      115                       15  \n",
       "351             613       15                       15  \n",
       "\n",
       "[352 rows x 9 columns]"
      ]
     },
     "execution_count": 5,
     "metadata": {},
     "output_type": "execute_result"
    }
   ],
   "source": [
    "data"
   ]
  },
  {
   "cell_type": "code",
   "execution_count": 6,
   "id": "weighted-blast",
   "metadata": {},
   "outputs": [
    {
     "data": {
      "text/html": [
       "<div>\n",
       "<style scoped>\n",
       "    .dataframe tbody tr th:only-of-type {\n",
       "        vertical-align: middle;\n",
       "    }\n",
       "\n",
       "    .dataframe tbody tr th {\n",
       "        vertical-align: top;\n",
       "    }\n",
       "\n",
       "    .dataframe thead th {\n",
       "        text-align: right;\n",
       "    }\n",
       "</style>\n",
       "<table border=\"1\" class=\"dataframe\">\n",
       "  <thead>\n",
       "    <tr style=\"text-align: right;\">\n",
       "      <th></th>\n",
       "      <th>new_coronic</th>\n",
       "      <th>total_deceased</th>\n",
       "    </tr>\n",
       "  </thead>\n",
       "  <tbody>\n",
       "    <tr>\n",
       "      <th>count</th>\n",
       "      <td>352.000000</td>\n",
       "      <td>352.000000</td>\n",
       "    </tr>\n",
       "    <tr>\n",
       "      <th>mean</th>\n",
       "      <td>8.153409</td>\n",
       "      <td>14.315341</td>\n",
       "    </tr>\n",
       "    <tr>\n",
       "      <th>std</th>\n",
       "      <td>13.500841</td>\n",
       "      <td>24.724695</td>\n",
       "    </tr>\n",
       "    <tr>\n",
       "      <th>min</th>\n",
       "      <td>0.000000</td>\n",
       "      <td>0.000000</td>\n",
       "    </tr>\n",
       "    <tr>\n",
       "      <th>25%</th>\n",
       "      <td>0.000000</td>\n",
       "      <td>3.000000</td>\n",
       "    </tr>\n",
       "    <tr>\n",
       "      <th>50%</th>\n",
       "      <td>2.000000</td>\n",
       "      <td>3.000000</td>\n",
       "    </tr>\n",
       "    <tr>\n",
       "      <th>75%</th>\n",
       "      <td>8.000000</td>\n",
       "      <td>15.000000</td>\n",
       "    </tr>\n",
       "    <tr>\n",
       "      <th>max</th>\n",
       "      <td>82.000000</td>\n",
       "      <td>96.000000</td>\n",
       "    </tr>\n",
       "  </tbody>\n",
       "</table>\n",
       "</div>"
      ],
      "text/plain": [
       "       new_coronic  total_deceased\n",
       "count   352.000000      352.000000\n",
       "mean      8.153409       14.315341\n",
       "std      13.500841       24.724695\n",
       "min       0.000000        0.000000\n",
       "25%       0.000000        3.000000\n",
       "50%       2.000000        3.000000\n",
       "75%       8.000000       15.000000\n",
       "max      82.000000       96.000000"
      ]
     },
     "execution_count": 6,
     "metadata": {},
     "output_type": "execute_result"
    }
   ],
   "source": [
    "data.describe()"
   ]
  },
  {
   "cell_type": "code",
   "execution_count": 7,
   "id": "damaged-regression",
   "metadata": {
    "scrolled": false
   },
   "outputs": [
    {
     "data": {
      "text/plain": [
       "date                        object\n",
       "day                         object\n",
       "total_coronic               object\n",
       "new_coronic                  int64\n",
       "total_be_cured              object\n",
       "total_deceased               int64\n",
       "negative_result             object\n",
       "isolated                    object\n",
       "released_from_quarantine    object\n",
       "dtype: object"
      ]
     },
     "execution_count": 7,
     "metadata": {},
     "output_type": "execute_result"
    }
   ],
   "source": [
    "data.dtypes"
   ]
  },
  {
   "cell_type": "code",
   "execution_count": 8,
   "id": "associate-leader",
   "metadata": {},
   "outputs": [],
   "source": [
    "data1 = data[['date', 'day']]\n",
    "# data1"
   ]
  },
  {
   "cell_type": "code",
   "execution_count": 9,
   "id": "seven-jewel",
   "metadata": {},
   "outputs": [],
   "source": [
    "data1 = data1.astype(str)"
   ]
  },
  {
   "cell_type": "code",
   "execution_count": 10,
   "id": "different-wrapping",
   "metadata": {
    "scrolled": false
   },
   "outputs": [
    {
     "data": {
      "text/plain": [
       "date    object\n",
       "day     object\n",
       "dtype: object"
      ]
     },
     "execution_count": 10,
     "metadata": {},
     "output_type": "execute_result"
    }
   ],
   "source": [
    "data1.dtypes"
   ]
  },
  {
   "cell_type": "code",
   "execution_count": 11,
   "id": "compatible-occasions",
   "metadata": {
    "scrolled": false
   },
   "outputs": [
    {
     "data": {
      "text/plain": [
       "0      2,870\n",
       "1      2,868\n",
       "2      2,853\n",
       "3      2,819\n",
       "4      2,795\n",
       "       ...  \n",
       "347       51\n",
       "348       38\n",
       "349       16\n",
       "350        5\n",
       "351        2\n",
       "Name: total_coronic, Length: 352, dtype: object"
      ]
     },
     "execution_count": 11,
     "metadata": {},
     "output_type": "execute_result"
    }
   ],
   "source": [
    "data2 = data.iloc[:, 2]\n",
    "data2"
   ]
  },
  {
   "cell_type": "code",
   "execution_count": 12,
   "id": "derived-conspiracy",
   "metadata": {},
   "outputs": [
    {
     "data": {
      "text/plain": [
       "0      2870\n",
       "1      2868\n",
       "2      2853\n",
       "3      2819\n",
       "4      2795\n",
       "       ... \n",
       "347      51\n",
       "348      38\n",
       "349      16\n",
       "350       5\n",
       "351       2\n",
       "Name: total_coronic, Length: 352, dtype: int64"
      ]
     },
     "execution_count": 12,
     "metadata": {},
     "output_type": "execute_result"
    }
   ],
   "source": [
    "data2 = data2.str.replace(',','').astype('int64')\n",
    "data2 = data2.apply(pd.to_numeric)\n",
    "data2"
   ]
  },
  {
   "cell_type": "code",
   "execution_count": 13,
   "id": "robust-chain",
   "metadata": {},
   "outputs": [
    {
     "data": {
      "text/plain": [
       "0       2\n",
       "1      15\n",
       "2      34\n",
       "3      24\n",
       "4      21\n",
       "       ..\n",
       "347    13\n",
       "348    22\n",
       "349    11\n",
       "350     3\n",
       "351     2\n",
       "Name: new_coronic, Length: 352, dtype: int64"
      ]
     },
     "execution_count": 13,
     "metadata": {},
     "output_type": "execute_result"
    }
   ],
   "source": [
    "data3 = data.iloc[:, 3]\n",
    "data3"
   ]
  },
  {
   "cell_type": "code",
   "execution_count": 14,
   "id": "genuine-grammar",
   "metadata": {},
   "outputs": [
    {
     "data": {
      "text/plain": [
       "0      2,409\n",
       "1      2,409\n",
       "2      2,386\n",
       "3      2,366\n",
       "4      2,339\n",
       "       ...  \n",
       "347        0\n",
       "348        0\n",
       "349        0\n",
       "350        0\n",
       "351        0\n",
       "Name: total_be_cured, Length: 352, dtype: object"
      ]
     },
     "execution_count": 14,
     "metadata": {},
     "output_type": "execute_result"
    }
   ],
   "source": [
    "data4 = data.iloc[:, 4]\n",
    "data4"
   ]
  },
  {
   "cell_type": "code",
   "execution_count": 15,
   "id": "bearing-deployment",
   "metadata": {},
   "outputs": [
    {
     "data": {
      "text/plain": [
       "0      2409\n",
       "1      2409\n",
       "2      2386\n",
       "3      2366\n",
       "4      2339\n",
       "       ... \n",
       "347       0\n",
       "348       0\n",
       "349       0\n",
       "350       0\n",
       "351       0\n",
       "Name: total_be_cured, Length: 352, dtype: int64"
      ]
     },
     "execution_count": 15,
     "metadata": {},
     "output_type": "execute_result"
    }
   ],
   "source": [
    "data4 = data4.str.replace(',','').astype('int64')\n",
    "data4 = data4.apply(pd.to_numeric)\n",
    "data4"
   ]
  },
  {
   "cell_type": "code",
   "execution_count": 16,
   "id": "hidden-contamination",
   "metadata": {},
   "outputs": [
    {
     "data": {
      "text/plain": [
       "0      96\n",
       "1      96\n",
       "2      96\n",
       "3      95\n",
       "4      94\n",
       "       ..\n",
       "347     0\n",
       "348     0\n",
       "349     0\n",
       "350     0\n",
       "351     0\n",
       "Name: total_deceased, Length: 352, dtype: int64"
      ]
     },
     "execution_count": 16,
     "metadata": {},
     "output_type": "execute_result"
    }
   ],
   "source": [
    "data5 = data.iloc[:, 5]\n",
    "data5"
   ]
  },
  {
   "cell_type": "code",
   "execution_count": 17,
   "id": "global-segment",
   "metadata": {},
   "outputs": [
    {
     "data": {
      "text/plain": [
       "negative_result             object\n",
       "isolated                    object\n",
       "released_from_quarantine    object\n",
       "dtype: object"
      ]
     },
     "execution_count": 17,
     "metadata": {},
     "output_type": "execute_result"
    }
   ],
   "source": [
    "data6 = data.iloc[:,6:9]\n",
    "data6.dtypes"
   ]
  },
  {
   "cell_type": "code",
   "execution_count": 18,
   "id": "original-security",
   "metadata": {},
   "outputs": [],
   "source": [
    "for i in range(0,3):\n",
    "    data6.iloc[:,i] = data6.iloc[:,i].str.replace(',','').astype('int64')"
   ]
  },
  {
   "cell_type": "code",
   "execution_count": 19,
   "id": "reported-analysis",
   "metadata": {},
   "outputs": [
    {
     "data": {
      "text/html": [
       "<div>\n",
       "<style scoped>\n",
       "    .dataframe tbody tr th:only-of-type {\n",
       "        vertical-align: middle;\n",
       "    }\n",
       "\n",
       "    .dataframe tbody tr th {\n",
       "        vertical-align: top;\n",
       "    }\n",
       "\n",
       "    .dataframe thead th {\n",
       "        text-align: right;\n",
       "    }\n",
       "</style>\n",
       "<table border=\"1\" class=\"dataframe\">\n",
       "  <thead>\n",
       "    <tr style=\"text-align: right;\">\n",
       "      <th></th>\n",
       "      <th>negative_result</th>\n",
       "      <th>isolated</th>\n",
       "      <th>released_from_quarantine</th>\n",
       "    </tr>\n",
       "  </thead>\n",
       "  <tbody>\n",
       "    <tr>\n",
       "      <th>0</th>\n",
       "      <td>312706</td>\n",
       "      <td>5281</td>\n",
       "      <td>96416</td>\n",
       "    </tr>\n",
       "    <tr>\n",
       "      <th>1</th>\n",
       "      <td>310850</td>\n",
       "      <td>5275</td>\n",
       "      <td>95983</td>\n",
       "    </tr>\n",
       "    <tr>\n",
       "      <th>2</th>\n",
       "      <td>308964</td>\n",
       "      <td>5289</td>\n",
       "      <td>95570</td>\n",
       "    </tr>\n",
       "    <tr>\n",
       "      <th>3</th>\n",
       "      <td>306300</td>\n",
       "      <td>5273</td>\n",
       "      <td>95246</td>\n",
       "    </tr>\n",
       "    <tr>\n",
       "      <th>4</th>\n",
       "      <td>304772</td>\n",
       "      <td>5269</td>\n",
       "      <td>94753</td>\n",
       "    </tr>\n",
       "    <tr>\n",
       "      <th>...</th>\n",
       "      <td>...</td>\n",
       "      <td>...</td>\n",
       "      <td>...</td>\n",
       "    </tr>\n",
       "    <tr>\n",
       "      <th>347</th>\n",
       "      <td>1823</td>\n",
       "      <td>618</td>\n",
       "      <td>21</td>\n",
       "    </tr>\n",
       "    <tr>\n",
       "      <th>348</th>\n",
       "      <td>1499</td>\n",
       "      <td>263</td>\n",
       "      <td>22</td>\n",
       "    </tr>\n",
       "    <tr>\n",
       "      <th>349</th>\n",
       "      <td>1076</td>\n",
       "      <td>145</td>\n",
       "      <td>15</td>\n",
       "    </tr>\n",
       "    <tr>\n",
       "      <th>350</th>\n",
       "      <td>1092</td>\n",
       "      <td>115</td>\n",
       "      <td>15</td>\n",
       "    </tr>\n",
       "    <tr>\n",
       "      <th>351</th>\n",
       "      <td>613</td>\n",
       "      <td>15</td>\n",
       "      <td>15</td>\n",
       "    </tr>\n",
       "  </tbody>\n",
       "</table>\n",
       "<p>352 rows × 3 columns</p>\n",
       "</div>"
      ],
      "text/plain": [
       "     negative_result  isolated  released_from_quarantine\n",
       "0             312706      5281                     96416\n",
       "1             310850      5275                     95983\n",
       "2             308964      5289                     95570\n",
       "3             306300      5273                     95246\n",
       "4             304772      5269                     94753\n",
       "..               ...       ...                       ...\n",
       "347             1823       618                        21\n",
       "348             1499       263                        22\n",
       "349             1076       145                        15\n",
       "350             1092       115                        15\n",
       "351              613        15                        15\n",
       "\n",
       "[352 rows x 3 columns]"
      ]
     },
     "execution_count": 19,
     "metadata": {},
     "output_type": "execute_result"
    }
   ],
   "source": [
    "data6"
   ]
  },
  {
   "cell_type": "code",
   "execution_count": 20,
   "id": "quality-shakespeare",
   "metadata": {},
   "outputs": [],
   "source": [
    "data6 = data6.apply(pd.to_numeric)"
   ]
  },
  {
   "cell_type": "code",
   "execution_count": 21,
   "id": "determined-coast",
   "metadata": {},
   "outputs": [],
   "source": [
    "data = pd.concat([data1, data2, data3, data4, data5, data6], axis=1)"
   ]
  },
  {
   "cell_type": "code",
   "execution_count": 22,
   "id": "wrapped-superior",
   "metadata": {
    "scrolled": false
   },
   "outputs": [
    {
     "data": {
      "text/html": [
       "<div>\n",
       "<style scoped>\n",
       "    .dataframe tbody tr th:only-of-type {\n",
       "        vertical-align: middle;\n",
       "    }\n",
       "\n",
       "    .dataframe tbody tr th {\n",
       "        vertical-align: top;\n",
       "    }\n",
       "\n",
       "    .dataframe thead th {\n",
       "        text-align: right;\n",
       "    }\n",
       "</style>\n",
       "<table border=\"1\" class=\"dataframe\">\n",
       "  <thead>\n",
       "    <tr style=\"text-align: right;\">\n",
       "      <th></th>\n",
       "      <th>date</th>\n",
       "      <th>day</th>\n",
       "      <th>total_coronic</th>\n",
       "      <th>new_coronic</th>\n",
       "      <th>total_be_cured</th>\n",
       "      <th>total_deceased</th>\n",
       "      <th>negative_result</th>\n",
       "      <th>isolated</th>\n",
       "      <th>released_from_quarantine</th>\n",
       "    </tr>\n",
       "  </thead>\n",
       "  <tbody>\n",
       "    <tr>\n",
       "      <th>0</th>\n",
       "      <td>2021-02-06</td>\n",
       "      <td>토</td>\n",
       "      <td>2870</td>\n",
       "      <td>2</td>\n",
       "      <td>2409</td>\n",
       "      <td>96</td>\n",
       "      <td>312706</td>\n",
       "      <td>5281</td>\n",
       "      <td>96416</td>\n",
       "    </tr>\n",
       "    <tr>\n",
       "      <th>1</th>\n",
       "      <td>2021-02-05</td>\n",
       "      <td>금</td>\n",
       "      <td>2868</td>\n",
       "      <td>15</td>\n",
       "      <td>2409</td>\n",
       "      <td>96</td>\n",
       "      <td>310850</td>\n",
       "      <td>5275</td>\n",
       "      <td>95983</td>\n",
       "    </tr>\n",
       "    <tr>\n",
       "      <th>2</th>\n",
       "      <td>2021-02-04</td>\n",
       "      <td>목</td>\n",
       "      <td>2853</td>\n",
       "      <td>34</td>\n",
       "      <td>2386</td>\n",
       "      <td>96</td>\n",
       "      <td>308964</td>\n",
       "      <td>5289</td>\n",
       "      <td>95570</td>\n",
       "    </tr>\n",
       "    <tr>\n",
       "      <th>3</th>\n",
       "      <td>2021-02-03</td>\n",
       "      <td>수</td>\n",
       "      <td>2819</td>\n",
       "      <td>24</td>\n",
       "      <td>2366</td>\n",
       "      <td>95</td>\n",
       "      <td>306300</td>\n",
       "      <td>5273</td>\n",
       "      <td>95246</td>\n",
       "    </tr>\n",
       "    <tr>\n",
       "      <th>4</th>\n",
       "      <td>2021-02-02</td>\n",
       "      <td>화</td>\n",
       "      <td>2795</td>\n",
       "      <td>21</td>\n",
       "      <td>2339</td>\n",
       "      <td>94</td>\n",
       "      <td>304772</td>\n",
       "      <td>5269</td>\n",
       "      <td>94753</td>\n",
       "    </tr>\n",
       "    <tr>\n",
       "      <th>...</th>\n",
       "      <td>...</td>\n",
       "      <td>...</td>\n",
       "      <td>...</td>\n",
       "      <td>...</td>\n",
       "      <td>...</td>\n",
       "      <td>...</td>\n",
       "      <td>...</td>\n",
       "      <td>...</td>\n",
       "      <td>...</td>\n",
       "    </tr>\n",
       "    <tr>\n",
       "      <th>347</th>\n",
       "      <td>2020-02-25</td>\n",
       "      <td>화</td>\n",
       "      <td>51</td>\n",
       "      <td>13</td>\n",
       "      <td>0</td>\n",
       "      <td>0</td>\n",
       "      <td>1823</td>\n",
       "      <td>618</td>\n",
       "      <td>21</td>\n",
       "    </tr>\n",
       "    <tr>\n",
       "      <th>348</th>\n",
       "      <td>2020-02-24</td>\n",
       "      <td>월</td>\n",
       "      <td>38</td>\n",
       "      <td>22</td>\n",
       "      <td>0</td>\n",
       "      <td>0</td>\n",
       "      <td>1499</td>\n",
       "      <td>263</td>\n",
       "      <td>22</td>\n",
       "    </tr>\n",
       "    <tr>\n",
       "      <th>349</th>\n",
       "      <td>2020-02-23</td>\n",
       "      <td>일</td>\n",
       "      <td>16</td>\n",
       "      <td>11</td>\n",
       "      <td>0</td>\n",
       "      <td>0</td>\n",
       "      <td>1076</td>\n",
       "      <td>145</td>\n",
       "      <td>15</td>\n",
       "    </tr>\n",
       "    <tr>\n",
       "      <th>350</th>\n",
       "      <td>2020-02-22</td>\n",
       "      <td>토</td>\n",
       "      <td>5</td>\n",
       "      <td>3</td>\n",
       "      <td>0</td>\n",
       "      <td>0</td>\n",
       "      <td>1092</td>\n",
       "      <td>115</td>\n",
       "      <td>15</td>\n",
       "    </tr>\n",
       "    <tr>\n",
       "      <th>351</th>\n",
       "      <td>2020-02-21</td>\n",
       "      <td>금</td>\n",
       "      <td>2</td>\n",
       "      <td>2</td>\n",
       "      <td>0</td>\n",
       "      <td>0</td>\n",
       "      <td>613</td>\n",
       "      <td>15</td>\n",
       "      <td>15</td>\n",
       "    </tr>\n",
       "  </tbody>\n",
       "</table>\n",
       "<p>352 rows × 9 columns</p>\n",
       "</div>"
      ],
      "text/plain": [
       "           date day  total_coronic  new_coronic  total_be_cured  \\\n",
       "0    2021-02-06   토           2870            2            2409   \n",
       "1    2021-02-05   금           2868           15            2409   \n",
       "2    2021-02-04   목           2853           34            2386   \n",
       "3    2021-02-03   수           2819           24            2366   \n",
       "4    2021-02-02   화           2795           21            2339   \n",
       "..          ...  ..            ...          ...             ...   \n",
       "347  2020-02-25   화             51           13               0   \n",
       "348  2020-02-24   월             38           22               0   \n",
       "349  2020-02-23   일             16           11               0   \n",
       "350  2020-02-22   토              5            3               0   \n",
       "351  2020-02-21   금              2            2               0   \n",
       "\n",
       "     total_deceased  negative_result  isolated  released_from_quarantine  \n",
       "0                96           312706      5281                     96416  \n",
       "1                96           310850      5275                     95983  \n",
       "2                96           308964      5289                     95570  \n",
       "3                95           306300      5273                     95246  \n",
       "4                94           304772      5269                     94753  \n",
       "..              ...              ...       ...                       ...  \n",
       "347               0             1823       618                        21  \n",
       "348               0             1499       263                        22  \n",
       "349               0             1076       145                        15  \n",
       "350               0             1092       115                        15  \n",
       "351               0              613        15                        15  \n",
       "\n",
       "[352 rows x 9 columns]"
      ]
     },
     "execution_count": 22,
     "metadata": {},
     "output_type": "execute_result"
    }
   ],
   "source": [
    "data"
   ]
  },
  {
   "cell_type": "markdown",
   "id": "anonymous-cigarette",
   "metadata": {},
   "source": []
  }
 ],
 "metadata": {
  "kernelspec": {
   "display_name": "Python 3",
   "language": "python",
   "name": "python3"
  },
  "language_info": {
   "codemirror_mode": {
    "name": "ipython",
    "version": 3
   },
   "file_extension": ".py",
   "mimetype": "text/x-python",
   "name": "python",
   "nbconvert_exporter": "python",
   "pygments_lexer": "ipython3",
   "version": "3.8.7"
  }
 },
 "nbformat": 4,
 "nbformat_minor": 5
}
